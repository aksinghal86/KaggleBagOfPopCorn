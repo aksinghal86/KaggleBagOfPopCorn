{
 "cells": [
  {
   "cell_type": "markdown",
   "metadata": {},
   "source": [
    "# Kaggle Bag of Popcorn challenge\n",
    ">In this tutorial competition, we dig a little \"deeper\" into sentiment analysis. Google's Word2Vec is a deep-learning inspired method that focuses on the meaning of words. Word2Vec attempts to understand meaning and semantic relationships among words. It works in a way that is similar to deep approaches, such as recurrent neural nets or deep neural nets, but is computationally more efficient. This tutorial focuses on Word2Vec for sentiment analysis.\n",
    ">\n",
    ">Sentiment analysis is a challenging subject in machine learning. People express their emotions in language that is often obscured by sarcasm, ambiguity, and plays on words, all of which could be very misleading for both humans and computers. There's another Kaggle competition for movie review sentiment analysis. In this tutorial we explore how Word2Vec can be applied to a similar problem.\n",
    ">\n",
    ">Deep learning has been in the news a lot over the past few years, even making it to the front page of the New York Times. These machine learning techniques, inspired by the architecture of the human brain and made possible by recent advances in computing power, have been making waves via breakthrough results in image recognition, speech processing, and natural language tasks. Recently, deep learning approaches won several Kaggle competitions, including a drug discovery task, and cat and dog image recognition.\n",
    ">\n",
    ">__Tutorial Overview__\n",
    ">\n",
    ">This tutorial will help you get started with Word2Vec for natural language processing. It has two goals: \n",
    ">\n",
    ">Basic Natural Language Processing: Part 1 of this tutorial is intended for beginners and covers basic natural language processing techniques, which are needed for later parts of the tutorial.\n",
    ">\n",
    ">Deep Learning for Text Understanding: In Parts 2 and 3, we delve into how to train a model using Word2Vec and how to use the resulting word vectors for sentiment analysis.\n",
    ">\n",
    ">Since deep learning is a rapidly evolving field, large amounts of the work has not yet been published, or exists only as academic papers. Part 3 of the tutorial is more exploratory than prescriptive -- we experiment with several ways of using Word2Vec rather than giving you a recipe for using the output.\n",
    ">\n",
    ">To achieve these goals, we rely on an IMDB sentiment analysis data set, which has 100,000 multi-paragraph movie reviews, both positive and negative. "
   ]
  },
  {
   "cell_type": "markdown",
   "metadata": {},
   "source": [
    "In this notebook, I'll first explore the Frequency-based methods such as BOW and TFIDF.  In other notebooks, I'll delve into Word2Vec and deep learning approaches"
   ]
  },
  {
   "cell_type": "markdown",
   "metadata": {},
   "source": [
    "## 1. Load the Data"
   ]
  },
  {
   "cell_type": "code",
   "execution_count": 2,
   "metadata": {},
   "outputs": [
    {
     "data": {
      "text/plain": [
       "(25000, 3)"
      ]
     },
     "execution_count": 2,
     "metadata": {},
     "output_type": "execute_result"
    }
   ],
   "source": [
    "# Load the data\n",
    "import pandas as pd\n",
    "\n",
    "data = pd.read_csv('labeledTrainData.tsv', header=0, delimiter='\\t', quoting=3)\n",
    "data.shape"
   ]
  },
  {
   "cell_type": "code",
   "execution_count": 3,
   "metadata": {},
   "outputs": [
    {
     "data": {
      "text/html": [
       "<div>\n",
       "<style scoped>\n",
       "    .dataframe tbody tr th:only-of-type {\n",
       "        vertical-align: middle;\n",
       "    }\n",
       "\n",
       "    .dataframe tbody tr th {\n",
       "        vertical-align: top;\n",
       "    }\n",
       "\n",
       "    .dataframe thead th {\n",
       "        text-align: right;\n",
       "    }\n",
       "</style>\n",
       "<table border=\"1\" class=\"dataframe\">\n",
       "  <thead>\n",
       "    <tr style=\"text-align: right;\">\n",
       "      <th></th>\n",
       "      <th>id</th>\n",
       "      <th>sentiment</th>\n",
       "      <th>review</th>\n",
       "    </tr>\n",
       "  </thead>\n",
       "  <tbody>\n",
       "    <tr>\n",
       "      <th>0</th>\n",
       "      <td>\"5814_8\"</td>\n",
       "      <td>1</td>\n",
       "      <td>\"With all this stuff going down at the moment ...</td>\n",
       "    </tr>\n",
       "    <tr>\n",
       "      <th>1</th>\n",
       "      <td>\"2381_9\"</td>\n",
       "      <td>1</td>\n",
       "      <td>\"\\\"The Classic War of the Worlds\\\" by Timothy ...</td>\n",
       "    </tr>\n",
       "    <tr>\n",
       "      <th>2</th>\n",
       "      <td>\"7759_3\"</td>\n",
       "      <td>0</td>\n",
       "      <td>\"The film starts with a manager (Nicholas Bell...</td>\n",
       "    </tr>\n",
       "    <tr>\n",
       "      <th>3</th>\n",
       "      <td>\"3630_4\"</td>\n",
       "      <td>0</td>\n",
       "      <td>\"It must be assumed that those who praised thi...</td>\n",
       "    </tr>\n",
       "    <tr>\n",
       "      <th>4</th>\n",
       "      <td>\"9495_8\"</td>\n",
       "      <td>1</td>\n",
       "      <td>\"Superbly trashy and wondrously unpretentious ...</td>\n",
       "    </tr>\n",
       "    <tr>\n",
       "      <th>5</th>\n",
       "      <td>\"8196_8\"</td>\n",
       "      <td>1</td>\n",
       "      <td>\"I dont know why people think this is such a b...</td>\n",
       "    </tr>\n",
       "    <tr>\n",
       "      <th>6</th>\n",
       "      <td>\"7166_2\"</td>\n",
       "      <td>0</td>\n",
       "      <td>\"This movie could have been very good, but com...</td>\n",
       "    </tr>\n",
       "    <tr>\n",
       "      <th>7</th>\n",
       "      <td>\"10633_1\"</td>\n",
       "      <td>0</td>\n",
       "      <td>\"I watched this video at a friend's house. I'm...</td>\n",
       "    </tr>\n",
       "    <tr>\n",
       "      <th>8</th>\n",
       "      <td>\"319_1\"</td>\n",
       "      <td>0</td>\n",
       "      <td>\"A friend of mine bought this film for £1, and...</td>\n",
       "    </tr>\n",
       "    <tr>\n",
       "      <th>9</th>\n",
       "      <td>\"8713_10\"</td>\n",
       "      <td>1</td>\n",
       "      <td>\"&lt;br /&gt;&lt;br /&gt;This movie is full of references....</td>\n",
       "    </tr>\n",
       "  </tbody>\n",
       "</table>\n",
       "</div>"
      ],
      "text/plain": [
       "          id  sentiment                                             review\n",
       "0   \"5814_8\"          1  \"With all this stuff going down at the moment ...\n",
       "1   \"2381_9\"          1  \"\\\"The Classic War of the Worlds\\\" by Timothy ...\n",
       "2   \"7759_3\"          0  \"The film starts with a manager (Nicholas Bell...\n",
       "3   \"3630_4\"          0  \"It must be assumed that those who praised thi...\n",
       "4   \"9495_8\"          1  \"Superbly trashy and wondrously unpretentious ...\n",
       "5   \"8196_8\"          1  \"I dont know why people think this is such a b...\n",
       "6   \"7166_2\"          0  \"This movie could have been very good, but com...\n",
       "7  \"10633_1\"          0  \"I watched this video at a friend's house. I'm...\n",
       "8    \"319_1\"          0  \"A friend of mine bought this film for £1, and...\n",
       "9  \"8713_10\"          1  \"<br /><br />This movie is full of references...."
      ]
     },
     "execution_count": 3,
     "metadata": {},
     "output_type": "execute_result"
    }
   ],
   "source": [
    "data.head(10)"
   ]
  },
  {
   "cell_type": "code",
   "execution_count": 4,
   "metadata": {
    "scrolled": true
   },
   "outputs": [
    {
     "data": {
      "text/plain": [
       "'\"With all this stuff going down at the moment with MJ i\\'ve started listening to his music, watching the odd documentary here and there, watched The Wiz and watched Moonwalker again. Maybe i just want to get a certain insight into this guy who i thought was really cool in the eighties just to maybe make up my mind whether he is guilty or innocent. Moonwalker is part biography, part feature film which i remember going to see at the cinema when it was originally released. Some of it has subtle messages about MJ\\'s feeling towards the press and also the obvious message of drugs are bad m\\'kay.<br /><br />Visually impressive but of course this is all about Michael Jackson so unless you remotely like MJ in anyway then you are going to hate this and find it boring. Some may call MJ an egotist for consenting to the making of this movie BUT MJ and most of his fans would say that he made it for the fans which if true is really nice of him.<br /><br />The actual feature film bit when it finally starts is only on for 20 minutes or so excluding the Smooth Criminal sequence and Joe Pesci is convincing as a psychopathic all powerful drug lord. Why he wants MJ dead so bad is beyond me. Because MJ overheard his plans? Nah, Joe Pesci\\'s character ranted that he wanted people to know it is he who is supplying drugs etc so i dunno, maybe he just hates MJ\\'s music.<br /><br />Lots of cool things in this like MJ turning into a car and a robot and the whole Speed Demon sequence. Also, the director must have had the patience of a saint when it came to filming the kiddy Bad sequence as usually directors hate working with one kid let alone a whole bunch of them performing a complex dance scene.<br /><br />Bottom line, this movie is for people who like MJ on one level or another (which i think is most people). If not, then stay away. It does try and give off a wholesome message and ironically MJ\\'s bestest buddy in this movie is a girl! Michael Jackson is truly one of the most talented people ever to grace this planet but is he guilty? Well, with all the attention i\\'ve gave this subject....hmmm well i don\\'t know because people can be different behind closed doors, i know this for a fact. He is either an extremely nice but stupid guy or one of the most sickest liars. I hope he is not the latter.\"'"
      ]
     },
     "execution_count": 4,
     "metadata": {},
     "output_type": "execute_result"
    }
   ],
   "source": [
    "data['review'][0]"
   ]
  },
  {
   "cell_type": "markdown",
   "metadata": {},
   "source": [
    "## 2. Text Preprocessing"
   ]
  },
  {
   "cell_type": "code",
   "execution_count": 5,
   "metadata": {},
   "outputs": [],
   "source": [
    "from bs4 import BeautifulSoup\n",
    "import nltk\n",
    "import re\n",
    "import numpy as np\n",
    "\n",
    "wpt = nltk.WordPunctTokenizer()\n",
    "\n",
    "# convert from list to set b/c in Python searching a set is much faster than searching a list\n",
    "# Not shown here, but the difference in speed for this data set is nearly 4-fold, i.e., \n",
    "# searching the list takes abou 4x longer than searching a set. \n",
    "stop_words = set(nltk.corpus.stopwords.words('english'))\n",
    "\n",
    "def clean_text(text):\n",
    "    # strip html tags\n",
    "    text = BeautifulSoup(text, \"html.parser\").get_text()\n",
    "    \n",
    "    # lower case, remove special characters, and strip leading and trailing whitespaces\n",
    "    text = re.sub(r'[^a-zA-Z\\s]', ' ', text, re.I|re.A)\n",
    "    text = text.lower()\n",
    "    text = text.strip()\n",
    "    \n",
    "    # tokenize\n",
    "    tokens = wpt.tokenize(text)\n",
    "    \n",
    "    # filter out stopwords\n",
    "    filtered_tokens = [word for word in tokens if word not in stop_words]\n",
    "    \n",
    "    # Join text back\n",
    "    text = ' '.join(filtered_tokens)\n",
    "    return text\n",
    "\n",
    "clean_corpus = np.vectorize(clean_text)"
   ]
  },
  {
   "cell_type": "code",
   "execution_count": 6,
   "metadata": {},
   "outputs": [
    {
     "data": {
      "text/html": [
       "<div>\n",
       "<style scoped>\n",
       "    .dataframe tbody tr th:only-of-type {\n",
       "        vertical-align: middle;\n",
       "    }\n",
       "\n",
       "    .dataframe tbody tr th {\n",
       "        vertical-align: top;\n",
       "    }\n",
       "\n",
       "    .dataframe thead th {\n",
       "        text-align: right;\n",
       "    }\n",
       "</style>\n",
       "<table border=\"1\" class=\"dataframe\">\n",
       "  <thead>\n",
       "    <tr style=\"text-align: right;\">\n",
       "      <th></th>\n",
       "      <th>id</th>\n",
       "      <th>sentiment</th>\n",
       "      <th>review</th>\n",
       "      <th>clean_review</th>\n",
       "    </tr>\n",
       "  </thead>\n",
       "  <tbody>\n",
       "    <tr>\n",
       "      <th>0</th>\n",
       "      <td>\"5814_8\"</td>\n",
       "      <td>1</td>\n",
       "      <td>\"With all this stuff going down at the moment ...</td>\n",
       "      <td>stuff going moment mj started listening music ...</td>\n",
       "    </tr>\n",
       "    <tr>\n",
       "      <th>1</th>\n",
       "      <td>\"2381_9\"</td>\n",
       "      <td>1</td>\n",
       "      <td>\"\\\"The Classic War of the Worlds\\\" by Timothy ...</td>\n",
       "      <td>classic war worlds timothy hines entertaining ...</td>\n",
       "    </tr>\n",
       "    <tr>\n",
       "      <th>2</th>\n",
       "      <td>\"7759_3\"</td>\n",
       "      <td>0</td>\n",
       "      <td>\"The film starts with a manager (Nicholas Bell...</td>\n",
       "      <td>film starts manager nicholas bell giving welco...</td>\n",
       "    </tr>\n",
       "    <tr>\n",
       "      <th>3</th>\n",
       "      <td>\"3630_4\"</td>\n",
       "      <td>0</td>\n",
       "      <td>\"It must be assumed that those who praised thi...</td>\n",
       "      <td>must assumed praised film greatest filmed oper...</td>\n",
       "    </tr>\n",
       "    <tr>\n",
       "      <th>4</th>\n",
       "      <td>\"9495_8\"</td>\n",
       "      <td>1</td>\n",
       "      <td>\"Superbly trashy and wondrously unpretentious ...</td>\n",
       "      <td>superbly trashy wondrously unpretentious explo...</td>\n",
       "    </tr>\n",
       "    <tr>\n",
       "      <th>5</th>\n",
       "      <td>\"8196_8\"</td>\n",
       "      <td>1</td>\n",
       "      <td>\"I dont know why people think this is such a b...</td>\n",
       "      <td>dont know people think bad movie got pretty go...</td>\n",
       "    </tr>\n",
       "    <tr>\n",
       "      <th>6</th>\n",
       "      <td>\"7166_2\"</td>\n",
       "      <td>0</td>\n",
       "      <td>\"This movie could have been very good, but com...</td>\n",
       "      <td>movie could good comes way short cheesy specia...</td>\n",
       "    </tr>\n",
       "    <tr>\n",
       "      <th>7</th>\n",
       "      <td>\"10633_1\"</td>\n",
       "      <td>0</td>\n",
       "      <td>\"I watched this video at a friend's house. I'm...</td>\n",
       "      <td>watched video friend house glad waste money bu...</td>\n",
       "    </tr>\n",
       "    <tr>\n",
       "      <th>8</th>\n",
       "      <td>\"319_1\"</td>\n",
       "      <td>0</td>\n",
       "      <td>\"A friend of mine bought this film for £1, and...</td>\n",
       "      <td>friend mine bought film even grossly overprice...</td>\n",
       "    </tr>\n",
       "    <tr>\n",
       "      <th>9</th>\n",
       "      <td>\"8713_10\"</td>\n",
       "      <td>1</td>\n",
       "      <td>\"&lt;br /&gt;&lt;br /&gt;This movie is full of references....</td>\n",
       "      <td>movie full references like mad max ii wild one...</td>\n",
       "    </tr>\n",
       "  </tbody>\n",
       "</table>\n",
       "</div>"
      ],
      "text/plain": [
       "          id  sentiment                                             review  \\\n",
       "0   \"5814_8\"          1  \"With all this stuff going down at the moment ...   \n",
       "1   \"2381_9\"          1  \"\\\"The Classic War of the Worlds\\\" by Timothy ...   \n",
       "2   \"7759_3\"          0  \"The film starts with a manager (Nicholas Bell...   \n",
       "3   \"3630_4\"          0  \"It must be assumed that those who praised thi...   \n",
       "4   \"9495_8\"          1  \"Superbly trashy and wondrously unpretentious ...   \n",
       "5   \"8196_8\"          1  \"I dont know why people think this is such a b...   \n",
       "6   \"7166_2\"          0  \"This movie could have been very good, but com...   \n",
       "7  \"10633_1\"          0  \"I watched this video at a friend's house. I'm...   \n",
       "8    \"319_1\"          0  \"A friend of mine bought this film for £1, and...   \n",
       "9  \"8713_10\"          1  \"<br /><br />This movie is full of references....   \n",
       "\n",
       "                                        clean_review  \n",
       "0  stuff going moment mj started listening music ...  \n",
       "1  classic war worlds timothy hines entertaining ...  \n",
       "2  film starts manager nicholas bell giving welco...  \n",
       "3  must assumed praised film greatest filmed oper...  \n",
       "4  superbly trashy wondrously unpretentious explo...  \n",
       "5  dont know people think bad movie got pretty go...  \n",
       "6  movie could good comes way short cheesy specia...  \n",
       "7  watched video friend house glad waste money bu...  \n",
       "8  friend mine bought film even grossly overprice...  \n",
       "9  movie full references like mad max ii wild one...  "
      ]
     },
     "execution_count": 6,
     "metadata": {},
     "output_type": "execute_result"
    }
   ],
   "source": [
    "# use vectorization to clean the text and append to dataframe\n",
    "data['clean_review'] = clean_corpus(data['review'])\n",
    "\n",
    "data.head(10)"
   ]
  },
  {
   "cell_type": "markdown",
   "metadata": {},
   "source": [
    "## 3. Split the data"
   ]
  },
  {
   "cell_type": "code",
   "execution_count": 7,
   "metadata": {},
   "outputs": [],
   "source": [
    "from sklearn.model_selection import train_test_split\n",
    "\n",
    "X_train, X_test, y_train, y_test = train_test_split(\n",
    "    data['clean_review'], data['sentiment'], test_size=0.4, random_state=0)"
   ]
  },
  {
   "cell_type": "code",
   "execution_count": 8,
   "metadata": {},
   "outputs": [
    {
     "name": "stdout",
     "output_type": "stream",
     "text": [
      "(15000,) (15000,)\n"
     ]
    }
   ],
   "source": [
    "print(X_train.shape, y_train.shape)"
   ]
  },
  {
   "cell_type": "code",
   "execution_count": 9,
   "metadata": {},
   "outputs": [
    {
     "name": "stdout",
     "output_type": "stream",
     "text": [
      "(10000,) (10000,)\n"
     ]
    }
   ],
   "source": [
    "print(X_test.shape, y_test.shape)"
   ]
  },
  {
   "cell_type": "markdown",
   "metadata": {},
   "source": [
    "## 4. Analyze Using Frequency-Based Approaches\n",
    "\n",
    "Traditional approaches that use some variation of frequency of word appearance in the text. These include\n",
    "    1. Bag of Words\n",
    "    2. TFIDF\n",
    "\n",
    "These are typically faster and easier to implement than the more advanced Word2Vec approaches.  Will start with these approaches to see how they perform and then move on to more complex methods"
   ]
  },
  {
   "cell_type": "markdown",
   "metadata": {},
   "source": [
    "### 4.1 Bag of Words (BOW)\n",
    "\n",
    "This method simply counts the number of times a word appears in a document.  I'll be implementing BOW using scikit learn's `CountVectorizer`"
   ]
  },
  {
   "cell_type": "markdown",
   "metadata": {},
   "source": [
    "#### 4.1.1 Train the model"
   ]
  },
  {
   "cell_type": "code",
   "execution_count": 10,
   "metadata": {
    "scrolled": true
   },
   "outputs": [
    {
     "name": "stdout",
     "output_type": "stream",
     "text": [
      "(15000, 10000)\n"
     ]
    }
   ],
   "source": [
    "from sklearn.feature_extraction.text import CountVectorizer\n",
    "\n",
    "# Only use the top 10,000 words\n",
    "cv = CountVectorizer(max_features=10000)\n",
    "train_data_features = cv.fit_transform(X_train)\n",
    "print(train_data_features.shape)"
   ]
  },
  {
   "cell_type": "code",
   "execution_count": 11,
   "metadata": {},
   "outputs": [
    {
     "name": "stdout",
     "output_type": "stream",
     "text": [
      "['aag', 'aaron', 'abandon', 'abandoned', 'abbot', 'abbott', 'abc', 'abducted', 'abe', 'abhay', 'abigail', 'abilities', 'ability', 'able', 'aboard', 'abominable', 'abomination', 'abortion', 'abound', 'abraham', 'abroad', 'abrupt', 'abruptly', 'absence', 'absent', 'absolute', 'absolutely', 'absorbed', 'absorbing', 'abstract', 'absurd', 'absurdity', 'abu', 'abundance', 'abuse', 'abused', 'abusive', 'abysmal', 'academy', 'accent', 'accents', 'accept', 'acceptable', 'acceptance', 'accepted', 'accepting', 'accepts', 'access', 'accessible', 'accident', 'accidental', 'accidentally', 'acclaim', 'acclaimed', 'accompanied', 'accompanying', 'accomplish', 'accomplished', 'accomplishment', 'according', 'account', 'accounts', 'accuracy', 'accurate', 'accurately', 'accused', 'ace', 'achieve', 'achieved', 'achievement', 'achievements', 'achieves', 'achieving', 'achilles', 'acid', 'acknowledge', 'acknowledged', 'acquire', 'acquired', 'across', 'act', 'acted', 'acting', 'action', 'actions', 'active', 'activities', 'activity', 'actor', 'actors', 'actress', 'actresses', 'acts', 'actual', 'actuality', 'actually', 'ad', 'ada', 'adam', 'adams']\n"
     ]
    }
   ],
   "source": [
    "vocab = cv.get_feature_names()\n",
    "print(vocab[:100])"
   ]
  },
  {
   "cell_type": "markdown",
   "metadata": {},
   "source": [
    "#### 4.1.2 Random Forest Classifier"
   ]
  },
  {
   "cell_type": "code",
   "execution_count": 12,
   "metadata": {},
   "outputs": [],
   "source": [
    "from sklearn.ensemble import RandomForestClassifier\n",
    "\n",
    "forest = RandomForestClassifier(n_estimators=100)\n",
    "forest = forest.fit(train_data_features, y_train)"
   ]
  },
  {
   "cell_type": "markdown",
   "metadata": {},
   "source": [
    "#### 4.1.3 Evaluate model"
   ]
  },
  {
   "cell_type": "code",
   "execution_count": 13,
   "metadata": {},
   "outputs": [],
   "source": [
    "# Predict on train set\n",
    "y_train_pred = forest.predict(train_data_features)\n",
    "\n",
    "# BOW on test data set\n",
    "test_data_features = cv.transform(X_test)\n",
    "\n",
    "# Predict sentiments on test set using the trained forest classifer\n",
    "y_test_pred = forest.predict(test_data_features)"
   ]
  },
  {
   "cell_type": "code",
   "execution_count": 51,
   "metadata": {},
   "outputs": [],
   "source": [
    "from sklearn.metrics import confusion_matrix\n",
    "import seaborn as sns\n",
    "import matplotlib.pyplot as plt\n",
    "\n",
    "def plot_confusion_matrix(y_true, y_pred, ax, vmax=None,\n",
    "                          normed=True, title='Confusion matrix'):\n",
    "    cm = confusion_matrix(y_true, y_pred)\n",
    "    if normed:\n",
    "        cm = cm.astype('float') / cm.sum(axis=1)[:, np.newaxis]\n",
    "    sns.heatmap(cm, vmax=vmax, annot=True, square=True, ax=ax, \n",
    "                cmap='Blues', cbar=False, linecolor='k',\n",
    "               linewidths=1)\n",
    "    ax.set_title(title, fontsize=16)\n",
    "    ax.set_ylabel('True labels', fontsize=12)\n",
    "    ax.set_xlabel('Predicted labels', y=1.10, fontsize=12)"
   ]
  },
  {
   "cell_type": "code",
   "execution_count": 52,
   "metadata": {},
   "outputs": [
    {
     "data": {
      "image/png": "[encoded data removed]",
      "text/plain": [
       "<Figure size 1008x432 with 2 Axes>"
      ]
     },
     "metadata": {
      "needs_background": "light"
     },
     "output_type": "display_data"
    }
   ],
   "source": [
    "fig, (axis1, axis2) = plt.subplots(nrows=1, ncols=2, figsize=(14, 6))\n",
    "plot_confusion_matrix(y_train, y_train_pred, ax=axis1, \n",
    "                      title='Confusion matrix (train data)')\n",
    "plot_confusion_matrix(y_test, y_test_pred, ax=axis2, \n",
    "                      title='Confusion matrix (test data)')\n"
   ]
  },
  {
   "cell_type": "code",
   "execution_count": 53,
   "metadata": {},
   "outputs": [
    {
     "name": "stdout",
     "output_type": "stream",
     "text": [
      "Classification report on Test set: \n",
      "               precision    recall  f1-score   support\n",
      "\n",
      "           0       0.85      0.86      0.85      5055\n",
      "           1       0.85      0.84      0.85      4945\n",
      "\n",
      "    accuracy                           0.85     10000\n",
      "   macro avg       0.85      0.85      0.85     10000\n",
      "weighted avg       0.85      0.85      0.85     10000\n",
      "\n"
     ]
    }
   ],
   "source": [
    "from sklearn.metrics import classification_report\n",
    "print('Classification report on Test set: \\n', classification_report(y_test, y_test_pred))"
   ]
  },
  {
   "cell_type": "markdown",
   "metadata": {},
   "source": [
    "The simple BOW performs surprisingly well on this data with an accuracy of 85% and an F1 score of 85%. \n",
    "\n",
    "Remember:  While recall expresses the ability to find all relevant instances in a dataset, precision expresses the proportion of the data points our model says was relevant actually were relevant."
   ]
  },
  {
   "cell_type": "markdown",
   "metadata": {},
   "source": [
    "### 4.2 Bag of N-Grams Model\n",
    "\n",
    "Just like BOW, but instead of only using one word, it uses a collection of word tokens.  For example, a bi-gram indicates n-grams of order 2 (two words), tri-gram indicats n-grams of order 3 (three words), etc. "
   ]
  },
  {
   "cell_type": "markdown",
   "metadata": {},
   "source": [
    "##### 4.2.1 Train the Model"
   ]
  },
  {
   "cell_type": "code",
   "execution_count": 54,
   "metadata": {},
   "outputs": [
    {
     "name": "stdout",
     "output_type": "stream",
     "text": [
      "(15000, 2847781)\n"
     ]
    }
   ],
   "source": [
    "# Using bigrams and trigrams by setting the range from 2 to 3. \n",
    "bv = CountVectorizer(ngram_range=(2, 3))\n",
    "train_data_features = bv.fit_transform(X_train)\n",
    "print(train_data_features.shape)"
   ]
  },
  {
   "cell_type": "code",
   "execution_count": 55,
   "metadata": {},
   "outputs": [
    {
     "name": "stdout",
     "output_type": "stream",
     "text": [
      "['10 10', '10 battle', '10 battle scenes', '10 cunningham', '10 cunningham use', '10 ending', '10 ending stinks', '10 entertaining', '10 entertaining way', '10 movie', '10 movie enjoyable', '10 ratings', '10 ratings compare', '10 recommend', '10 recommend lovely', '10 times', '10 times many', '16 pigalle', '16 pigalle richard', '17 montmartre', '17 montmartre bruno', '18 porte', '18 porte de', '1958 oliver', '1958 oliver 1968', '1968 fagin', '1968 fagin handle', '1980 animation', '1980 animation quite', '2004 walkleys', '2004 walkleys investigate', '2006 fact', '2006 fact think', '20th century', '20th century end', '22 minute', '22 minute episode', '28 2005', '35 minutes', '35 minutes viewing', '3d games', '3d games 10', '3d introduced', '3d introduced feature', '40 years', '40 years solved', '400 coups', '400 coups much', '60 skirt', '60 skirt girl', '90 many', '90 many dialogue', 'aa level', 'aa level moves', 'aa yet', 'aa yet well', 'aaa level', 'aaa level one', 'aaa parvarish', 'aaa parvarish naseeb', 'aaa yeah', 'aaa yeah bo', 'aaaaaaah saw', 'aaaaaaah saw part', 'aaaaah oh', 'aaaaah oh never', 'aaaaatch kah', 'aaaaatch kah movie', 'aaaand point', 'aaaand point brain', 'aaah legs', 'aaah legs honey', 'aaargh fact', 'aaargh fact raw', 'aaargh make', 'aaargh make notes', 'aaargh wes', 'aaargh wes craven', 'aaawwwwnnn watch', 'aaawwwwnnn watch mystery', 'aachen two', 'aachen two months', 'aada adhura', 'aada adhura hai', 'aag actually', 'aag actually mockery', 'aag come', 'aag come anywhere', 'aag director', 'aag director half', 'aag fail', 'aag fail remake', 'aag figure', 'aag figure crores', 'aag fire', 'aag hits', 'aag hits screens', 'aag make', 'aag make costs', 'aag never']\n"
     ]
    }
   ],
   "source": [
    "vocab = bv.get_feature_names()\n",
    "print(vocab[:100])"
   ]
  },
  {
   "cell_type": "markdown",
   "metadata": {},
   "source": [
    "#### 4.2.2 Random Forest Classifier"
   ]
  },
  {
   "cell_type": "code",
   "execution_count": 56,
   "metadata": {},
   "outputs": [],
   "source": [
    "forest = RandomForestClassifier(n_estimators=100)\n",
    "forest = forest.fit(train_data_features, y_train)"
   ]
  },
  {
   "cell_type": "markdown",
   "metadata": {},
   "source": [
    "#### 4.2.3 Evaluate the Model"
   ]
  },
  {
   "cell_type": "code",
   "execution_count": 57,
   "metadata": {},
   "outputs": [],
   "source": [
    "# Predict on train set\n",
    "y_train_pred = forest.predict(train_data_features)\n",
    "\n",
    "# BOW on test data set\n",
    "test_data_features = bv.transform(X_test)\n",
    "\n",
    "# Predict sentiments on test set using the trained forest classifer\n",
    "y_test_pred = forest.predict(test_data_features)"
   ]
  },
  {
   "cell_type": "code",
   "execution_count": 58,
   "metadata": {
    "scrolled": false
   },
   "outputs": [
    {
     "data": {
      "image/png": "[encoded data removed]",
      "text/plain": [
       "<Figure size 1008x432 with 2 Axes>"
      ]
     },
     "metadata": {
      "needs_background": "light"
     },
     "output_type": "display_data"
    }
   ],
   "source": [
    "fig, (axis1, axis2) = plt.subplots(nrows=1, ncols=2, figsize=(14, 6))\n",
    "plot_confusion_matrix(y_train, y_train_pred, ax=axis1,\n",
    "                      title='Confusion matrix (train data)')\n",
    "plot_confusion_matrix(y_test, y_test_pred, ax=axis2,\n",
    "                      title='Confusion matrix (test data)')"
   ]
  },
  {
   "cell_type": "code",
   "execution_count": 59,
   "metadata": {},
   "outputs": [
    {
     "name": "stdout",
     "output_type": "stream",
     "text": [
      "Classification report on Test set: \n",
      "               precision    recall  f1-score   support\n",
      "\n",
      "           0       0.89      0.62      0.73      5055\n",
      "           1       0.70      0.92      0.80      4945\n",
      "\n",
      "    accuracy                           0.77     10000\n",
      "   macro avg       0.80      0.77      0.77     10000\n",
      "weighted avg       0.80      0.77      0.76     10000\n",
      "\n"
     ]
    }
   ],
   "source": [
    "from sklearn.metrics import classification_report\n",
    "print('Classification report on Test set: \\n', classification_report(y_test, y_test_pred))"
   ]
  },
  {
   "cell_type": "markdown",
   "metadata": {},
   "source": [
    "The n-gram BOW model with bigrams and trigrams does not perform nearly as well as the simpler unigram BOW model.  It especially struggles with accuractely classifying negative sentiment text with a false negative rate of 0.38. Accuracy is only 77% compared to 85% with the unigram BOW model and the F1 score is only 80% compared to 85%.  Clearly, the unigram BOW model is a far superior choice in this case. "
   ]
  },
  {
   "cell_type": "markdown",
   "metadata": {},
   "source": [
    "### 4.3 TF-IDF Model\n",
    "\n",
    "Stands for 'term frequency-inverse document frequency'.  Rather than look at absolute frequencies of words as in BOW, TF-IDF calculates relative frequences.  It calculates the frequency of a term in the document relative to its overall occurence in the entire corpus.  In this case, the frequency of a word in one review relative to all the reviews combined.  This is useful because let's say a word like 'movie' may show up a lot in a review, but it would also be expected to show up in other reviews, given that we are talking about movies.  BOW would not consider the overall frequency in a corpus, but TF-IDF does and therefore, would give 'movie' in this example a lower score compared to a word that may show up highly frequently in a couple of reviews but not in many others. "
   ]
  },
  {
   "cell_type": "markdown",
   "metadata": {},
   "source": [
    "#### 4.3.1 Train the Model"
   ]
  },
  {
   "cell_type": "code",
   "execution_count": 60,
   "metadata": {},
   "outputs": [
    {
     "name": "stdout",
     "output_type": "stream",
     "text": [
      "['aag', 'aaron', 'abandon', 'abandoned', 'abbot', 'abbott', 'abc', 'abducted', 'abe', 'abhay', 'abigail', 'abilities', 'ability', 'able', 'aboard', 'abominable', 'abomination', 'abortion', 'abound', 'abraham', 'abroad', 'abrupt', 'abruptly', 'absence', 'absent', 'absolute', 'absolutely', 'absorbed', 'absorbing', 'abstract', 'absurd', 'absurdity', 'abu', 'abundance', 'abuse', 'abused', 'abusive', 'abysmal', 'academy', 'accent', 'accents', 'accept', 'acceptable', 'acceptance', 'accepted', 'accepting', 'accepts', 'access', 'accessible', 'accident', 'accidental', 'accidentally', 'acclaim', 'acclaimed', 'accompanied', 'accompanying', 'accomplish', 'accomplished', 'accomplishment', 'according', 'account', 'accounts', 'accuracy', 'accurate', 'accurately', 'accused', 'ace', 'achieve', 'achieved', 'achievement', 'achievements', 'achieves', 'achieving', 'achilles', 'acid', 'acknowledge', 'acknowledged', 'acquire', 'acquired', 'across', 'act', 'acted', 'acting', 'action', 'actions', 'active', 'activities', 'activity', 'actor', 'actors', 'actress', 'actresses', 'acts', 'actual', 'actuality', 'actually', 'ad', 'ada', 'adam', 'adams']\n"
     ]
    }
   ],
   "source": [
    "from sklearn.feature_extraction.text import TfidfVectorizer\n",
    "\n",
    "tfidf = TfidfVectorizer(max_features=10000)\n",
    "train_data_features = tfidf.fit_transform(X_train)\n",
    "    \n",
    "vocab = tfidf.get_feature_names()\n",
    "print(vocab[:100])"
   ]
  },
  {
   "cell_type": "markdown",
   "metadata": {},
   "source": [
    "#### 4.3.2 Random Forest Classifier"
   ]
  },
  {
   "cell_type": "code",
   "execution_count": 61,
   "metadata": {},
   "outputs": [],
   "source": [
    "forest = RandomForestClassifier(n_estimators=100)\n",
    "forest = forest.fit(train_data_features, y_train)"
   ]
  },
  {
   "cell_type": "markdown",
   "metadata": {},
   "source": [
    "#### 4.3.3 Evaluate the Model"
   ]
  },
  {
   "cell_type": "code",
   "execution_count": 62,
   "metadata": {},
   "outputs": [],
   "source": [
    "# Predict on train set\n",
    "y_train_pred = forest.predict(train_data_features)\n",
    "\n",
    "# BOW on test data set \n",
    "test_data_features = tfidf.transform(X_test)\n",
    "\n",
    "# Predict sentiment on test set using the trained forest classifier\n",
    "y_test_pred = forest.predict(test_data_features)"
   ]
  },
  {
   "cell_type": "code",
   "execution_count": 65,
   "metadata": {},
   "outputs": [
    {
     "data": {
      "image/png": "[encoded data removed]",
      "text/plain": [
       "<Figure size 1008x432 with 2 Axes>"
      ]
     },
     "metadata": {
      "needs_background": "light"
     },
     "output_type": "display_data"
    }
   ],
   "source": [
    "fig, (axis1, axis2) = plt.subplots(nrows=1, ncols=2, figsize=(14, 6))\n",
    "plot_confusion_matrix(y_train, y_train_pred, ax=axis1,\n",
    "                      title='Confusion matrix (train data)')\n",
    "plot_confusion_matrix(y_test, y_test_pred, ax=axis2,\n",
    "                      title='Confusion matrix (test data)')"
   ]
  },
  {
   "cell_type": "code",
   "execution_count": 66,
   "metadata": {},
   "outputs": [
    {
     "name": "stdout",
     "output_type": "stream",
     "text": [
      "Classification report on Test set: \n",
      "               precision    recall  f1-score   support\n",
      "\n",
      "           0       0.84      0.86      0.85      5055\n",
      "           1       0.86      0.83      0.84      4945\n",
      "\n",
      "    accuracy                           0.85     10000\n",
      "   macro avg       0.85      0.85      0.85     10000\n",
      "weighted avg       0.85      0.85      0.85     10000\n",
      "\n"
     ]
    }
   ],
   "source": [
    "from sklearn.metrics import classification_report\n",
    "print('Classification report on Test set: \\n', classification_report(y_test, y_test_pred))"
   ]
  },
  {
   "cell_type": "markdown",
   "metadata": {},
   "source": [
    "Somewhat surprised by this.  I thought that the TFIDF model would outperform the BOW approach.  Both are similar, but the BOW model seems to slighly outpeform this model"
   ]
  },
  {
   "cell_type": "markdown",
   "metadata": {},
   "source": [
    "# Submit\n",
    "\n",
    "Will be using the unigram BOW model to make predictions on the test set for submission since it performed the best out of the three models here. "
   ]
  },
  {
   "cell_type": "code",
   "execution_count": 72,
   "metadata": {
    "scrolled": true
   },
   "outputs": [
    {
     "name": "stdout",
     "output_type": "stream",
     "text": [
      "(25000, 10000)\n"
     ]
    }
   ],
   "source": [
    "from sklearn.feature_extraction.text import CountVectorizer\n",
    "\n",
    "# Only use the top 10,000 words\n",
    "cv = CountVectorizer(max_features=10000)\n",
    "train_data_features = cv.fit_transform(data['review'])\n",
    "print(train_data_features.shape)"
   ]
  },
  {
   "cell_type": "markdown",
   "metadata": {},
   "source": [
    "#### 3.1.2 Random Forest Classifier"
   ]
  },
  {
   "cell_type": "code",
   "execution_count": 73,
   "metadata": {},
   "outputs": [],
   "source": [
    "from sklearn.ensemble import RandomForestClassifier\n",
    "\n",
    "forest = RandomForestClassifier(n_estimators=100)\n",
    "forest = forest.fit(train_data_features, data['sentiment'])"
   ]
  },
  {
   "cell_type": "code",
   "execution_count": 74,
   "metadata": {},
   "outputs": [],
   "source": [
    "test = pd.read_csv('testData.tsv', header=0, delimiter='\\t', quoting=3)\n",
    "clean_test_reviews = clean_corpus(test['review'])"
   ]
  },
  {
   "cell_type": "code",
   "execution_count": 75,
   "metadata": {},
   "outputs": [],
   "source": [
    "# BOW on test data set\n",
    "test_data_features = cv.transform(clean_test_reviews)\n",
    "\n",
    "# Predict sentiments on test set using the trained forest classifer\n",
    "y_test_pred = forest.predict(test_data_features)"
   ]
  },
  {
   "cell_type": "code",
   "execution_count": 77,
   "metadata": {},
   "outputs": [],
   "source": [
    "# Output\n",
    "output = pd.DataFrame(data={'id': test['id'], 'sentiment': y_test_pred})\n",
    "output.to_csv('BOW_model.csv', index=False, quoting=3)"
   ]
  },
  {
   "cell_type": "code",
   "execution_count": null,
   "metadata": {},
   "outputs": [],
   "source": []
  }
 ],
 "metadata": {
  "kernelspec": {
   "display_name": "Python 3",
   "language": "python",
   "name": "python3"
  },
  "language_info": {
   "codemirror_mode": {
    "name": "ipython",
    "version": 3
   },
   "file_extension": ".py",
   "mimetype": "text/x-python",
   "name": "python",
   "nbconvert_exporter": "python",
   "pygments_lexer": "ipython3",
   "version": "3.7.6"
  }
 },
 "nbformat": 4,
 "nbformat_minor": 2
}
