{
 "cells": [
  {
   "cell_type": "markdown",
   "metadata": {},
   "source": [
    "# Kaggle Bag of Popcorn challenge\n",
    ">In this tutorial competition, we dig a little \"deeper\" into sentiment analysis. Google's Word2Vec is a deep-learning inspired method that focuses on the meaning of words. Word2Vec attempts to understand meaning and semantic relationships among words. It works in a way that is similar to deep approaches, such as recurrent neural nets or deep neural nets, but is computationally more efficient. This tutorial focuses on Word2Vec for sentiment analysis.\n",
    ">\n",
    ">Sentiment analysis is a challenging subject in machine learning. People express their emotions in language that is often obscured by sarcasm, ambiguity, and plays on words, all of which could be very misleading for both humans and computers. There's another Kaggle competition for movie review sentiment analysis. In this tutorial we explore how Word2Vec can be applied to a similar problem.\n",
    ">\n",
    ">Deep learning has been in the news a lot over the past few years, even making it to the front page of the New York Times. These machine learning techniques, inspired by the architecture of the human brain and made possible by recent advances in computing power, have been making waves via breakthrough results in image recognition, speech processing, and natural language tasks. Recently, deep learning approaches won several Kaggle competitions, including a drug discovery task, and cat and dog image recognition.\n",
    ">\n",
    ">__Tutorial Overview__\n",
    ">\n",
    ">This tutorial will help you get started with Word2Vec for natural language processing. It has two goals: \n",
    ">\n",
    ">Basic Natural Language Processing: Part 1 of this tutorial is intended for beginners and covers basic natural language processing techniques, which are needed for later parts of the tutorial.\n",
    ">\n",
    ">Deep Learning for Text Understanding: In Parts 2 and 3, we delve into how to train a model using Word2Vec and how to use the resulting word vectors for sentiment analysis.\n",
    ">\n",
    ">Since deep learning is a rapidly evolving field, large amounts of the work has not yet been published, or exists only as academic papers. Part 3 of the tutorial is more exploratory than prescriptive -- we experiment with several ways of using Word2Vec rather than giving you a recipe for using the output.\n",
    ">\n",
    ">To achieve these goals, we rely on an IMDB sentiment analysis data set, which has 100,000 multi-paragraph movie reviews, both positive and negative. "
   ]
  },
  {
   "cell_type": "markdown",
   "metadata": {},
   "source": [
    "In this notebook, I will explore the Word2Vec approaches.  I have already touched on BOW and TFIDF approaches in a previous notebook.  In the next notebook, I will delve into deep learning approaches"
   ]
  },
  {
   "cell_type": "markdown",
   "metadata": {},
   "source": [
    "## 1. Load the Data"
   ]
  },
  {
   "cell_type": "code",
   "execution_count": 1,
   "metadata": {},
   "outputs": [
    {
     "name": "stdout",
     "output_type": "stream",
     "text": [
      "Read 25000 labeled train reviews, 25000 labeled test reviews, and 50000 unlabeled reviews\n",
      "\n"
     ]
    }
   ],
   "source": [
    "# Load the Data\n",
    "import pandas as pd\n",
    "\n",
    "train = pd.read_csv('labeledTrainData.tsv', header=0, delimiter='\\t', quoting=3)\n",
    "unlabeled_train = pd.read_csv('unlabeledTrainData.tsv', header=0, delimiter='\\t', quoting=3)\n",
    "test = pd.read_csv('testData.tsv', header=0, delimiter='\\t', quoting=3)\n",
    "\n",
    "print(\"Read %d labeled train reviews, %d labeled test reviews, \" \\\n",
    "    \"and %d unlabeled reviews\\n\" % (train[\"review\"].size,  \n",
    "    test[\"review\"].size, unlabeled_train[\"review\"].size))"
   ]
  },
  {
   "cell_type": "code",
   "execution_count": 2,
   "metadata": {
    "scrolled": true
   },
   "outputs": [
    {
     "data": {
      "text/html": [
       "<div>\n",
       "<style scoped>\n",
       "    .dataframe tbody tr th:only-of-type {\n",
       "        vertical-align: middle;\n",
       "    }\n",
       "\n",
       "    .dataframe tbody tr th {\n",
       "        vertical-align: top;\n",
       "    }\n",
       "\n",
       "    .dataframe thead th {\n",
       "        text-align: right;\n",
       "    }\n",
       "</style>\n",
       "<table border=\"1\" class=\"dataframe\">\n",
       "  <thead>\n",
       "    <tr style=\"text-align: right;\">\n",
       "      <th></th>\n",
       "      <th>id</th>\n",
       "      <th>sentiment</th>\n",
       "      <th>review</th>\n",
       "    </tr>\n",
       "  </thead>\n",
       "  <tbody>\n",
       "    <tr>\n",
       "      <th>0</th>\n",
       "      <td>\"5814_8\"</td>\n",
       "      <td>1</td>\n",
       "      <td>\"With all this stuff going down at the moment ...</td>\n",
       "    </tr>\n",
       "    <tr>\n",
       "      <th>1</th>\n",
       "      <td>\"2381_9\"</td>\n",
       "      <td>1</td>\n",
       "      <td>\"\\\"The Classic War of the Worlds\\\" by Timothy ...</td>\n",
       "    </tr>\n",
       "    <tr>\n",
       "      <th>2</th>\n",
       "      <td>\"7759_3\"</td>\n",
       "      <td>0</td>\n",
       "      <td>\"The film starts with a manager (Nicholas Bell...</td>\n",
       "    </tr>\n",
       "    <tr>\n",
       "      <th>3</th>\n",
       "      <td>\"3630_4\"</td>\n",
       "      <td>0</td>\n",
       "      <td>\"It must be assumed that those who praised thi...</td>\n",
       "    </tr>\n",
       "    <tr>\n",
       "      <th>4</th>\n",
       "      <td>\"9495_8\"</td>\n",
       "      <td>1</td>\n",
       "      <td>\"Superbly trashy and wondrously unpretentious ...</td>\n",
       "    </tr>\n",
       "    <tr>\n",
       "      <th>...</th>\n",
       "      <td>...</td>\n",
       "      <td>...</td>\n",
       "      <td>...</td>\n",
       "    </tr>\n",
       "    <tr>\n",
       "      <th>24995</th>\n",
       "      <td>\"3453_3\"</td>\n",
       "      <td>0</td>\n",
       "      <td>\"It seems like more consideration has gone int...</td>\n",
       "    </tr>\n",
       "    <tr>\n",
       "      <th>24996</th>\n",
       "      <td>\"5064_1\"</td>\n",
       "      <td>0</td>\n",
       "      <td>\"I don't believe they made this film. Complete...</td>\n",
       "    </tr>\n",
       "    <tr>\n",
       "      <th>24997</th>\n",
       "      <td>\"10905_3\"</td>\n",
       "      <td>0</td>\n",
       "      <td>\"Guy is a loser. Can't get girls, needs to bui...</td>\n",
       "    </tr>\n",
       "    <tr>\n",
       "      <th>24998</th>\n",
       "      <td>\"10194_3\"</td>\n",
       "      <td>0</td>\n",
       "      <td>\"This 30 minute documentary Buñuel made in the...</td>\n",
       "    </tr>\n",
       "    <tr>\n",
       "      <th>24999</th>\n",
       "      <td>\"8478_8\"</td>\n",
       "      <td>1</td>\n",
       "      <td>\"I saw this movie as a child and it broke my h...</td>\n",
       "    </tr>\n",
       "  </tbody>\n",
       "</table>\n",
       "<p>25000 rows × 3 columns</p>\n",
       "</div>"
      ],
      "text/plain": [
       "              id  sentiment                                             review\n",
       "0       \"5814_8\"          1  \"With all this stuff going down at the moment ...\n",
       "1       \"2381_9\"          1  \"\\\"The Classic War of the Worlds\\\" by Timothy ...\n",
       "2       \"7759_3\"          0  \"The film starts with a manager (Nicholas Bell...\n",
       "3       \"3630_4\"          0  \"It must be assumed that those who praised thi...\n",
       "4       \"9495_8\"          1  \"Superbly trashy and wondrously unpretentious ...\n",
       "...          ...        ...                                                ...\n",
       "24995   \"3453_3\"          0  \"It seems like more consideration has gone int...\n",
       "24996   \"5064_1\"          0  \"I don't believe they made this film. Complete...\n",
       "24997  \"10905_3\"          0  \"Guy is a loser. Can't get girls, needs to bui...\n",
       "24998  \"10194_3\"          0  \"This 30 minute documentary Buñuel made in the...\n",
       "24999   \"8478_8\"          1  \"I saw this movie as a child and it broke my h...\n",
       "\n",
       "[25000 rows x 3 columns]"
      ]
     },
     "execution_count": 2,
     "metadata": {},
     "output_type": "execute_result"
    }
   ],
   "source": [
    "train"
   ]
  },
  {
   "cell_type": "code",
   "execution_count": 3,
   "metadata": {},
   "outputs": [
    {
     "data": {
      "text/html": [
       "<div>\n",
       "<style scoped>\n",
       "    .dataframe tbody tr th:only-of-type {\n",
       "        vertical-align: middle;\n",
       "    }\n",
       "\n",
       "    .dataframe tbody tr th {\n",
       "        vertical-align: top;\n",
       "    }\n",
       "\n",
       "    .dataframe thead th {\n",
       "        text-align: right;\n",
       "    }\n",
       "</style>\n",
       "<table border=\"1\" class=\"dataframe\">\n",
       "  <thead>\n",
       "    <tr style=\"text-align: right;\">\n",
       "      <th></th>\n",
       "      <th>id</th>\n",
       "      <th>review</th>\n",
       "    </tr>\n",
       "  </thead>\n",
       "  <tbody>\n",
       "    <tr>\n",
       "      <th>0</th>\n",
       "      <td>\"9999_0\"</td>\n",
       "      <td>\"Watching Time Chasers, it obvious that it was...</td>\n",
       "    </tr>\n",
       "    <tr>\n",
       "      <th>1</th>\n",
       "      <td>\"45057_0\"</td>\n",
       "      <td>\"I saw this film about 20 years ago and rememb...</td>\n",
       "    </tr>\n",
       "    <tr>\n",
       "      <th>2</th>\n",
       "      <td>\"15561_0\"</td>\n",
       "      <td>\"Minor Spoilers&lt;br /&gt;&lt;br /&gt;In New York, Joan B...</td>\n",
       "    </tr>\n",
       "    <tr>\n",
       "      <th>3</th>\n",
       "      <td>\"7161_0\"</td>\n",
       "      <td>\"I went to see this film with a great deal of ...</td>\n",
       "    </tr>\n",
       "    <tr>\n",
       "      <th>4</th>\n",
       "      <td>\"43971_0\"</td>\n",
       "      <td>\"Yes, I agree with everyone on this site this ...</td>\n",
       "    </tr>\n",
       "    <tr>\n",
       "      <th>...</th>\n",
       "      <td>...</td>\n",
       "      <td>...</td>\n",
       "    </tr>\n",
       "    <tr>\n",
       "      <th>49995</th>\n",
       "      <td>\"18984_0\"</td>\n",
       "      <td>\"The original Man Eater by Joe D'Amato is some...</td>\n",
       "    </tr>\n",
       "    <tr>\n",
       "      <th>49996</th>\n",
       "      <td>\"16433_0\"</td>\n",
       "      <td>\"When Home Box Office was in it's early days m...</td>\n",
       "    </tr>\n",
       "    <tr>\n",
       "      <th>49997</th>\n",
       "      <td>\"16006_0\"</td>\n",
       "      <td>\"Griffin Dunne was born into a cultural family...</td>\n",
       "    </tr>\n",
       "    <tr>\n",
       "      <th>49998</th>\n",
       "      <td>\"40155_0\"</td>\n",
       "      <td>\"Not a bad story, but the low budget rears its...</td>\n",
       "    </tr>\n",
       "    <tr>\n",
       "      <th>49999</th>\n",
       "      <td>\"35270_0\"</td>\n",
       "      <td>\"This not-very-good mummy-alien flick does fea...</td>\n",
       "    </tr>\n",
       "  </tbody>\n",
       "</table>\n",
       "<p>50000 rows × 2 columns</p>\n",
       "</div>"
      ],
      "text/plain": [
       "              id                                             review\n",
       "0       \"9999_0\"  \"Watching Time Chasers, it obvious that it was...\n",
       "1      \"45057_0\"  \"I saw this film about 20 years ago and rememb...\n",
       "2      \"15561_0\"  \"Minor Spoilers<br /><br />In New York, Joan B...\n",
       "3       \"7161_0\"  \"I went to see this film with a great deal of ...\n",
       "4      \"43971_0\"  \"Yes, I agree with everyone on this site this ...\n",
       "...          ...                                                ...\n",
       "49995  \"18984_0\"  \"The original Man Eater by Joe D'Amato is some...\n",
       "49996  \"16433_0\"  \"When Home Box Office was in it's early days m...\n",
       "49997  \"16006_0\"  \"Griffin Dunne was born into a cultural family...\n",
       "49998  \"40155_0\"  \"Not a bad story, but the low budget rears its...\n",
       "49999  \"35270_0\"  \"This not-very-good mummy-alien flick does fea...\n",
       "\n",
       "[50000 rows x 2 columns]"
      ]
     },
     "execution_count": 3,
     "metadata": {},
     "output_type": "execute_result"
    }
   ],
   "source": [
    "unlabeled_train"
   ]
  },
  {
   "cell_type": "markdown",
   "metadata": {},
   "source": [
    "## 2. Text Preprocessing"
   ]
  },
  {
   "cell_type": "markdown",
   "metadata": {},
   "source": [
    "Now, on to cleaning and preprocessing the data.\n",
    "\n",
    "For Word2Vec, it is useful to keep stopwords since the algorithm relies on the broader context of the sentence in order to produce high quality word vectors. Also, not removing numbers since they may provide additional context. \n",
    "\n",
    "We also want to keep sentences separate unlike BOW approach where sentences didn't matter.  So here we'll use `WordPunctTokenizer` from `nltk` to split sentences apart b/c splitting sentences is pretty difficult. "
   ]
  },
  {
   "cell_type": "code",
   "execution_count": 8,
   "metadata": {},
   "outputs": [],
   "source": [
    "from bs4 import BeautifulSoup\n",
    "import nltk\n",
    "import re\n",
    "\n",
    "# Create a function to clean the text\n",
    "def review_to_wordlist(text, remove_stopwords=False):\n",
    "    # strip html tags\n",
    "    text = BeautifulSoup(text, \"html.parser\").get_text()\n",
    "    \n",
    "    # lower case, remove special characters, and strip leading and trailing whitespaces\n",
    "    text = re.sub(r'[^a-zA-Z1-9]', ' ', text)\n",
    "    \n",
    "    # Create tokens\n",
    "    words = text.lower().split()\n",
    "    \n",
    "    # filter out stopwords\n",
    "    if remove_stopwords:\n",
    "        stop_words = set(nltk.corpus.stopwords.words('english'))\n",
    "        words = [word for word in words if word not in stop_words]\n",
    "\n",
    "    return words\n",
    "\n",
    "# Define a function to split a review into parsed sentences\n",
    "pst = nltk.PunktSentenceTokenizer()\n",
    "def review_to_sentences(review, remove_stopwords=False):\n",
    "    raw_sentences = pst.tokenize(review.strip())\n",
    "    \n",
    "    sentences = []\n",
    "    for raw_sentence in raw_sentences:\n",
    "        if len(raw_sentence) > 0:\n",
    "            sentences.append(review_to_wordlist(raw_sentence, remove_stopwords))\n",
    "    \n",
    "    return sentences"
   ]
  },
  {
   "cell_type": "markdown",
   "metadata": {},
   "source": [
    "Prepare data for input to Word2Vec"
   ]
  },
  {
   "cell_type": "code",
   "execution_count": 9,
   "metadata": {},
   "outputs": [
    {
     "name": "stdout",
     "output_type": "stream",
     "text": [
      "Parsing sentences from training set...\n"
     ]
    },
    {
     "name": "stderr",
     "output_type": "stream",
     "text": [
      "C:\\Users\\aksin\\Anaconda3\\lib\\site-packages\\bs4\\__init__.py:302: UserWarning: \"b'.'\" looks like a filename, not markup. You should probably open this file and pass the filehandle into Beautiful Soup.\n",
      "  ' Beautiful Soup.' % markup)\n",
      "C:\\Users\\aksin\\Anaconda3\\lib\\site-packages\\bs4\\__init__.py:302: UserWarning: \"b'...'\" looks like a filename, not markup. You should probably open this file and pass the filehandle into Beautiful Soup.\n",
      "  ' Beautiful Soup.' % markup)\n",
      "C:\\Users\\aksin\\Anaconda3\\lib\\site-packages\\bs4\\__init__.py:375: UserWarning: \"http://www.happierabroad.com\"\" looks like a URL. Beautiful Soup is not an HTTP client. You should probably use an HTTP client like requests to get the document behind the URL, and feed that document to Beautiful Soup.\n",
      "  ' that document to Beautiful Soup.' % decoded_markup\n"
     ]
    },
    {
     "name": "stdout",
     "output_type": "stream",
     "text": [
      "Parsing sentences from unlabeled training set...\n"
     ]
    },
    {
     "name": "stderr",
     "output_type": "stream",
     "text": [
      "C:\\Users\\aksin\\Anaconda3\\lib\\site-packages\\bs4\\__init__.py:375: UserWarning: \"http://www.archive.org/details/LovefromaStranger\"\" looks like a URL. Beautiful Soup is not an HTTP client. You should probably use an HTTP client like requests to get the document behind the URL, and feed that document to Beautiful Soup.\n",
      "  ' that document to Beautiful Soup.' % decoded_markup\n",
      "C:\\Users\\aksin\\Anaconda3\\lib\\site-packages\\bs4\\__init__.py:375: UserWarning: \"http://www.loosechangeguide.com/LooseChangeGuide.html\"\" looks like a URL. Beautiful Soup is not an HTTP client. You should probably use an HTTP client like requests to get the document behind the URL, and feed that document to Beautiful Soup.\n",
      "  ' that document to Beautiful Soup.' % decoded_markup\n",
      "C:\\Users\\aksin\\Anaconda3\\lib\\site-packages\\bs4\\__init__.py:375: UserWarning: \"http://www.msnbc.msn.com/id/4972055/site/newsweek/\"\" looks like a URL. Beautiful Soup is not an HTTP client. You should probably use an HTTP client like requests to get the document behind the URL, and feed that document to Beautiful Soup.\n",
      "  ' that document to Beautiful Soup.' % decoded_markup\n",
      "C:\\Users\\aksin\\Anaconda3\\lib\\site-packages\\bs4\\__init__.py:375: UserWarning: \"http://www.youtube.com/watch?v=a0KSqelmgN8\"\" looks like a URL. Beautiful Soup is not an HTTP client. You should probably use an HTTP client like requests to get the document behind the URL, and feed that document to Beautiful Soup.\n",
      "  ' that document to Beautiful Soup.' % decoded_markup\n",
      "C:\\Users\\aksin\\Anaconda3\\lib\\site-packages\\bs4\\__init__.py:302: UserWarning: \"b'.. .'\" looks like a filename, not markup. You should probably open this file and pass the filehandle into Beautiful Soup.\n",
      "  ' Beautiful Soup.' % markup)\n",
      "C:\\Users\\aksin\\Anaconda3\\lib\\site-packages\\bs4\\__init__.py:375: UserWarning: \"http://jake-weird.blogspot.com/2007/08/beneath.html\"\" looks like a URL. Beautiful Soup is not an HTTP client. You should probably use an HTTP client like requests to get the document behind the URL, and feed that document to Beautiful Soup.\n",
      "  ' that document to Beautiful Soup.' % decoded_markup\n"
     ]
    }
   ],
   "source": [
    "sentences = []\n",
    "\n",
    "print(\"Parsing sentences from training set...\")\n",
    "for review in train['review']:\n",
    "    sentences += review_to_sentences(review)\n",
    "\n",
    "print(\"Parsing sentences from unlabeled training set...\")\n",
    "for review in unlabeled_train['review']:\n",
    "    sentences += review_to_sentences(review)"
   ]
  },
  {
   "cell_type": "code",
   "execution_count": 10,
   "metadata": {
    "scrolled": true
   },
   "outputs": [
    {
     "name": "stdout",
     "output_type": "stream",
     "text": [
      "801316\n"
     ]
    }
   ],
   "source": [
    "print(len(sentences))"
   ]
  },
  {
   "cell_type": "markdown",
   "metadata": {},
   "source": [
    "## 3. Split the data"
   ]
  },
  {
   "cell_type": "code",
   "execution_count": 11,
   "metadata": {},
   "outputs": [],
   "source": [
    "from sklearn.model_selection import train_test_split\n",
    "\n",
    "X_train, X_test, y_train, y_test = train_test_split(\n",
    "    train['review'], train['sentiment'], test_size=0.4, random_state=0)"
   ]
  },
  {
   "cell_type": "code",
   "execution_count": 12,
   "metadata": {},
   "outputs": [
    {
     "name": "stdout",
     "output_type": "stream",
     "text": [
      "(15000,) (15000,)\n"
     ]
    }
   ],
   "source": [
    "print(X_train.shape, y_train.shape)"
   ]
  },
  {
   "cell_type": "code",
   "execution_count": 13,
   "metadata": {},
   "outputs": [
    {
     "name": "stdout",
     "output_type": "stream",
     "text": [
      "(10000,) (10000,)\n"
     ]
    }
   ],
   "source": [
    "print(X_test.shape, y_test.shape)"
   ]
  },
  {
   "cell_type": "markdown",
   "metadata": {},
   "source": [
    "## 4. Analyze Using Predictive Word Embeddings\n",
    "\n",
    "Will use Gensim's Word2Vec implementation, GloVe and FastText. "
   ]
  },
  {
   "cell_type": "markdown",
   "metadata": {},
   "source": [
    "### 4.1 Word2Vec\n",
    "\n",
    "The `gensim` frameword created by Radim Rehurek has a robust, efficient and scalable implementation of the Word2Vec Skip-Gram model.  That's what I'll be using here"
   ]
  },
  {
   "cell_type": "markdown",
   "metadata": {},
   "source": [
    "#### 4.1.1 Train the Model"
   ]
  },
  {
   "cell_type": "code",
   "execution_count": 14,
   "metadata": {
    "scrolled": true
   },
   "outputs": [
    {
     "name": "stderr",
     "output_type": "stream",
     "text": [
      "2020-01-27 13:40:09,120 : INFO : collecting all words and their counts\n",
      "2020-01-27 13:40:09,121 : INFO : PROGRESS: at sentence #0, processed 0 words, keeping 0 word types\n",
      "2020-01-27 13:40:09,157 : INFO : PROGRESS: at sentence #10000, processed 226181 words, keeping 17912 word types\n",
      "2020-01-27 13:40:09,198 : INFO : PROGRESS: at sentence #20000, processed 452687 words, keeping 25144 word types\n",
      "2020-01-27 13:40:09,238 : INFO : PROGRESS: at sentence #30000, processed 671561 words, keeping 30272 word types\n",
      "2020-01-27 13:40:09,279 : INFO : PROGRESS: at sentence #40000, processed 897947 words, keeping 34632 word types\n",
      "2020-01-27 13:40:09,316 : INFO : PROGRESS: at sentence #50000, processed 1117306 words, keeping 38078 word types\n"
     ]
    },
    {
     "name": "stdout",
     "output_type": "stream",
     "text": [
      "Training model...\n"
     ]
    },
    {
     "name": "stderr",
     "output_type": "stream",
     "text": [
      "2020-01-27 13:40:09,358 : INFO : PROGRESS: at sentence #60000, processed 1338925 words, keeping 41078 word types\n",
      "2020-01-27 13:40:09,399 : INFO : PROGRESS: at sentence #70000, processed 1561479 words, keeping 43680 word types\n",
      "2020-01-27 13:40:09,440 : INFO : PROGRESS: at sentence #80000, processed 1780536 words, keeping 46129 word types\n",
      "2020-01-27 13:40:09,480 : INFO : PROGRESS: at sentence #90000, processed 2005917 words, keeping 48518 word types\n",
      "2020-01-27 13:40:09,519 : INFO : PROGRESS: at sentence #100000, processed 2227377 words, keeping 50653 word types\n",
      "2020-01-27 13:40:09,556 : INFO : PROGRESS: at sentence #110000, processed 2447329 words, keeping 52506 word types\n",
      "2020-01-27 13:40:09,595 : INFO : PROGRESS: at sentence #120000, processed 2668996 words, keeping 54576 word types\n",
      "2020-01-27 13:40:09,632 : INFO : PROGRESS: at sentence #130000, processed 2893465 words, keeping 56326 word types\n",
      "2020-01-27 13:40:09,668 : INFO : PROGRESS: at sentence #140000, processed 3107776 words, keeping 57885 word types\n",
      "2020-01-27 13:40:09,708 : INFO : PROGRESS: at sentence #150000, processed 3333687 words, keeping 59588 word types\n",
      "2020-01-27 13:40:09,748 : INFO : PROGRESS: at sentence #160000, processed 3554734 words, keeping 61165 word types\n",
      "2020-01-27 13:40:09,786 : INFO : PROGRESS: at sentence #170000, processed 3776237 words, keeping 62590 word types\n",
      "2020-01-27 13:40:09,827 : INFO : PROGRESS: at sentence #180000, processed 3999522 words, keeping 64111 word types\n",
      "2020-01-27 13:40:09,865 : INFO : PROGRESS: at sentence #190000, processed 4224382 words, keeping 65402 word types\n",
      "2020-01-27 13:40:09,908 : INFO : PROGRESS: at sentence #200000, processed 4446199 words, keeping 66678 word types\n",
      "2020-01-27 13:40:09,948 : INFO : PROGRESS: at sentence #210000, processed 4666430 words, keeping 67988 word types\n",
      "2020-01-27 13:40:09,992 : INFO : PROGRESS: at sentence #220000, processed 4891951 words, keeping 69325 word types\n",
      "2020-01-27 13:40:10,032 : INFO : PROGRESS: at sentence #230000, processed 5115355 words, keeping 70613 word types\n",
      "2020-01-27 13:40:10,070 : INFO : PROGRESS: at sentence #240000, processed 5340542 words, keeping 71836 word types\n",
      "2020-01-27 13:40:10,109 : INFO : PROGRESS: at sentence #250000, processed 5556916 words, keeping 73049 word types\n",
      "2020-01-27 13:40:10,150 : INFO : PROGRESS: at sentence #260000, processed 5777211 words, keeping 74160 word types\n",
      "2020-01-27 13:40:10,188 : INFO : PROGRESS: at sentence #270000, processed 5995841 words, keeping 75390 word types\n",
      "2020-01-27 13:40:10,229 : INFO : PROGRESS: at sentence #280000, processed 6221331 words, keeping 76943 word types\n",
      "2020-01-27 13:40:10,267 : INFO : PROGRESS: at sentence #290000, processed 6444735 words, keeping 78468 word types\n",
      "2020-01-27 13:40:10,307 : INFO : PROGRESS: at sentence #300000, processed 6670791 words, keeping 79909 word types\n",
      "2020-01-27 13:40:10,348 : INFO : PROGRESS: at sentence #310000, processed 6894564 words, keeping 81215 word types\n",
      "2020-01-27 13:40:10,390 : INFO : PROGRESS: at sentence #320000, processed 7119812 words, keeping 82574 word types\n",
      "2020-01-27 13:40:10,430 : INFO : PROGRESS: at sentence #330000, processed 7342094 words, keeping 83795 word types\n",
      "2020-01-27 13:40:10,474 : INFO : PROGRESS: at sentence #340000, processed 7570222 words, keeping 85054 word types\n",
      "2020-01-27 13:40:10,516 : INFO : PROGRESS: at sentence #350000, processed 7795789 words, keeping 86258 word types\n",
      "2020-01-27 13:40:10,560 : INFO : PROGRESS: at sentence #360000, processed 8015401 words, keeping 87418 word types\n",
      "2020-01-27 13:40:10,605 : INFO : PROGRESS: at sentence #370000, processed 8242581 words, keeping 88539 word types\n",
      "2020-01-27 13:40:10,646 : INFO : PROGRESS: at sentence #380000, processed 8467900 words, keeping 89700 word types\n",
      "2020-01-27 13:40:10,689 : INFO : PROGRESS: at sentence #390000, processed 8693650 words, keeping 90814 word types\n",
      "2020-01-27 13:40:10,729 : INFO : PROGRESS: at sentence #400000, processed 8918917 words, keeping 91819 word types\n",
      "2020-01-27 13:40:10,768 : INFO : PROGRESS: at sentence #410000, processed 9138453 words, keeping 92819 word types\n",
      "2020-01-27 13:40:10,810 : INFO : PROGRESS: at sentence #420000, processed 9362153 words, keeping 93867 word types\n",
      "2020-01-27 13:40:10,851 : INFO : PROGRESS: at sentence #430000, processed 9584365 words, keeping 94862 word types\n",
      "2020-01-27 13:40:10,890 : INFO : PROGRESS: at sentence #440000, processed 9812604 words, keeping 95870 word types\n",
      "2020-01-27 13:40:10,933 : INFO : PROGRESS: at sentence #450000, processed 10037147 words, keeping 96950 word types\n",
      "2020-01-27 13:40:10,971 : INFO : PROGRESS: at sentence #460000, processed 10266351 words, keeping 98042 word types\n",
      "2020-01-27 13:40:11,014 : INFO : PROGRESS: at sentence #470000, processed 10493154 words, keeping 98940 word types\n",
      "2020-01-27 13:40:11,053 : INFO : PROGRESS: at sentence #480000, processed 10721848 words, keeping 99892 word types\n",
      "2020-01-27 13:40:11,094 : INFO : PROGRESS: at sentence #490000, processed 10945453 words, keeping 100985 word types\n",
      "2020-01-27 13:40:11,135 : INFO : PROGRESS: at sentence #500000, processed 11166545 words, keeping 101849 word types\n",
      "2020-01-27 13:40:11,175 : INFO : PROGRESS: at sentence #510000, processed 11389135 words, keeping 102788 word types\n",
      "2020-01-27 13:40:11,217 : INFO : PROGRESS: at sentence #520000, processed 11613995 words, keeping 103709 word types\n",
      "2020-01-27 13:40:11,257 : INFO : PROGRESS: at sentence #530000, processed 11839042 words, keeping 104559 word types\n",
      "2020-01-27 13:40:11,299 : INFO : PROGRESS: at sentence #540000, processed 12063476 words, keeping 105451 word types\n",
      "2020-01-27 13:40:11,341 : INFO : PROGRESS: at sentence #550000, processed 12282103 words, keeping 106340 word types\n",
      "2020-01-27 13:40:11,391 : INFO : PROGRESS: at sentence #560000, processed 12510056 words, keeping 107193 word types\n",
      "2020-01-27 13:40:11,436 : INFO : PROGRESS: at sentence #570000, processed 12735776 words, keeping 108027 word types\n",
      "2020-01-27 13:40:11,474 : INFO : PROGRESS: at sentence #580000, processed 12961620 words, keeping 108864 word types\n",
      "2020-01-27 13:40:11,518 : INFO : PROGRESS: at sentence #590000, processed 13184644 words, keeping 109707 word types\n",
      "2020-01-27 13:40:11,562 : INFO : PROGRESS: at sentence #600000, processed 13407995 words, keeping 110494 word types\n",
      "2020-01-27 13:40:11,602 : INFO : PROGRESS: at sentence #610000, processed 13627588 words, keeping 111359 word types\n",
      "2020-01-27 13:40:11,643 : INFO : PROGRESS: at sentence #620000, processed 13853051 words, keeping 112154 word types\n",
      "2020-01-27 13:40:11,684 : INFO : PROGRESS: at sentence #630000, processed 14075995 words, keeping 112947 word types\n",
      "2020-01-27 13:40:11,726 : INFO : PROGRESS: at sentence #640000, processed 14297059 words, keeping 113729 word types\n",
      "2020-01-27 13:40:11,770 : INFO : PROGRESS: at sentence #650000, processed 14519504 words, keeping 114553 word types\n",
      "2020-01-27 13:40:11,815 : INFO : PROGRESS: at sentence #660000, processed 14745499 words, keeping 115315 word types\n",
      "2020-01-27 13:40:11,859 : INFO : PROGRESS: at sentence #670000, processed 14968729 words, keeping 116045 word types\n",
      "2020-01-27 13:40:11,903 : INFO : PROGRESS: at sentence #680000, processed 15195604 words, keeping 116783 word types\n",
      "2020-01-27 13:40:11,944 : INFO : PROGRESS: at sentence #690000, processed 15416766 words, keeping 117495 word types\n",
      "2020-01-27 13:40:11,988 : INFO : PROGRESS: at sentence #700000, processed 15641604 words, keeping 118310 word types\n",
      "2020-01-27 13:40:12,029 : INFO : PROGRESS: at sentence #710000, processed 15868828 words, keeping 119034 word types\n",
      "2020-01-27 13:40:12,071 : INFO : PROGRESS: at sentence #720000, processed 16095022 words, keeping 119698 word types\n",
      "2020-01-27 13:40:12,112 : INFO : PROGRESS: at sentence #730000, processed 16315885 words, keeping 120387 word types\n",
      "2020-01-27 13:40:12,155 : INFO : PROGRESS: at sentence #740000, processed 16538959 words, keeping 121074 word types\n",
      "2020-01-27 13:40:12,196 : INFO : PROGRESS: at sentence #750000, processed 16761927 words, keeping 121794 word types\n",
      "2020-01-27 13:40:12,236 : INFO : PROGRESS: at sentence #760000, processed 16981540 words, keeping 122449 word types\n",
      "2020-01-27 13:40:12,278 : INFO : PROGRESS: at sentence #770000, processed 17201206 words, keeping 123122 word types\n"
     ]
    },
    {
     "name": "stderr",
     "output_type": "stream",
     "text": [
      "2020-01-27 13:40:12,319 : INFO : PROGRESS: at sentence #780000, processed 17429296 words, keeping 123847 word types\n",
      "2020-01-27 13:40:12,362 : INFO : PROGRESS: at sentence #790000, processed 17657555 words, keeping 124556 word types\n",
      "2020-01-27 13:40:12,403 : INFO : PROGRESS: at sentence #800000, processed 17881718 words, keeping 125312 word types\n",
      "2020-01-27 13:40:12,409 : INFO : collected 125408 word types from a corpus of 17910999 raw words and 801316 sentences\n",
      "2020-01-27 13:40:12,409 : INFO : Loading a fresh vocabulary\n",
      "2020-01-27 13:40:12,466 : INFO : effective_min_count=40 retains 16670 unique words (13% of original 125408, drops 108738)\n",
      "2020-01-27 13:40:12,467 : INFO : effective_min_count=40 leaves 17347017 word corpus (96% of original 17910999, drops 563982)\n",
      "2020-01-27 13:40:12,508 : INFO : deleting the raw counts dictionary of 125408 items\n",
      "2020-01-27 13:40:12,511 : INFO : sample=0.001 downsamples 48 most-common words\n",
      "2020-01-27 13:40:12,511 : INFO : downsampling leaves estimated 12870302 word corpus (74.2% of prior 17347017)\n",
      "2020-01-27 13:40:12,556 : INFO : estimated required memory for 16670 words and 300 dimensions: 48343000 bytes\n",
      "2020-01-27 13:40:12,557 : INFO : resetting layer weights\n",
      "2020-01-27 13:40:15,408 : INFO : training model with 4 workers on 16670 vocabulary and 300 features, using sg=0 hs=0 sample=0.001 negative=5 window=10\n",
      "2020-01-27 13:40:16,420 : INFO : EPOCH 1 - PROGRESS: at 9.28% examples, 1185988 words/s, in_qsize 7, out_qsize 0\n",
      "2020-01-27 13:40:17,424 : INFO : EPOCH 1 - PROGRESS: at 19.41% examples, 1235982 words/s, in_qsize 7, out_qsize 0\n",
      "2020-01-27 13:40:18,424 : INFO : EPOCH 1 - PROGRESS: at 29.67% examples, 1263495 words/s, in_qsize 7, out_qsize 0\n",
      "2020-01-27 13:40:19,430 : INFO : EPOCH 1 - PROGRESS: at 40.37% examples, 1288324 words/s, in_qsize 7, out_qsize 0\n",
      "2020-01-27 13:40:20,431 : INFO : EPOCH 1 - PROGRESS: at 50.85% examples, 1301194 words/s, in_qsize 7, out_qsize 0\n",
      "2020-01-27 13:40:21,432 : INFO : EPOCH 1 - PROGRESS: at 60.84% examples, 1300186 words/s, in_qsize 7, out_qsize 0\n",
      "2020-01-27 13:40:22,435 : INFO : EPOCH 1 - PROGRESS: at 70.97% examples, 1300747 words/s, in_qsize 7, out_qsize 0\n",
      "2020-01-27 13:40:23,440 : INFO : EPOCH 1 - PROGRESS: at 81.46% examples, 1305953 words/s, in_qsize 7, out_qsize 0\n",
      "2020-01-27 13:40:24,445 : INFO : EPOCH 1 - PROGRESS: at 92.11% examples, 1312845 words/s, in_qsize 8, out_qsize 0\n",
      "2020-01-27 13:40:25,184 : INFO : worker thread finished; awaiting finish of 3 more threads\n",
      "2020-01-27 13:40:25,188 : INFO : worker thread finished; awaiting finish of 2 more threads\n",
      "2020-01-27 13:40:25,189 : INFO : worker thread finished; awaiting finish of 1 more threads\n",
      "2020-01-27 13:40:25,194 : INFO : worker thread finished; awaiting finish of 0 more threads\n",
      "2020-01-27 13:40:25,194 : INFO : EPOCH - 1 : training on 17910999 raw words (12869934 effective words) took 9.8s, 1316026 effective words/s\n",
      "2020-01-27 13:40:26,200 : INFO : EPOCH 2 - PROGRESS: at 10.18% examples, 1304710 words/s, in_qsize 7, out_qsize 0\n",
      "2020-01-27 13:40:27,201 : INFO : EPOCH 2 - PROGRESS: at 20.24% examples, 1293731 words/s, in_qsize 7, out_qsize 0\n",
      "2020-01-27 13:40:28,203 : INFO : EPOCH 2 - PROGRESS: at 30.99% examples, 1320532 words/s, in_qsize 7, out_qsize 0\n",
      "2020-01-27 13:40:29,207 : INFO : EPOCH 2 - PROGRESS: at 41.38% examples, 1322878 words/s, in_qsize 8, out_qsize 0\n",
      "2020-01-27 13:40:30,208 : INFO : EPOCH 2 - PROGRESS: at 51.76% examples, 1326154 words/s, in_qsize 7, out_qsize 0\n",
      "2020-01-27 13:40:31,211 : INFO : EPOCH 2 - PROGRESS: at 62.06% examples, 1327799 words/s, in_qsize 7, out_qsize 0\n",
      "2020-01-27 13:40:32,214 : INFO : EPOCH 2 - PROGRESS: at 72.12% examples, 1323162 words/s, in_qsize 7, out_qsize 0\n",
      "2020-01-27 13:40:33,218 : INFO : EPOCH 2 - PROGRESS: at 82.91% examples, 1330133 words/s, in_qsize 7, out_qsize 0\n",
      "2020-01-27 13:40:34,226 : INFO : EPOCH 2 - PROGRESS: at 93.46% examples, 1332540 words/s, in_qsize 7, out_qsize 0\n",
      "2020-01-27 13:40:34,842 : INFO : worker thread finished; awaiting finish of 3 more threads\n",
      "2020-01-27 13:40:34,847 : INFO : worker thread finished; awaiting finish of 2 more threads\n",
      "2020-01-27 13:40:34,848 : INFO : worker thread finished; awaiting finish of 1 more threads\n",
      "2020-01-27 13:40:34,850 : INFO : worker thread finished; awaiting finish of 0 more threads\n",
      "2020-01-27 13:40:34,851 : INFO : EPOCH - 2 : training on 17910999 raw words (12870948 effective words) took 9.7s, 1333484 effective words/s\n",
      "2020-01-27 13:40:35,857 : INFO : EPOCH 3 - PROGRESS: at 10.57% examples, 1355583 words/s, in_qsize 7, out_qsize 0\n",
      "2020-01-27 13:40:36,868 : INFO : EPOCH 3 - PROGRESS: at 20.70% examples, 1316224 words/s, in_qsize 8, out_qsize 1\n",
      "2020-01-27 13:40:37,874 : INFO : EPOCH 3 - PROGRESS: at 31.16% examples, 1321655 words/s, in_qsize 7, out_qsize 0\n",
      "2020-01-27 13:40:38,876 : INFO : EPOCH 3 - PROGRESS: at 40.99% examples, 1306326 words/s, in_qsize 7, out_qsize 0\n",
      "2020-01-27 13:40:39,876 : INFO : EPOCH 3 - PROGRESS: at 50.51% examples, 1291847 words/s, in_qsize 7, out_qsize 0\n",
      "2020-01-27 13:40:40,882 : INFO : EPOCH 3 - PROGRESS: at 59.95% examples, 1279492 words/s, in_qsize 7, out_qsize 0\n",
      "2020-01-27 13:40:41,883 : INFO : EPOCH 3 - PROGRESS: at 68.73% examples, 1257530 words/s, in_qsize 8, out_qsize 0\n",
      "2020-01-27 13:40:42,884 : INFO : EPOCH 3 - PROGRESS: at 78.00% examples, 1249959 words/s, in_qsize 7, out_qsize 0\n",
      "2020-01-27 13:40:43,888 : INFO : EPOCH 3 - PROGRESS: at 87.68% examples, 1249242 words/s, in_qsize 7, out_qsize 0\n",
      "2020-01-27 13:40:44,895 : INFO : EPOCH 3 - PROGRESS: at 97.92% examples, 1255386 words/s, in_qsize 8, out_qsize 0\n",
      "2020-01-27 13:40:45,101 : INFO : worker thread finished; awaiting finish of 3 more threads\n",
      "2020-01-27 13:40:45,106 : INFO : worker thread finished; awaiting finish of 2 more threads\n",
      "2020-01-27 13:40:45,108 : INFO : worker thread finished; awaiting finish of 1 more threads\n",
      "2020-01-27 13:40:45,112 : INFO : worker thread finished; awaiting finish of 0 more threads\n",
      "2020-01-27 13:40:45,112 : INFO : EPOCH - 3 : training on 17910999 raw words (12870019 effective words) took 10.3s, 1254954 effective words/s\n",
      "2020-01-27 13:40:46,119 : INFO : EPOCH 4 - PROGRESS: at 10.02% examples, 1281157 words/s, in_qsize 7, out_qsize 0\n",
      "2020-01-27 13:40:47,129 : INFO : EPOCH 4 - PROGRESS: at 19.46% examples, 1237073 words/s, in_qsize 7, out_qsize 0\n",
      "2020-01-27 13:40:48,133 : INFO : EPOCH 4 - PROGRESS: at 29.39% examples, 1249073 words/s, in_qsize 7, out_qsize 0\n",
      "2020-01-27 13:40:49,139 : INFO : EPOCH 4 - PROGRESS: at 39.39% examples, 1253621 words/s, in_qsize 7, out_qsize 0\n",
      "2020-01-27 13:40:50,140 : INFO : EPOCH 4 - PROGRESS: at 49.23% examples, 1257875 words/s, in_qsize 7, out_qsize 0\n",
      "2020-01-27 13:40:51,143 : INFO : EPOCH 4 - PROGRESS: at 59.23% examples, 1264032 words/s, in_qsize 7, out_qsize 0\n",
      "2020-01-27 13:40:52,147 : INFO : EPOCH 4 - PROGRESS: at 68.83% examples, 1259054 words/s, in_qsize 7, out_qsize 0\n",
      "2020-01-27 13:40:53,159 : INFO : EPOCH 4 - PROGRESS: at 78.84% examples, 1261214 words/s, in_qsize 7, out_qsize 0\n",
      "2020-01-27 13:40:54,162 : INFO : EPOCH 4 - PROGRESS: at 87.94% examples, 1251411 words/s, in_qsize 7, out_qsize 0\n",
      "2020-01-27 13:40:55,164 : INFO : EPOCH 4 - PROGRESS: at 97.70% examples, 1251585 words/s, in_qsize 7, out_qsize 0\n",
      "2020-01-27 13:40:55,395 : INFO : worker thread finished; awaiting finish of 3 more threads\n",
      "2020-01-27 13:40:55,400 : INFO : worker thread finished; awaiting finish of 2 more threads\n",
      "2020-01-27 13:40:55,403 : INFO : worker thread finished; awaiting finish of 1 more threads\n",
      "2020-01-27 13:40:55,407 : INFO : worker thread finished; awaiting finish of 0 more threads\n",
      "2020-01-27 13:40:55,408 : INFO : EPOCH - 4 : training on 17910999 raw words (12871343 effective words) took 10.3s, 1250774 effective words/s\n",
      "2020-01-27 13:40:56,418 : INFO : EPOCH 5 - PROGRESS: at 9.91% examples, 1262897 words/s, in_qsize 8, out_qsize 0\n",
      "2020-01-27 13:40:57,421 : INFO : EPOCH 5 - PROGRESS: at 19.57% examples, 1246784 words/s, in_qsize 7, out_qsize 0\n",
      "2020-01-27 13:40:58,421 : INFO : EPOCH 5 - PROGRESS: at 29.61% examples, 1261311 words/s, in_qsize 7, out_qsize 0\n",
      "2020-01-27 13:40:59,422 : INFO : EPOCH 5 - PROGRESS: at 39.67% examples, 1266448 words/s, in_qsize 7, out_qsize 0\n",
      "2020-01-27 13:41:00,427 : INFO : EPOCH 5 - PROGRESS: at 49.62% examples, 1270059 words/s, in_qsize 7, out_qsize 0\n"
     ]
    },
    {
     "name": "stderr",
     "output_type": "stream",
     "text": [
      "2020-01-27 13:41:01,433 : INFO : EPOCH 5 - PROGRESS: at 59.51% examples, 1270883 words/s, in_qsize 7, out_qsize 0\n",
      "2020-01-27 13:41:02,433 : INFO : EPOCH 5 - PROGRESS: at 69.09% examples, 1265526 words/s, in_qsize 7, out_qsize 0\n",
      "2020-01-27 13:41:03,436 : INFO : EPOCH 5 - PROGRESS: at 78.67% examples, 1261044 words/s, in_qsize 7, out_qsize 0\n",
      "2020-01-27 13:41:04,437 : INFO : EPOCH 5 - PROGRESS: at 87.35% examples, 1245165 words/s, in_qsize 7, out_qsize 0\n",
      "2020-01-27 13:41:05,447 : INFO : EPOCH 5 - PROGRESS: at 97.33% examples, 1247825 words/s, in_qsize 7, out_qsize 0\n",
      "2020-01-27 13:41:05,716 : INFO : worker thread finished; awaiting finish of 3 more threads\n",
      "2020-01-27 13:41:05,719 : INFO : worker thread finished; awaiting finish of 2 more threads\n",
      "2020-01-27 13:41:05,722 : INFO : worker thread finished; awaiting finish of 1 more threads\n",
      "2020-01-27 13:41:05,726 : INFO : worker thread finished; awaiting finish of 0 more threads\n",
      "2020-01-27 13:41:05,726 : INFO : EPOCH - 5 : training on 17910999 raw words (12867594 effective words) took 10.3s, 1247614 effective words/s\n",
      "2020-01-27 13:41:05,727 : INFO : training on a 89554995 raw words (64349838 effective words) took 50.3s, 1278861 effective words/s\n",
      "2020-01-27 13:41:05,727 : INFO : precomputing L2-norms of word weight vectors\n",
      "2020-01-27 13:41:05,744 : INFO : saving Word2Vec object under w2v_model_300features, separately None\n",
      "2020-01-27 13:41:05,744 : INFO : not storing attribute vectors_norm\n",
      "2020-01-27 13:41:05,745 : INFO : not storing attribute cum_table\n",
      "2020-01-27 13:41:06,128 : INFO : saved w2v_model_300features\n"
     ]
    }
   ],
   "source": [
    "from gensim.models import word2vec\n",
    "import logging \n",
    "\n",
    "# Configure logging so that Word2Vec creates nice output messages\n",
    "logging.basicConfig(format='%(asctime)s : %(levelname)s : %(message)s',\\\n",
    "    level=logging.INFO)\n",
    "\n",
    "# Set parameter values\n",
    "embed_size = 300 # Word vector dimensionality\n",
    "window_context = 10 # Context window size\n",
    "num_workers = 4 # Number of threads to run in parallel\n",
    "min_word_count = 40 # Minimum word count\n",
    "downsampling = 1e-3 # Downsample setting for frequent words\n",
    "\n",
    "print(\"Training model...\")\n",
    "w2v_model = word2vec.Word2Vec(sentences, workers=num_workers, \\\n",
    "                              size=embed_size, window=window_context, \n",
    "                              min_count = min_word_count, sample=downsampling)\n",
    "\n",
    "# Calling init_sims makes the model much more memory efficient if the model \n",
    "# is not expected to be trained any further\n",
    "w2v_model.init_sims(replace=True)\n",
    "\n",
    "# save the model for future use\n",
    "model_name = \"w2v_model_300features\"\n",
    "w2v_model.save(model_name)"
   ]
  },
  {
   "cell_type": "code",
   "execution_count": 15,
   "metadata": {},
   "outputs": [
    {
     "data": {
      "text/plain": [
       "{'movie': ['film', 'flick', 'it', 'movies', 'sequel'],\n",
       " 'sex': ['sexual', 'masturbation', 'lesbian', 'nudity', 'rape'],\n",
       " 'genre': ['thrillers', 'giallo', 'genres', 'conventions', 'category'],\n",
       " 'scary': ['frightening', 'gory', 'funny', 'creepy', 'suspenseful'],\n",
       " 'romance': ['romantic', 'drama', 'melodrama', 'rivalry', 'intrigue'],\n",
       " 'action': ['suspense', 'excitement', 'thrills', 'explosions', 'shootouts'],\n",
       " 'indie': ['independent', 'indy', 'exploitation', 'experimental', 'artsy'],\n",
       " 'director': ['filmmaker',\n",
       "  'directors',\n",
       "  'cinematographer',\n",
       "  'screenwriter',\n",
       "  'producer'],\n",
       " 'country': ['india', 'europe', 'nation', 'china', 'communities'],\n",
       " 'france': ['italy', 'germany', 'spain', 'england', 'europe'],\n",
       " 'england': ['france', 'mexico', 'germany', 'london', 'spain'],\n",
       " 'germany': ['europe', 'poland', 'russia', 'spain', 'france'],\n",
       " 'man': ['woman', 'lady', 'lad', 'monk', 'guy'],\n",
       " 'woman': ['lady', 'prostitute', 'girl', 'widow', 'waitress'],\n",
       " 'kitchen': ['bedroom', 'bathroom', 'ceiling', 'coffee', 'basement'],\n",
       " 'city': ['mexico', 'streets', 'chicago', 'suburbs', 'area'],\n",
       " 'berlin': ['austria', 'vienna', 'edinburgh', 'london', 'france'],\n",
       " 'paris': ['france', 'manhattan', 'italy', 'berlin', 'austria']}"
      ]
     },
     "execution_count": 15,
     "metadata": {},
     "output_type": "execute_result"
    }
   ],
   "source": [
    "# view similar words based on gensim's model (just for curiosity's sake)\n",
    "similar_words = {search_term: [item[0] for item in w2v_model.wv.most_similar([search_term], topn=5)]\n",
    "                     for search_term in ['movie', 'sex', 'genre', 'scary', 'romance', 'action', \n",
    "                                         'indie', 'director', 'country', 'france', 'england', \n",
    "                                         'germany', 'man', 'woman', 'kitchen', 'city', 'berlin', 'paris']}\n",
    "similar_words"
   ]
  },
  {
   "cell_type": "code",
   "execution_count": 16,
   "metadata": {},
   "outputs": [
    {
     "name": "stderr",
     "output_type": "stream",
     "text": [
      "2020-01-27 13:41:26,000 : WARNING : vectors for words {'womam'} are not present in the model, ignoring these words\n",
      "C:\\Users\\aksin\\Anaconda3\\lib\\site-packages\\gensim\\models\\keyedvectors.py:877: FutureWarning: arrays to stack must be passed as a \"sequence\" type such as list or tuple. Support for non-sequence iterables such as generators is deprecated as of NumPy 1.16 and will raise an error in the future.\n",
      "  vectors = vstack(self.word_vec(word, use_norm=True) for word in used_words).astype(REAL)\n"
     ]
    },
    {
     "data": {
      "text/plain": [
       "['kitchen', 'berlin', 'paris', 'lamp']"
      ]
     },
     "execution_count": 16,
     "metadata": {},
     "output_type": "execute_result"
    }
   ],
   "source": [
    "st1 = \"man womam child kitchen\"\n",
    "st2 = \"france england germany berlin\"\n",
    "st3 = \"paris berlin london austria\"\n",
    "st4 = \"lamp knife gun shirt\"\n",
    "strs = [st1, st2, st3, st4]\n",
    "\n",
    "[w2v_model.wv.doesnt_match(st.split()) for st in strs]"
   ]
  },
  {
   "cell_type": "markdown",
   "metadata": {},
   "source": [
    "Performs pretty well, but not perfect. Cannot accurately find the odd one out in `st3`.  This is to be expected based on the `similar_words` output above, where some of the similar words identified are non-sensical"
   ]
  },
  {
   "cell_type": "code",
   "execution_count": 18,
   "metadata": {},
   "outputs": [
    {
     "name": "stdout",
     "output_type": "stream",
     "text": [
      "[('woman', 0.6092594265937805), ('lady', 0.5846253633499146), ('lad', 0.5746564865112305), ('monk', 0.5428983569145203), ('guy', 0.5336688160896301), ('men', 0.520950198173523), ('soldier', 0.5172210931777954), ('person', 0.5117766857147217), ('businessman', 0.5098930597305298), ('boy', 0.5041621923446655)] \n",
      "\n",
      "[('lady', 0.6909835338592529), ('prostitute', 0.6768096089363098), ('girl', 0.6588403582572937), ('widow', 0.6459771990776062), ('waitress', 0.6113661527633667), ('man', 0.6092594265937805), ('housewife', 0.5833444595336914), ('nurse', 0.573106050491333), ('maid', 0.567035973072052), ('women', 0.5663032531738281)] \n",
      "\n",
      "[('princess', 0.6583199501037598), ('bride', 0.5973292589187622), ('latifah', 0.589758038520813), ('mistress', 0.5872673988342285), ('maid', 0.584693968296051), ('victoria', 0.5754271149635315), ('belle', 0.5729596018791199), ('stepmother', 0.5632495880126953), ('eva', 0.5517383813858032), ('prince', 0.5507482290267944)] \n",
      "\n",
      "[('princess', 0.7074928283691406), ('king', 0.6566961407661438), ('kingdom', 0.617847204208374), ('throne', 0.6123871207237244), ('belle', 0.5820574760437012), ('bride', 0.5676934719085693), ('mistress', 0.5621097087860107), ('ruler', 0.5620933771133423), ('ahmad', 0.5597578287124634), ('victoria', 0.554424524307251)] \n",
      "\n",
      "[('terrible', 0.7817747592926025), ('atrocious', 0.7369214296340942), ('abysmal', 0.7277501821517944), ('horrible', 0.7252224683761597), ('dreadful', 0.7132635712623596), ('horrendous', 0.6784035563468933), ('appalling', 0.6753695607185364), ('horrid', 0.6428709030151367), ('lousy', 0.6351653337478638), ('crappy', 0.6116458773612976)] \n",
      "\n"
     ]
    }
   ],
   "source": [
    "print(w2v_model.wv.most_similar('man'), '\\n')\n",
    "print(w2v_model.wv.most_similar('woman'), '\\n')\n",
    "print(w2v_model.wv.most_similar('queen'), '\\n')\n",
    "print(w2v_model.wv.most_similar('prince'), '\\n')\n",
    "print(w2v_model.wv.most_similar('awful'), '\\n')"
   ]
  },
  {
   "cell_type": "markdown",
   "metadata": {},
   "source": [
    "#### 4.1.2 Make Predictions Using Vector Averaging\n",
    "\n",
    "One commonly used method is to average the word embeddings for all words in a document, which in this case is a review.  This will give us document-level embeddings as opposed to word-level embeddings.  These document-level embeddings can be used for various purposes like comparing documents, document clustering, etc. \n",
    "\n",
    "##### Average vectors"
   ]
  },
  {
   "cell_type": "code",
   "execution_count": 19,
   "metadata": {},
   "outputs": [],
   "source": [
    "import numpy as np\n",
    "import pandas as pd\n",
    "\n",
    "def averaged_word_vectorizer(words, model, num_features):\n",
    "    \"\"\"\n",
    "    Function to average all of the word vectors in a given text.\n",
    "    Returns a 1D vector\n",
    "    \"\"\"\n",
    "    # Pre-initialize an empty array for speed\n",
    "    feature_vector = np.zeros((num_features), dtype='float64')\n",
    "    \n",
    "    nwords = 0.\n",
    "    \n",
    "    # convert vocabulary to set for speed\n",
    "    vocabulary = set(model.wv.index2word)\n",
    "    \n",
    "    for word in words:\n",
    "        if word in vocabulary:\n",
    "            nwords = nwords + 1.\n",
    "            # add each word's embeddings to the previous vector (feature_vector)\n",
    "            feature_vector = np.add(feature_vector, model[word])\n",
    "        \n",
    "    if nwords:\n",
    "        feature_vector = np.divide(feature_vector, nwords)\n",
    "        # divide by the number of words. \n",
    "        \n",
    "    return feature_vector\n",
    "\n",
    "def averaged_review_vectorizer(reviews, model, num_features):\n",
    "    \"\"\"\n",
    "    Function to calculate the feature vector for each review. \n",
    "    Returns a 2D numpy array\n",
    "    \"\"\"\n",
    "    counter = 0\n",
    "    \n",
    "    # Preallocate a 2D numpy array for speed\n",
    "    review_feature_vectors = np.zeros((len(reviews), num_features), dtype='float32')\n",
    "    \n",
    "    for review in reviews:\n",
    "        if counter % 1000 == 0:\n",
    "            print('Review {0} of {1}'.format(counter, len(reviews)))\n",
    "        \n",
    "        review_feature_vectors[counter] = averaged_word_vectorizer(review, model, num_features)\n",
    "        \n",
    "        counter += 1\n",
    "\n",
    "    return np.array(review_feature_vectors)"
   ]
  },
  {
   "cell_type": "code",
   "execution_count": 20,
   "metadata": {},
   "outputs": [
    {
     "name": "stdout",
     "output_type": "stream",
     "text": [
      "Review 0 of 15000\n"
     ]
    },
    {
     "name": "stderr",
     "output_type": "stream",
     "text": [
      "C:\\Users\\aksin\\Anaconda3\\lib\\site-packages\\ipykernel_launcher.py:21: DeprecationWarning: Call to deprecated `__getitem__` (Method will be removed in 4.0.0, use self.wv.__getitem__() instead).\n"
     ]
    },
    {
     "name": "stdout",
     "output_type": "stream",
     "text": [
      "Review 1000 of 15000\n",
      "Review 2000 of 15000\n",
      "Review 3000 of 15000\n",
      "Review 4000 of 15000\n",
      "Review 5000 of 15000\n",
      "Review 6000 of 15000\n",
      "Review 7000 of 15000\n",
      "Review 8000 of 15000\n",
      "Review 9000 of 15000\n",
      "Review 10000 of 15000\n",
      "Review 11000 of 15000\n",
      "Review 12000 of 15000\n",
      "Review 13000 of 15000\n",
      "Review 14000 of 15000\n",
      "Review 0 of 10000\n",
      "Review 1000 of 10000\n",
      "Review 2000 of 10000\n",
      "Review 3000 of 10000\n",
      "Review 4000 of 10000\n",
      "Review 5000 of 10000\n",
      "Review 6000 of 10000\n",
      "Review 7000 of 10000\n",
      "Review 8000 of 10000\n",
      "Review 9000 of 10000\n"
     ]
    }
   ],
   "source": [
    "# get review-level embeddings for the training set\n",
    "clean_train_reviews = [review_to_wordlist(review, remove_stopwords=True) for review in X_train]\n",
    "training_data_vectors = averaged_review_vectorizer(reviews=clean_train_reviews,\n",
    "                                                   model = w2v_model, \n",
    "                                                   num_features = embed_size)\n",
    "\n",
    "# get review-level embeddings for the test set\n",
    "clean_test_reviews = [review_to_wordlist(review, remove_stopwords=True) for review in X_test]\n",
    "test_data_vectors = averaged_review_vectorizer(reviews=clean_test_reviews, \n",
    "                                               model = w2v_model, \n",
    "                                               num_features = embed_size)"
   ]
  },
  {
   "cell_type": "markdown",
   "metadata": {},
   "source": [
    "##### Random Forest Classifier"
   ]
  },
  {
   "cell_type": "code",
   "execution_count": 30,
   "metadata": {},
   "outputs": [
    {
     "data": {
      "text/plain": [
       "12"
      ]
     },
     "execution_count": 30,
     "metadata": {},
     "output_type": "execute_result"
    }
   ],
   "source": [
    "import numexpr\n",
    "numexpr.set_num_threads(numexpr.detect_number_of_cores())"
   ]
  },
  {
   "cell_type": "code",
   "execution_count": 31,
   "metadata": {},
   "outputs": [],
   "source": [
    "from sklearn.ensemble import RandomForestClassifier\n",
    "\n",
    "forest = RandomForestClassifier(n_estimators=100)\n",
    "forest = forest.fit(training_data_vectors, y_train)"
   ]
  },
  {
   "cell_type": "markdown",
   "metadata": {},
   "source": [
    "##### Evaluate the Model"
   ]
  },
  {
   "cell_type": "code",
   "execution_count": 32,
   "metadata": {},
   "outputs": [],
   "source": [
    "from sklearn.metrics import confusion_matrix\n",
    "import seaborn as sns\n",
    "import matplotlib.pyplot as plt\n",
    "\n",
    "def plot_confusion_matrix(y_true, y_pred, ax, vmax=None,\n",
    "                          normed=True, title='Confusion matrix'):\n",
    "    cm = confusion_matrix(y_true, y_pred)\n",
    "    if normed:\n",
    "        cm = cm.astype('float') / cm.sum(axis=1)[:, np.newaxis]\n",
    "    sns.heatmap(cm, vmax=vmax, annot=True, square=True, ax=ax, \n",
    "                cmap='Blues', cbar=False, linecolor='k',\n",
    "               linewidths=1)\n",
    "    ax.set_title(title, fontsize=16)\n",
    "    ax.set_ylabel('True labels', fontsize=12)\n",
    "    ax.set_xlabel('Predicted labels', y=1.10, fontsize=12)"
   ]
  },
  {
   "cell_type": "code",
   "execution_count": 33,
   "metadata": {},
   "outputs": [],
   "source": [
    "y_train_pred = forest.predict(training_data_vectors)\n",
    "y_test_pred = forest.predict(test_data_vectors)"
   ]
  },
  {
   "cell_type": "code",
   "execution_count": 34,
   "metadata": {},
   "outputs": [
    {
     "data": {
      "image/png": "[encoded data removed]",
      "text/plain": [
       "<Figure size 1008x432 with 2 Axes>"
      ]
     },
     "metadata": {
      "needs_background": "light"
     },
     "output_type": "display_data"
    }
   ],
   "source": [
    "fig, (axis1, axis2) = plt.subplots(nrows=1, ncols=2, figsize=(14, 6))\n",
    "plot_confusion_matrix(y_train, y_train_pred, ax=axis1, \n",
    "                      title='Confusion matrix (train data)')\n",
    "plot_confusion_matrix(y_test, y_test_pred, ax=axis2, \n",
    "                      title='Confusion matrix (test data)')"
   ]
  },
  {
   "cell_type": "code",
   "execution_count": 35,
   "metadata": {
    "scrolled": true
   },
   "outputs": [
    {
     "name": "stdout",
     "output_type": "stream",
     "text": [
      "\n",
      "Classification Report: \n",
      "               precision    recall  f1-score   support\n",
      "\n",
      "           0       0.85      0.82      0.83      5055\n",
      "           1       0.82      0.86      0.84      4945\n",
      "\n",
      "    accuracy                           0.84     10000\n",
      "   macro avg       0.84      0.84      0.84     10000\n",
      "weighted avg       0.84      0.84      0.84     10000\n",
      "\n"
     ]
    }
   ],
   "source": [
    "# Predict sentiment on train set\n",
    "from sklearn.metrics import classification_report\n",
    "\n",
    "print('\\nClassification Report: \\n', classification_report(y_test, y_test_pred))"
   ]
  },
  {
   "cell_type": "markdown",
   "metadata": {},
   "source": [
    "Doesn't perform as well as the unigram BOW model, which gave an accuracy of 0.85. See the other notebook"
   ]
  },
  {
   "cell_type": "markdown",
   "metadata": {},
   "source": [
    "#### 4.1.3 Make Predictions Using Vector Quantization (Clustering)\n",
    "\n",
    "Since Word2Vec creates clusters of semantically related words, another approach is to exploit the similarity of words within a cluster.  This is known as __***vector quantization***__. I'll be using K-Means here. "
   ]
  },
  {
   "cell_type": "code",
   "execution_count": 36,
   "metadata": {},
   "outputs": [],
   "source": [
    "# Get vectors of all words fitted by the w2v_model\n",
    "word_vectors = w2v_model.wv.vectors"
   ]
  },
  {
   "cell_type": "markdown",
   "metadata": {},
   "source": [
    "##### Create clusters"
   ]
  },
  {
   "cell_type": "markdown",
   "metadata": {},
   "source": [
    "Typically can use elbow curves and silhouette scores to identify the number of clusters, but with so many data points, it takes forever.  "
   ]
  },
  {
   "cell_type": "code",
   "execution_count": 37,
   "metadata": {},
   "outputs": [],
   "source": [
    "from sklearn.cluster import KMeans\n",
    "from sklearn.metrics import silhouette_score\n",
    "from scipy.spatial.distance import cdist\n",
    "import numpy as np\n",
    "import matplotlib.pyplot as plt\n",
    "\n",
    "def plot_elbow_silhouette_curves(vectors, max_cluster=10, step=1):\n",
    "    X = vectors\n",
    "    distortions = []\n",
    "    inertias = []\n",
    "    silhouettes = []\n",
    "    \n",
    "    # Determine K for K Means\n",
    "    K = range(2, max_cluster+1, step)\n",
    "    \n",
    "    for k in K:\n",
    "        print(\"Clustering with k = {}\".format(k))\n",
    "        kmeans_model = KMeans(n_clusters=k).fit(X)\n",
    "        kmeans_model.fit(X)\n",
    "        labels = kmeans_model.predict(X)\n",
    "        \n",
    "        distortions.append(sum(np.min(cdist(X, kmeans_model.cluster_centers_, 'euclidean'), axis=1)) / X.shape[0])\n",
    "        inertias.append(kmeans_model.inertia_)\n",
    "        silhouettes.append(silhouette_score(X, labels, metric='euclidean'))\n",
    "    \n",
    "    fig, (ax1, ax2, ax3) = plt.subplots(nrows=1, ncols=3)\n",
    "    \n",
    "    # plot the elbow graph using distortion\n",
    "    ax1.plot(K, distortions, 'bx-')\n",
    "    ax1.set_xlabel('k')\n",
    "    ax1.set_ylabel('Distortion')\n",
    "    ax1.set_title('Elbow graph using Distortion')\n",
    "    \n",
    "    # plot the elbow graph using inertia\n",
    "    ax2.plot(K, inertias, 'bx-')\n",
    "    ax2.set_xlabel('k')\n",
    "    ax2.set_ylabel('Inertia')\n",
    "    ax2.set_title('Elbow graph using Inertia')\n",
    "    \n",
    "    # plot silhouette scores\n",
    "    ax3.plot(K, silhouettes, 'bx-')\n",
    "    ax3.set_xlabel('k')\n",
    "    ax3.set_ylabel('Silhouette Score')\n",
    "    ax3.set_title('Silhouette Score for each cluster')"
   ]
  },
  {
   "cell_type": "code",
   "execution_count": 38,
   "metadata": {
    "scrolled": true
   },
   "outputs": [],
   "source": [
    "# plot_elbow_silhouette_curves(word_vectors, max_cluster=10000, step=500)"
   ]
  },
  {
   "cell_type": "code",
   "execution_count": 39,
   "metadata": {},
   "outputs": [
    {
     "name": "stdout",
     "output_type": "stream",
     "text": [
      "Time elapsed: 1280.4886627197266 seconds\n"
     ]
    }
   ],
   "source": [
    "from sklearn.cluster import KMeans\n",
    "import time\n",
    "\n",
    "start = time.time()\n",
    "\n",
    "# 5 words per cluster based on the silhouette score above\n",
    "num_clusters = word_vectors.shape[0] // 5\n",
    "kmeans_model = KMeans(n_clusters = num_clusters)\n",
    "idx = kmeans_model.fit_predict(word_vectors)\n",
    "\n",
    "end = time.time()\n",
    "\n",
    "print('Time elapsed: {} seconds'.format(end-start))"
   ]
  },
  {
   "cell_type": "code",
   "execution_count": 40,
   "metadata": {},
   "outputs": [
    {
     "name": "stdout",
     "output_type": "stream",
     "text": [
      "\n",
      "Cluster 100:\n",
      "['isn', 'wasn', 'aren', 'weren', 'ain']\n",
      "\n",
      "Cluster 101:\n",
      "['harp', 'bethany', 'wolverine', 'aileen', 'taj', 'mira', 'seuss', 'mi', 'kellogg', 'wigand', 'har', 'nacho', 'eliot', 'zelda']\n",
      "\n",
      "Cluster 102:\n",
      "['unknown', 'isolated', 'unnamed', 'antique', 'idealized']\n",
      "\n",
      "Cluster 103:\n",
      "['controversial', 'relevant', 'topical', 'debatable', 'probable']\n",
      "\n",
      "Cluster 104:\n",
      "['sensibilities', 'sentiments']\n",
      "\n",
      "Cluster 105:\n",
      "['bleed', 'grinding', 'vent', 'diet', 'veins', 'roar', 'slices']\n",
      "\n",
      "Cluster 106:\n",
      "['accent', 'dubbed', 'accents', 'dubbing', 'dub']\n",
      "\n",
      "Cluster 107:\n",
      "['contained', 'incorporates', 'strays']\n",
      "\n",
      "Cluster 108:\n",
      "['red', 'blue', 'yellow', 'colored', 'neon', 'flashing', 'shiny']\n",
      "\n",
      "Cluster 109:\n",
      "['endearing', 'earnest']\n",
      "\n",
      "Cluster 110:\n",
      "['killed', 'trapped', 'attacked', 'kidnapped', 'possessed', 'chased', 'eaten', 'infected', 'bitten', 'dumped', 'cursed', 'hunted', 'butchered', 'slaughtered', 'abducted', 'stalked']\n"
     ]
    }
   ],
   "source": [
    "# Create a word / index dictionary mapping each vocab word to a cluster number\n",
    "word_centroid_map = dict(zip(w2v_model.wv.index2word, idx))\n",
    "\n",
    "for cluster in range(100, 111):\n",
    "    print(\"\\nCluster {}:\".format(cluster))\n",
    "    words = []\n",
    "    for k, v in word_centroid_map.items():\n",
    "        if v == cluster:\n",
    "            words.append(k)\n",
    "    \n",
    "    print(words)\n"
   ]
  },
  {
   "cell_type": "markdown",
   "metadata": {},
   "source": [
    "##### Create a Bag of Centroids\n",
    "This is similar to the Bag of Words, but instead we are creating a bag of centroids, i.e., semantically related clusters"
   ]
  },
  {
   "cell_type": "code",
   "execution_count": 41,
   "metadata": {},
   "outputs": [],
   "source": [
    "def create_bag_of_centroids(wordlist, word_centroid_map):\n",
    "    \n",
    "    # number of clusters is equal to the highest cluster index in the centroid map\n",
    "    num_centroids = max(word_centroid_map.values()) + 1\n",
    "    \n",
    "    bag_of_centroids = np.zeros(num_centroids, dtype='float32')\n",
    "    \n",
    "    # Loop over the words in the review, find the cluster it belongs to \n",
    "    # and increment that cluster count by one\n",
    "    for word in wordlist:\n",
    "        if word in word_centroid_map:\n",
    "            idx = word_centroid_map[word]\n",
    "            bag_of_centroids[idx] += 1\n",
    "    \n",
    "    return bag_of_centroids"
   ]
  },
  {
   "cell_type": "code",
   "execution_count": 42,
   "metadata": {},
   "outputs": [],
   "source": [
    "train_centroids = np.zeros((X_train.size, num_clusters), dtype='float32')\n",
    "\n",
    "# Transform the training set reviews into bag of centroids\n",
    "counter = 0\n",
    "for review in clean_train_reviews:\n",
    "    train_centroids[counter] = create_bag_of_centroids(review, word_centroid_map)\n",
    "    counter += 1\n",
    "\n",
    "test_centroids = np.zeros((X_test.size, num_clusters), dtype='float32')\n",
    "\n",
    "# Transform the test set reviews into bag of centroids\n",
    "counter = 0\n",
    "for review in clean_test_reviews:\n",
    "    test_centroids[counter] = create_bag_of_centroids(review, word_centroid_map)\n",
    "    counter += 1"
   ]
  },
  {
   "cell_type": "markdown",
   "metadata": {},
   "source": [
    "##### Random Forest Classifier"
   ]
  },
  {
   "cell_type": "code",
   "execution_count": 46,
   "metadata": {},
   "outputs": [],
   "source": [
    "from sklearn.ensemble import RandomForestClassifier\n",
    "\n",
    "forest = forest.fit(train_centroids, y_train)\n",
    "\n",
    "y_train_pred = forest.predict(train_centroids)\n",
    "y_test_pred = forest.predict(test_centroids)"
   ]
  },
  {
   "cell_type": "code",
   "execution_count": 47,
   "metadata": {},
   "outputs": [
    {
     "data": {
      "image/png": "[encoded data removed]",
      "text/plain": [
       "<Figure size 1008x432 with 2 Axes>"
      ]
     },
     "metadata": {
      "needs_background": "light"
     },
     "output_type": "display_data"
    }
   ],
   "source": [
    "fig, (axis1, axis2) = plt.subplots(nrows=1, ncols=2, figsize=(14, 6))\n",
    "plot_confusion_matrix(y_train, y_train_pred, ax=axis1, \n",
    "                      title='Confusion matrix (train data)')\n",
    "plot_confusion_matrix(y_test, y_test_pred, ax=axis2, \n",
    "                      title='Confusion matrix (test data)')"
   ]
  },
  {
   "cell_type": "code",
   "execution_count": 48,
   "metadata": {},
   "outputs": [
    {
     "name": "stdout",
     "output_type": "stream",
     "text": [
      "\n",
      "Classification Report: \n",
      "               precision    recall  f1-score   support\n",
      "\n",
      "           0       0.85      0.85      0.85      5055\n",
      "           1       0.84      0.84      0.84      4945\n",
      "\n",
      "    accuracy                           0.84     10000\n",
      "   macro avg       0.84      0.84      0.84     10000\n",
      "weighted avg       0.84      0.84      0.84     10000\n",
      "\n"
     ]
    }
   ],
   "source": [
    "print('\\nClassification Report: \\n', classification_report(y_test, y_test_pred))"
   ]
  },
  {
   "cell_type": "markdown",
   "metadata": {},
   "source": [
    "Pretty good, but still no better than the unigram BOW approach"
   ]
  },
  {
   "cell_type": "markdown",
   "metadata": {},
   "source": [
    "### 4.2 FastText using Gensim"
   ]
  },
  {
   "cell_type": "code",
   "execution_count": 49,
   "metadata": {
    "scrolled": true
   },
   "outputs": [
    {
     "name": "stderr",
     "output_type": "stream",
     "text": [
      "2020-01-27 15:25:11,671 : INFO : resetting layer weights\n"
     ]
    },
    {
     "name": "stdout",
     "output_type": "stream",
     "text": [
      "Training model...\n"
     ]
    },
    {
     "name": "stderr",
     "output_type": "stream",
     "text": [
      "2020-01-27 15:25:40,059 : INFO : collecting all words and their counts\n",
      "2020-01-27 15:25:40,194 : INFO : PROGRESS: at sentence #0, processed 0 words, keeping 0 word types\n",
      "2020-01-27 15:25:40,373 : INFO : PROGRESS: at sentence #10000, processed 226181 words, keeping 17912 word types\n",
      "2020-01-27 15:25:40,470 : INFO : PROGRESS: at sentence #20000, processed 452687 words, keeping 25144 word types\n",
      "2020-01-27 15:25:40,561 : INFO : PROGRESS: at sentence #30000, processed 671561 words, keeping 30272 word types\n",
      "2020-01-27 15:25:40,665 : INFO : PROGRESS: at sentence #40000, processed 897947 words, keeping 34632 word types\n",
      "2020-01-27 15:25:40,767 : INFO : PROGRESS: at sentence #50000, processed 1117306 words, keeping 38078 word types\n",
      "2020-01-27 15:25:40,870 : INFO : PROGRESS: at sentence #60000, processed 1338925 words, keeping 41078 word types\n",
      "2020-01-27 15:25:40,979 : INFO : PROGRESS: at sentence #70000, processed 1561479 words, keeping 43680 word types\n",
      "2020-01-27 15:25:41,096 : INFO : PROGRESS: at sentence #80000, processed 1780536 words, keeping 46129 word types\n",
      "2020-01-27 15:25:41,193 : INFO : PROGRESS: at sentence #90000, processed 2005917 words, keeping 48518 word types\n",
      "2020-01-27 15:25:41,292 : INFO : PROGRESS: at sentence #100000, processed 2227377 words, keeping 50653 word types\n",
      "2020-01-27 15:25:41,399 : INFO : PROGRESS: at sentence #110000, processed 2447329 words, keeping 52506 word types\n",
      "2020-01-27 15:25:41,500 : INFO : PROGRESS: at sentence #120000, processed 2668996 words, keeping 54576 word types\n",
      "2020-01-27 15:25:41,607 : INFO : PROGRESS: at sentence #130000, processed 2893465 words, keeping 56326 word types\n",
      "2020-01-27 15:25:41,716 : INFO : PROGRESS: at sentence #140000, processed 3107776 words, keeping 57885 word types\n",
      "2020-01-27 15:25:41,839 : INFO : PROGRESS: at sentence #150000, processed 3333687 words, keeping 59588 word types\n",
      "2020-01-27 15:25:41,958 : INFO : PROGRESS: at sentence #160000, processed 3554734 words, keeping 61165 word types\n",
      "2020-01-27 15:25:42,076 : INFO : PROGRESS: at sentence #170000, processed 3776237 words, keeping 62590 word types\n",
      "2020-01-27 15:25:42,168 : INFO : PROGRESS: at sentence #180000, processed 3999522 words, keeping 64111 word types\n",
      "2020-01-27 15:25:42,252 : INFO : PROGRESS: at sentence #190000, processed 4224382 words, keeping 65402 word types\n",
      "2020-01-27 15:25:42,334 : INFO : PROGRESS: at sentence #200000, processed 4446199 words, keeping 66678 word types\n",
      "2020-01-27 15:25:42,425 : INFO : PROGRESS: at sentence #210000, processed 4666430 words, keeping 67988 word types\n",
      "2020-01-27 15:25:42,539 : INFO : PROGRESS: at sentence #220000, processed 4891951 words, keeping 69325 word types\n",
      "2020-01-27 15:25:42,644 : INFO : PROGRESS: at sentence #230000, processed 5115355 words, keeping 70613 word types\n",
      "2020-01-27 15:25:42,739 : INFO : PROGRESS: at sentence #240000, processed 5340542 words, keeping 71836 word types\n",
      "2020-01-27 15:25:42,831 : INFO : PROGRESS: at sentence #250000, processed 5556916 words, keeping 73049 word types\n",
      "2020-01-27 15:25:42,925 : INFO : PROGRESS: at sentence #260000, processed 5777211 words, keeping 74160 word types\n",
      "2020-01-27 15:25:43,030 : INFO : PROGRESS: at sentence #270000, processed 5995841 words, keeping 75390 word types\n",
      "2020-01-27 15:25:43,146 : INFO : PROGRESS: at sentence #280000, processed 6221331 words, keeping 76943 word types\n",
      "2020-01-27 15:25:43,262 : INFO : PROGRESS: at sentence #290000, processed 6444735 words, keeping 78468 word types\n",
      "2020-01-27 15:25:43,381 : INFO : PROGRESS: at sentence #300000, processed 6670791 words, keeping 79909 word types\n",
      "2020-01-27 15:25:43,499 : INFO : PROGRESS: at sentence #310000, processed 6894564 words, keeping 81215 word types\n",
      "2020-01-27 15:25:43,609 : INFO : PROGRESS: at sentence #320000, processed 7119812 words, keeping 82574 word types\n",
      "2020-01-27 15:25:43,704 : INFO : PROGRESS: at sentence #330000, processed 7342094 words, keeping 83795 word types\n",
      "2020-01-27 15:25:43,802 : INFO : PROGRESS: at sentence #340000, processed 7570222 words, keeping 85054 word types\n",
      "2020-01-27 15:25:43,906 : INFO : PROGRESS: at sentence #350000, processed 7795789 words, keeping 86258 word types\n",
      "2020-01-27 15:25:44,004 : INFO : PROGRESS: at sentence #360000, processed 8015401 words, keeping 87418 word types\n",
      "2020-01-27 15:25:44,091 : INFO : PROGRESS: at sentence #370000, processed 8242581 words, keeping 88539 word types\n",
      "2020-01-27 15:25:44,174 : INFO : PROGRESS: at sentence #380000, processed 8467900 words, keeping 89700 word types\n",
      "2020-01-27 15:25:44,263 : INFO : PROGRESS: at sentence #390000, processed 8693650 words, keeping 90814 word types\n",
      "2020-01-27 15:25:44,365 : INFO : PROGRESS: at sentence #400000, processed 8918917 words, keeping 91819 word types\n",
      "2020-01-27 15:25:44,452 : INFO : PROGRESS: at sentence #410000, processed 9138453 words, keeping 92819 word types\n",
      "2020-01-27 15:25:44,556 : INFO : PROGRESS: at sentence #420000, processed 9362153 words, keeping 93867 word types\n",
      "2020-01-27 15:25:44,665 : INFO : PROGRESS: at sentence #430000, processed 9584365 words, keeping 94862 word types\n",
      "2020-01-27 15:25:44,777 : INFO : PROGRESS: at sentence #440000, processed 9812604 words, keeping 95870 word types\n",
      "2020-01-27 15:25:44,880 : INFO : PROGRESS: at sentence #450000, processed 10037147 words, keeping 96950 word types\n",
      "2020-01-27 15:25:44,985 : INFO : PROGRESS: at sentence #460000, processed 10266351 words, keeping 98042 word types\n",
      "2020-01-27 15:25:45,083 : INFO : PROGRESS: at sentence #470000, processed 10493154 words, keeping 98940 word types\n",
      "2020-01-27 15:25:45,211 : INFO : PROGRESS: at sentence #480000, processed 10721848 words, keeping 99892 word types\n",
      "2020-01-27 15:25:45,339 : INFO : PROGRESS: at sentence #490000, processed 10945453 words, keeping 100985 word types\n",
      "2020-01-27 15:25:45,446 : INFO : PROGRESS: at sentence #500000, processed 11166545 words, keeping 101849 word types\n",
      "2020-01-27 15:25:45,555 : INFO : PROGRESS: at sentence #510000, processed 11389135 words, keeping 102788 word types\n",
      "2020-01-27 15:25:45,688 : INFO : PROGRESS: at sentence #520000, processed 11613995 words, keeping 103709 word types\n",
      "2020-01-27 15:25:45,812 : INFO : PROGRESS: at sentence #530000, processed 11839042 words, keeping 104559 word types\n",
      "2020-01-27 15:25:45,939 : INFO : PROGRESS: at sentence #540000, processed 12063476 words, keeping 105451 word types\n",
      "2020-01-27 15:25:46,044 : INFO : PROGRESS: at sentence #550000, processed 12282103 words, keeping 106340 word types\n",
      "2020-01-27 15:25:46,154 : INFO : PROGRESS: at sentence #560000, processed 12510056 words, keeping 107193 word types\n",
      "2020-01-27 15:25:46,249 : INFO : PROGRESS: at sentence #570000, processed 12735776 words, keeping 108027 word types\n",
      "2020-01-27 15:25:46,343 : INFO : PROGRESS: at sentence #580000, processed 12961620 words, keeping 108864 word types\n",
      "2020-01-27 15:25:46,448 : INFO : PROGRESS: at sentence #590000, processed 13184644 words, keeping 109707 word types\n",
      "2020-01-27 15:25:46,562 : INFO : PROGRESS: at sentence #600000, processed 13407995 words, keeping 110494 word types\n",
      "2020-01-27 15:25:46,679 : INFO : PROGRESS: at sentence #610000, processed 13627588 words, keeping 111359 word types\n",
      "2020-01-27 15:25:46,811 : INFO : PROGRESS: at sentence #620000, processed 13853051 words, keeping 112154 word types\n",
      "2020-01-27 15:25:46,937 : INFO : PROGRESS: at sentence #630000, processed 14075995 words, keeping 112947 word types\n",
      "2020-01-27 15:25:47,066 : INFO : PROGRESS: at sentence #640000, processed 14297059 words, keeping 113729 word types\n",
      "2020-01-27 15:25:47,155 : INFO : PROGRESS: at sentence #650000, processed 14519504 words, keeping 114553 word types\n",
      "2020-01-27 15:25:47,244 : INFO : PROGRESS: at sentence #660000, processed 14745499 words, keeping 115315 word types\n",
      "2020-01-27 15:25:47,333 : INFO : PROGRESS: at sentence #670000, processed 14968729 words, keeping 116045 word types\n",
      "2020-01-27 15:25:47,430 : INFO : PROGRESS: at sentence #680000, processed 15195604 words, keeping 116783 word types\n",
      "2020-01-27 15:25:47,524 : INFO : PROGRESS: at sentence #690000, processed 15416766 words, keeping 117495 word types\n",
      "2020-01-27 15:25:47,610 : INFO : PROGRESS: at sentence #700000, processed 15641604 words, keeping 118310 word types\n",
      "2020-01-27 15:25:47,712 : INFO : PROGRESS: at sentence #710000, processed 15868828 words, keeping 119034 word types\n"
     ]
    },
    {
     "name": "stderr",
     "output_type": "stream",
     "text": [
      "2020-01-27 15:25:47,819 : INFO : PROGRESS: at sentence #720000, processed 16095022 words, keeping 119698 word types\n",
      "2020-01-27 15:25:47,919 : INFO : PROGRESS: at sentence #730000, processed 16315885 words, keeping 120387 word types\n",
      "2020-01-27 15:25:48,007 : INFO : PROGRESS: at sentence #740000, processed 16538959 words, keeping 121074 word types\n",
      "2020-01-27 15:25:48,096 : INFO : PROGRESS: at sentence #750000, processed 16761927 words, keeping 121794 word types\n",
      "2020-01-27 15:25:48,175 : INFO : PROGRESS: at sentence #760000, processed 16981540 words, keeping 122449 word types\n",
      "2020-01-27 15:25:48,264 : INFO : PROGRESS: at sentence #770000, processed 17201206 words, keeping 123122 word types\n",
      "2020-01-27 15:25:48,366 : INFO : PROGRESS: at sentence #780000, processed 17429296 words, keeping 123847 word types\n",
      "2020-01-27 15:25:48,471 : INFO : PROGRESS: at sentence #790000, processed 17657555 words, keeping 124556 word types\n",
      "2020-01-27 15:25:48,553 : INFO : PROGRESS: at sentence #800000, processed 17881718 words, keeping 125312 word types\n",
      "2020-01-27 15:25:48,566 : INFO : collected 125408 word types from a corpus of 17910999 raw words and 801316 sentences\n",
      "2020-01-27 15:25:48,568 : INFO : Loading a fresh vocabulary\n",
      "2020-01-27 15:25:48,637 : INFO : effective_min_count=40 retains 16670 unique words (13% of original 125408, drops 108738)\n",
      "2020-01-27 15:25:48,638 : INFO : effective_min_count=40 leaves 17347017 word corpus (96% of original 17910999, drops 563982)\n",
      "2020-01-27 15:25:48,687 : INFO : deleting the raw counts dictionary of 125408 items\n",
      "2020-01-27 15:25:48,690 : INFO : sample=0.001 downsamples 48 most-common words\n",
      "2020-01-27 15:25:48,691 : INFO : downsampling leaves estimated 12870302 word corpus (74.2% of prior 17347017)\n",
      "2020-01-27 15:25:48,882 : INFO : estimated required memory for 16670 words, 95685 buckets and 300 dimensions: 166818000 bytes\n",
      "2020-01-27 15:25:48,887 : INFO : resetting layer weights\n",
      "2020-01-27 15:26:02,884 : INFO : training model with 4 workers on 16670 vocabulary and 300 features, using sg=0 hs=0 sample=0.001 negative=5 window=10\n",
      "2020-01-27 15:26:03,957 : INFO : EPOCH 1 - PROGRESS: at 1.38% examples, 178286 words/s, in_qsize 8, out_qsize 0\n",
      "2020-01-27 15:26:05,029 : INFO : EPOCH 1 - PROGRESS: at 3.17% examples, 196674 words/s, in_qsize 8, out_qsize 0\n",
      "2020-01-27 15:26:06,061 : INFO : EPOCH 1 - PROGRESS: at 4.94% examples, 205055 words/s, in_qsize 7, out_qsize 0\n",
      "2020-01-27 15:26:07,079 : INFO : EPOCH 1 - PROGRESS: at 6.58% examples, 204866 words/s, in_qsize 8, out_qsize 0\n",
      "2020-01-27 15:26:08,098 : INFO : EPOCH 1 - PROGRESS: at 8.16% examples, 203293 words/s, in_qsize 8, out_qsize 0\n",
      "2020-01-27 15:26:09,118 : INFO : EPOCH 1 - PROGRESS: at 9.91% examples, 205771 words/s, in_qsize 7, out_qsize 0\n",
      "2020-01-27 15:26:10,212 : INFO : EPOCH 1 - PROGRESS: at 11.52% examples, 203437 words/s, in_qsize 7, out_qsize 0\n",
      "2020-01-27 15:26:11,310 : INFO : EPOCH 1 - PROGRESS: at 13.33% examples, 204259 words/s, in_qsize 7, out_qsize 0\n",
      "2020-01-27 15:26:12,373 : INFO : EPOCH 1 - PROGRESS: at 14.90% examples, 202530 words/s, in_qsize 8, out_qsize 1\n",
      "2020-01-27 15:26:13,456 : INFO : EPOCH 1 - PROGRESS: at 16.50% examples, 200764 words/s, in_qsize 8, out_qsize 0\n",
      "2020-01-27 15:26:14,481 : INFO : EPOCH 1 - PROGRESS: at 18.06% examples, 200308 words/s, in_qsize 7, out_qsize 0\n",
      "2020-01-27 15:26:15,484 : INFO : EPOCH 1 - PROGRESS: at 19.68% examples, 200855 words/s, in_qsize 7, out_qsize 0\n",
      "2020-01-27 15:26:16,506 : INFO : EPOCH 1 - PROGRESS: at 21.20% examples, 200028 words/s, in_qsize 7, out_qsize 0\n",
      "2020-01-27 15:26:17,520 : INFO : EPOCH 1 - PROGRESS: at 22.48% examples, 197427 words/s, in_qsize 7, out_qsize 0\n",
      "2020-01-27 15:26:18,524 : INFO : EPOCH 1 - PROGRESS: at 23.71% examples, 194856 words/s, in_qsize 7, out_qsize 0\n",
      "2020-01-27 15:26:19,534 : INFO : EPOCH 1 - PROGRESS: at 25.00% examples, 192919 words/s, in_qsize 7, out_qsize 0\n",
      "2020-01-27 15:26:20,539 : INFO : EPOCH 1 - PROGRESS: at 26.45% examples, 192484 words/s, in_qsize 7, out_qsize 0\n",
      "2020-01-27 15:26:21,597 : INFO : EPOCH 1 - PROGRESS: at 27.95% examples, 191915 words/s, in_qsize 7, out_qsize 0\n",
      "2020-01-27 15:26:22,628 : INFO : EPOCH 1 - PROGRESS: at 29.45% examples, 191697 words/s, in_qsize 7, out_qsize 0\n",
      "2020-01-27 15:26:23,682 : INFO : EPOCH 1 - PROGRESS: at 31.05% examples, 191616 words/s, in_qsize 7, out_qsize 0\n",
      "2020-01-27 15:26:24,729 : INFO : EPOCH 1 - PROGRESS: at 32.69% examples, 191939 words/s, in_qsize 8, out_qsize 0\n",
      "2020-01-27 15:26:25,743 : INFO : EPOCH 1 - PROGRESS: at 34.27% examples, 192211 words/s, in_qsize 7, out_qsize 0\n",
      "2020-01-27 15:26:26,764 : INFO : EPOCH 1 - PROGRESS: at 35.83% examples, 192397 words/s, in_qsize 7, out_qsize 0\n",
      "2020-01-27 15:26:27,786 : INFO : EPOCH 1 - PROGRESS: at 37.26% examples, 191993 words/s, in_qsize 7, out_qsize 0\n",
      "2020-01-27 15:26:28,788 : INFO : EPOCH 1 - PROGRESS: at 38.76% examples, 192064 words/s, in_qsize 7, out_qsize 0\n",
      "2020-01-27 15:26:29,819 : INFO : EPOCH 1 - PROGRESS: at 40.32% examples, 192172 words/s, in_qsize 7, out_qsize 0\n",
      "2020-01-27 15:26:30,839 : INFO : EPOCH 1 - PROGRESS: at 41.81% examples, 192085 words/s, in_qsize 7, out_qsize 0\n",
      "2020-01-27 15:26:31,893 : INFO : EPOCH 1 - PROGRESS: at 43.35% examples, 192022 words/s, in_qsize 7, out_qsize 0\n",
      "2020-01-27 15:26:32,896 : INFO : EPOCH 1 - PROGRESS: at 44.87% examples, 192046 words/s, in_qsize 7, out_qsize 0\n",
      "2020-01-27 15:26:33,897 : INFO : EPOCH 1 - PROGRESS: at 46.30% examples, 191837 words/s, in_qsize 8, out_qsize 0\n",
      "2020-01-27 15:26:34,930 : INFO : EPOCH 1 - PROGRESS: at 47.85% examples, 191922 words/s, in_qsize 7, out_qsize 0\n",
      "2020-01-27 15:26:35,955 : INFO : EPOCH 1 - PROGRESS: at 49.39% examples, 192058 words/s, in_qsize 7, out_qsize 0\n",
      "2020-01-27 15:26:36,966 : INFO : EPOCH 1 - PROGRESS: at 50.90% examples, 192046 words/s, in_qsize 8, out_qsize 0\n",
      "2020-01-27 15:26:38,032 : INFO : EPOCH 1 - PROGRESS: at 52.37% examples, 191512 words/s, in_qsize 8, out_qsize 0\n",
      "2020-01-27 15:26:39,092 : INFO : EPOCH 1 - PROGRESS: at 53.92% examples, 191452 words/s, in_qsize 7, out_qsize 0\n",
      "2020-01-27 15:26:40,157 : INFO : EPOCH 1 - PROGRESS: at 55.47% examples, 191373 words/s, in_qsize 7, out_qsize 0\n",
      "2020-01-27 15:26:41,202 : INFO : EPOCH 1 - PROGRESS: at 57.00% examples, 191380 words/s, in_qsize 7, out_qsize 0\n",
      "2020-01-27 15:26:42,204 : INFO : EPOCH 1 - PROGRESS: at 58.46% examples, 191425 words/s, in_qsize 7, out_qsize 0\n",
      "2020-01-27 15:26:43,244 : INFO : EPOCH 1 - PROGRESS: at 59.89% examples, 191111 words/s, in_qsize 7, out_qsize 0\n",
      "2020-01-27 15:26:44,256 : INFO : EPOCH 1 - PROGRESS: at 61.46% examples, 191289 words/s, in_qsize 7, out_qsize 0\n",
      "2020-01-27 15:26:45,309 : INFO : EPOCH 1 - PROGRESS: at 63.03% examples, 191279 words/s, in_qsize 7, out_qsize 0\n",
      "2020-01-27 15:26:46,321 : INFO : EPOCH 1 - PROGRESS: at 64.59% examples, 191460 words/s, in_qsize 7, out_qsize 0\n",
      "2020-01-27 15:26:47,439 : INFO : EPOCH 1 - PROGRESS: at 66.13% examples, 191159 words/s, in_qsize 7, out_qsize 0\n",
      "2020-01-27 15:26:48,451 : INFO : EPOCH 1 - PROGRESS: at 67.70% examples, 191320 words/s, in_qsize 8, out_qsize 0\n",
      "2020-01-27 15:26:49,468 : INFO : EPOCH 1 - PROGRESS: at 69.30% examples, 191622 words/s, in_qsize 7, out_qsize 0\n",
      "2020-01-27 15:26:50,475 : INFO : EPOCH 1 - PROGRESS: at 70.86% examples, 191797 words/s, in_qsize 7, out_qsize 0\n",
      "2020-01-27 15:26:51,506 : INFO : EPOCH 1 - PROGRESS: at 72.41% examples, 191859 words/s, in_qsize 7, out_qsize 0\n",
      "2020-01-27 15:26:52,507 : INFO : EPOCH 1 - PROGRESS: at 73.86% examples, 191750 words/s, in_qsize 7, out_qsize 0\n",
      "2020-01-27 15:26:53,525 : INFO : EPOCH 1 - PROGRESS: at 75.37% examples, 191727 words/s, in_qsize 7, out_qsize 0\n",
      "2020-01-27 15:26:54,572 : INFO : EPOCH 1 - PROGRESS: at 76.94% examples, 191729 words/s, in_qsize 7, out_qsize 0\n",
      "2020-01-27 15:26:55,615 : INFO : EPOCH 1 - PROGRESS: at 78.56% examples, 191887 words/s, in_qsize 8, out_qsize 0\n",
      "2020-01-27 15:26:56,655 : INFO : EPOCH 1 - PROGRESS: at 80.14% examples, 191906 words/s, in_qsize 7, out_qsize 0\n",
      "2020-01-27 15:26:57,733 : INFO : EPOCH 1 - PROGRESS: at 81.62% examples, 191659 words/s, in_qsize 7, out_qsize 0\n",
      "2020-01-27 15:26:58,748 : INFO : EPOCH 1 - PROGRESS: at 83.13% examples, 191647 words/s, in_qsize 8, out_qsize 0\n",
      "2020-01-27 15:26:59,809 : INFO : EPOCH 1 - PROGRESS: at 84.67% examples, 191602 words/s, in_qsize 8, out_qsize 0\n"
     ]
    },
    {
     "name": "stderr",
     "output_type": "stream",
     "text": [
      "2020-01-27 15:27:00,811 : INFO : EPOCH 1 - PROGRESS: at 86.19% examples, 191631 words/s, in_qsize 8, out_qsize 0\n",
      "2020-01-27 15:27:01,824 : INFO : EPOCH 1 - PROGRESS: at 87.68% examples, 191623 words/s, in_qsize 7, out_qsize 0\n",
      "2020-01-27 15:27:02,849 : INFO : EPOCH 1 - PROGRESS: at 89.07% examples, 191335 words/s, in_qsize 8, out_qsize 0\n",
      "2020-01-27 15:27:03,924 : INFO : EPOCH 1 - PROGRESS: at 90.62% examples, 191253 words/s, in_qsize 7, out_qsize 0\n",
      "2020-01-27 15:27:04,962 : INFO : EPOCH 1 - PROGRESS: at 92.17% examples, 191296 words/s, in_qsize 8, out_qsize 0\n",
      "2020-01-27 15:27:05,985 : INFO : EPOCH 1 - PROGRESS: at 93.75% examples, 191370 words/s, in_qsize 7, out_qsize 0\n",
      "2020-01-27 15:27:06,991 : INFO : EPOCH 1 - PROGRESS: at 95.29% examples, 191390 words/s, in_qsize 8, out_qsize 0\n",
      "2020-01-27 15:27:08,028 : INFO : EPOCH 1 - PROGRESS: at 96.68% examples, 191092 words/s, in_qsize 7, out_qsize 0\n",
      "2020-01-27 15:27:09,049 : INFO : EPOCH 1 - PROGRESS: at 98.03% examples, 190856 words/s, in_qsize 8, out_qsize 0\n",
      "2020-01-27 15:27:10,105 : INFO : EPOCH 1 - PROGRESS: at 99.58% examples, 190844 words/s, in_qsize 7, out_qsize 0\n",
      "2020-01-27 15:27:10,293 : INFO : worker thread finished; awaiting finish of 3 more threads\n",
      "2020-01-27 15:27:10,300 : INFO : worker thread finished; awaiting finish of 2 more threads\n",
      "2020-01-27 15:27:10,315 : INFO : worker thread finished; awaiting finish of 1 more threads\n",
      "2020-01-27 15:27:10,329 : INFO : worker thread finished; awaiting finish of 0 more threads\n",
      "2020-01-27 15:27:10,330 : INFO : EPOCH - 1 : training on 17910999 raw words (12869659 effective words) took 67.4s, 190995 effective words/s\n",
      "2020-01-27 15:27:11,342 : INFO : EPOCH 2 - PROGRESS: at 1.33% examples, 171591 words/s, in_qsize 8, out_qsize 0\n",
      "2020-01-27 15:27:12,360 : INFO : EPOCH 2 - PROGRESS: at 2.54% examples, 163259 words/s, in_qsize 7, out_qsize 0\n",
      "2020-01-27 15:27:13,365 : INFO : EPOCH 2 - PROGRESS: at 3.90% examples, 165966 words/s, in_qsize 7, out_qsize 0\n",
      "2020-01-27 15:27:14,383 : INFO : EPOCH 2 - PROGRESS: at 5.38% examples, 172043 words/s, in_qsize 8, out_qsize 0\n",
      "2020-01-27 15:27:15,472 : INFO : EPOCH 2 - PROGRESS: at 6.92% examples, 173247 words/s, in_qsize 8, out_qsize 0\n",
      "2020-01-27 15:27:16,507 : INFO : EPOCH 2 - PROGRESS: at 8.44% examples, 175552 words/s, in_qsize 8, out_qsize 0\n",
      "2020-01-27 15:27:17,539 : INFO : EPOCH 2 - PROGRESS: at 9.79% examples, 174299 words/s, in_qsize 8, out_qsize 0\n",
      "2020-01-27 15:27:18,577 : INFO : EPOCH 2 - PROGRESS: at 11.30% examples, 175867 words/s, in_qsize 7, out_qsize 0\n",
      "2020-01-27 15:27:19,631 : INFO : EPOCH 2 - PROGRESS: at 12.89% examples, 177583 words/s, in_qsize 7, out_qsize 0\n",
      "2020-01-27 15:27:20,678 : INFO : EPOCH 2 - PROGRESS: at 14.46% examples, 179046 words/s, in_qsize 7, out_qsize 0\n",
      "2020-01-27 15:27:21,729 : INFO : EPOCH 2 - PROGRESS: at 16.01% examples, 180174 words/s, in_qsize 8, out_qsize 0\n",
      "2020-01-27 15:27:22,769 : INFO : EPOCH 2 - PROGRESS: at 17.51% examples, 180085 words/s, in_qsize 7, out_qsize 0\n",
      "2020-01-27 15:27:23,771 : INFO : EPOCH 2 - PROGRESS: at 19.07% examples, 181609 words/s, in_qsize 7, out_qsize 0\n",
      "2020-01-27 15:27:24,869 : INFO : EPOCH 2 - PROGRESS: at 20.70% examples, 182195 words/s, in_qsize 8, out_qsize 0\n",
      "2020-01-27 15:27:25,896 : INFO : EPOCH 2 - PROGRESS: at 22.27% examples, 183088 words/s, in_qsize 7, out_qsize 0\n",
      "2020-01-27 15:27:26,898 : INFO : EPOCH 2 - PROGRESS: at 23.82% examples, 184145 words/s, in_qsize 7, out_qsize 0\n",
      "2020-01-27 15:27:27,929 : INFO : EPOCH 2 - PROGRESS: at 25.33% examples, 184363 words/s, in_qsize 7, out_qsize 0\n",
      "2020-01-27 15:27:28,950 : INFO : EPOCH 2 - PROGRESS: at 26.84% examples, 184655 words/s, in_qsize 7, out_qsize 0\n",
      "2020-01-27 15:27:29,965 : INFO : EPOCH 2 - PROGRESS: at 28.24% examples, 184211 words/s, in_qsize 7, out_qsize 0\n",
      "2020-01-27 15:27:31,031 : INFO : EPOCH 2 - PROGRESS: at 29.67% examples, 183744 words/s, in_qsize 7, out_qsize 0\n",
      "2020-01-27 15:27:32,062 : INFO : EPOCH 2 - PROGRESS: at 31.11% examples, 183269 words/s, in_qsize 7, out_qsize 0\n",
      "2020-01-27 15:27:33,091 : INFO : EPOCH 2 - PROGRESS: at 32.63% examples, 183490 words/s, in_qsize 8, out_qsize 0\n",
      "2020-01-27 15:27:34,102 : INFO : EPOCH 2 - PROGRESS: at 34.21% examples, 184123 words/s, in_qsize 8, out_qsize 0\n",
      "2020-01-27 15:27:35,111 : INFO : EPOCH 2 - PROGRESS: at 35.77% examples, 184724 words/s, in_qsize 7, out_qsize 0\n",
      "2020-01-27 15:27:36,150 : INFO : EPOCH 2 - PROGRESS: at 37.37% examples, 185371 words/s, in_qsize 7, out_qsize 0\n",
      "2020-01-27 15:27:37,160 : INFO : EPOCH 2 - PROGRESS: at 38.93% examples, 185898 words/s, in_qsize 7, out_qsize 0\n",
      "2020-01-27 15:27:38,164 : INFO : EPOCH 2 - PROGRESS: at 40.32% examples, 185632 words/s, in_qsize 7, out_qsize 0\n",
      "2020-01-27 15:27:39,191 : INFO : EPOCH 2 - PROGRESS: at 41.93% examples, 186221 words/s, in_qsize 7, out_qsize 0\n",
      "2020-01-27 15:27:40,230 : INFO : EPOCH 2 - PROGRESS: at 43.41% examples, 186241 words/s, in_qsize 8, out_qsize 0\n",
      "2020-01-27 15:27:41,307 : INFO : EPOCH 2 - PROGRESS: at 44.98% examples, 186253 words/s, in_qsize 8, out_qsize 0\n",
      "2020-01-27 15:27:42,324 : INFO : EPOCH 2 - PROGRESS: at 46.35% examples, 185920 words/s, in_qsize 7, out_qsize 0\n",
      "2020-01-27 15:27:43,427 : INFO : EPOCH 2 - PROGRESS: at 47.85% examples, 185578 words/s, in_qsize 8, out_qsize 0\n",
      "2020-01-27 15:27:44,451 : INFO : EPOCH 2 - PROGRESS: at 49.28% examples, 185480 words/s, in_qsize 7, out_qsize 0\n",
      "2020-01-27 15:27:45,457 : INFO : EPOCH 2 - PROGRESS: at 50.74% examples, 185485 words/s, in_qsize 8, out_qsize 0\n",
      "2020-01-27 15:27:46,477 : INFO : EPOCH 2 - PROGRESS: at 52.15% examples, 185206 words/s, in_qsize 8, out_qsize 0\n",
      "2020-01-27 15:27:47,483 : INFO : EPOCH 2 - PROGRESS: at 53.55% examples, 185016 words/s, in_qsize 8, out_qsize 0\n",
      "2020-01-27 15:27:48,492 : INFO : EPOCH 2 - PROGRESS: at 54.91% examples, 184821 words/s, in_qsize 8, out_qsize 0\n",
      "2020-01-27 15:27:49,509 : INFO : EPOCH 2 - PROGRESS: at 56.40% examples, 184950 words/s, in_qsize 7, out_qsize 0\n",
      "2020-01-27 15:27:50,594 : INFO : EPOCH 2 - PROGRESS: at 57.80% examples, 184579 words/s, in_qsize 7, out_qsize 0\n",
      "2020-01-27 15:27:51,615 : INFO : EPOCH 2 - PROGRESS: at 59.28% examples, 184710 words/s, in_qsize 7, out_qsize 0\n",
      "2020-01-27 15:27:52,692 : INFO : EPOCH 2 - PROGRESS: at 60.63% examples, 184084 words/s, in_qsize 7, out_qsize 0\n",
      "2020-01-27 15:27:53,693 : INFO : EPOCH 2 - PROGRESS: at 62.06% examples, 184142 words/s, in_qsize 6, out_qsize 1\n",
      "2020-01-27 15:27:54,695 : INFO : EPOCH 2 - PROGRESS: at 63.59% examples, 184337 words/s, in_qsize 8, out_qsize 0\n",
      "2020-01-27 15:27:55,716 : INFO : EPOCH 2 - PROGRESS: at 65.09% examples, 184458 words/s, in_qsize 8, out_qsize 0\n",
      "2020-01-27 15:27:56,731 : INFO : EPOCH 2 - PROGRESS: at 66.36% examples, 183987 words/s, in_qsize 7, out_qsize 0\n",
      "2020-01-27 15:27:57,772 : INFO : EPOCH 2 - PROGRESS: at 67.64% examples, 183423 words/s, in_qsize 8, out_qsize 0\n",
      "2020-01-27 15:27:58,822 : INFO : EPOCH 2 - PROGRESS: at 68.98% examples, 183004 words/s, in_qsize 7, out_qsize 0\n",
      "2020-01-27 15:27:59,843 : INFO : EPOCH 2 - PROGRESS: at 70.37% examples, 182827 words/s, in_qsize 7, out_qsize 0\n",
      "2020-01-27 15:28:00,864 : INFO : EPOCH 2 - PROGRESS: at 71.74% examples, 182711 words/s, in_qsize 7, out_qsize 0\n",
      "2020-01-27 15:28:01,944 : INFO : EPOCH 2 - PROGRESS: at 73.20% examples, 182512 words/s, in_qsize 8, out_qsize 1\n",
      "2020-01-27 15:28:02,946 : INFO : EPOCH 2 - PROGRESS: at 74.41% examples, 182030 words/s, in_qsize 7, out_qsize 0\n",
      "2020-01-27 15:28:03,961 : INFO : EPOCH 2 - PROGRESS: at 75.89% examples, 182071 words/s, in_qsize 7, out_qsize 0\n",
      "2020-01-27 15:28:04,962 : INFO : EPOCH 2 - PROGRESS: at 77.27% examples, 182020 words/s, in_qsize 8, out_qsize 0\n",
      "2020-01-27 15:28:06,020 : INFO : EPOCH 2 - PROGRESS: at 78.79% examples, 182044 words/s, in_qsize 8, out_qsize 0\n",
      "2020-01-27 15:28:07,023 : INFO : EPOCH 2 - PROGRESS: at 80.19% examples, 181978 words/s, in_qsize 7, out_qsize 0\n",
      "2020-01-27 15:28:08,044 : INFO : EPOCH 2 - PROGRESS: at 81.46% examples, 181615 words/s, in_qsize 7, out_qsize 0\n",
      "2020-01-27 15:28:09,044 : INFO : EPOCH 2 - PROGRESS: at 82.91% examples, 181701 words/s, in_qsize 7, out_qsize 0\n",
      "2020-01-27 15:28:10,062 : INFO : EPOCH 2 - PROGRESS: at 84.35% examples, 181722 words/s, in_qsize 8, out_qsize 0\n",
      "2020-01-27 15:28:11,067 : INFO : EPOCH 2 - PROGRESS: at 85.73% examples, 181669 words/s, in_qsize 8, out_qsize 0\n"
     ]
    },
    {
     "name": "stderr",
     "output_type": "stream",
     "text": [
      "2020-01-27 15:28:12,087 : INFO : EPOCH 2 - PROGRESS: at 87.19% examples, 181682 words/s, in_qsize 7, out_qsize 1\n",
      "2020-01-27 15:28:13,102 : INFO : EPOCH 2 - PROGRESS: at 88.56% examples, 181602 words/s, in_qsize 7, out_qsize 0\n",
      "2020-01-27 15:28:14,116 : INFO : EPOCH 2 - PROGRESS: at 89.95% examples, 181527 words/s, in_qsize 7, out_qsize 0\n",
      "2020-01-27 15:28:15,139 : INFO : EPOCH 2 - PROGRESS: at 90.79% examples, 180320 words/s, in_qsize 8, out_qsize 0\n",
      "2020-01-27 15:28:16,150 : INFO : EPOCH 2 - PROGRESS: at 91.83% examples, 179622 words/s, in_qsize 7, out_qsize 0\n",
      "2020-01-27 15:28:17,171 : INFO : EPOCH 2 - PROGRESS: at 93.01% examples, 179128 words/s, in_qsize 8, out_qsize 0\n",
      "2020-01-27 15:28:18,200 : INFO : EPOCH 2 - PROGRESS: at 94.27% examples, 178738 words/s, in_qsize 8, out_qsize 0\n",
      "2020-01-27 15:28:19,233 : INFO : EPOCH 2 - PROGRESS: at 95.70% examples, 178663 words/s, in_qsize 8, out_qsize 0\n",
      "2020-01-27 15:28:20,257 : INFO : EPOCH 2 - PROGRESS: at 97.11% examples, 178710 words/s, in_qsize 8, out_qsize 0\n",
      "2020-01-27 15:28:21,292 : INFO : EPOCH 2 - PROGRESS: at 98.48% examples, 178636 words/s, in_qsize 8, out_qsize 0\n",
      "2020-01-27 15:28:22,279 : INFO : worker thread finished; awaiting finish of 3 more threads\n",
      "2020-01-27 15:28:22,293 : INFO : EPOCH 2 - PROGRESS: at 99.92% examples, 178734 words/s, in_qsize 2, out_qsize 1\n",
      "2020-01-27 15:28:22,295 : INFO : worker thread finished; awaiting finish of 2 more threads\n",
      "2020-01-27 15:28:22,338 : INFO : worker thread finished; awaiting finish of 1 more threads\n",
      "2020-01-27 15:28:22,364 : INFO : worker thread finished; awaiting finish of 0 more threads\n",
      "2020-01-27 15:28:22,365 : INFO : EPOCH - 2 : training on 17910999 raw words (12870984 effective words) took 72.0s, 178697 effective words/s\n",
      "2020-01-27 15:28:23,492 : INFO : EPOCH 3 - PROGRESS: at 1.38% examples, 160391 words/s, in_qsize 7, out_qsize 0\n",
      "2020-01-27 15:28:24,497 : INFO : EPOCH 3 - PROGRESS: at 2.83% examples, 172304 words/s, in_qsize 7, out_qsize 0\n",
      "2020-01-27 15:28:25,568 : INFO : EPOCH 3 - PROGRESS: at 4.29% examples, 172998 words/s, in_qsize 7, out_qsize 0\n",
      "2020-01-27 15:28:26,583 : INFO : EPOCH 3 - PROGRESS: at 5.77% examples, 177175 words/s, in_qsize 7, out_qsize 0\n",
      "2020-01-27 15:28:27,586 : INFO : EPOCH 3 - PROGRESS: at 7.09% examples, 174705 words/s, in_qsize 7, out_qsize 0\n",
      "2020-01-27 15:28:28,587 : INFO : EPOCH 3 - PROGRESS: at 8.44% examples, 174250 words/s, in_qsize 7, out_qsize 0\n",
      "2020-01-27 15:28:29,592 : INFO : EPOCH 3 - PROGRESS: at 9.79% examples, 173832 words/s, in_qsize 7, out_qsize 0\n",
      "2020-01-27 15:28:30,655 : INFO : EPOCH 3 - PROGRESS: at 11.30% examples, 174901 words/s, in_qsize 7, out_qsize 0\n",
      "2020-01-27 15:28:31,663 : INFO : EPOCH 3 - PROGRESS: at 12.71% examples, 175248 words/s, in_qsize 7, out_qsize 0\n",
      "2020-01-27 15:28:32,693 : INFO : EPOCH 3 - PROGRESS: at 14.06% examples, 174470 words/s, in_qsize 8, out_qsize 0\n",
      "2020-01-27 15:28:33,711 : INFO : EPOCH 3 - PROGRESS: at 15.56% examples, 175890 words/s, in_qsize 7, out_qsize 0\n",
      "2020-01-27 15:28:34,768 : INFO : EPOCH 3 - PROGRESS: at 17.06% examples, 175989 words/s, in_qsize 8, out_qsize 0\n",
      "2020-01-27 15:28:35,782 : INFO : EPOCH 3 - PROGRESS: at 18.50% examples, 176548 words/s, in_qsize 7, out_qsize 0\n",
      "2020-01-27 15:28:36,814 : INFO : EPOCH 3 - PROGRESS: at 19.78% examples, 175350 words/s, in_qsize 7, out_qsize 0\n",
      "2020-01-27 15:28:37,858 : INFO : EPOCH 3 - PROGRESS: at 20.80% examples, 171862 words/s, in_qsize 6, out_qsize 1\n",
      "2020-01-27 15:28:38,882 : INFO : EPOCH 3 - PROGRESS: at 21.99% examples, 170368 words/s, in_qsize 8, out_qsize 0\n",
      "2020-01-27 15:28:39,887 : INFO : EPOCH 3 - PROGRESS: at 23.44% examples, 171255 words/s, in_qsize 7, out_qsize 0\n",
      "2020-01-27 15:28:40,895 : INFO : EPOCH 3 - PROGRESS: at 24.72% examples, 170805 words/s, in_qsize 7, out_qsize 0\n",
      "2020-01-27 15:28:41,943 : INFO : EPOCH 3 - PROGRESS: at 26.13% examples, 170849 words/s, in_qsize 7, out_qsize 0\n",
      "2020-01-27 15:28:42,954 : INFO : EPOCH 3 - PROGRESS: at 27.50% examples, 171137 words/s, in_qsize 7, out_qsize 0\n",
      "2020-01-27 15:28:43,996 : INFO : EPOCH 3 - PROGRESS: at 29.01% examples, 171837 words/s, in_qsize 8, out_qsize 0\n",
      "2020-01-27 15:28:45,005 : INFO : EPOCH 3 - PROGRESS: at 30.34% examples, 171775 words/s, in_qsize 7, out_qsize 0\n",
      "2020-01-27 15:28:46,017 : INFO : EPOCH 3 - PROGRESS: at 31.69% examples, 171389 words/s, in_qsize 7, out_qsize 0\n",
      "2020-01-27 15:28:47,092 : INFO : EPOCH 3 - PROGRESS: at 33.10% examples, 171176 words/s, in_qsize 8, out_qsize 0\n",
      "2020-01-27 15:28:48,134 : INFO : EPOCH 3 - PROGRESS: at 34.43% examples, 170924 words/s, in_qsize 8, out_qsize 0\n",
      "2020-01-27 15:28:49,164 : INFO : EPOCH 3 - PROGRESS: at 35.94% examples, 171580 words/s, in_qsize 7, out_qsize 0\n",
      "2020-01-27 15:28:50,181 : INFO : EPOCH 3 - PROGRESS: at 37.32% examples, 171772 words/s, in_qsize 8, out_qsize 0\n",
      "2020-01-27 15:28:51,185 : INFO : EPOCH 3 - PROGRESS: at 38.54% examples, 171267 words/s, in_qsize 7, out_qsize 0\n",
      "2020-01-27 15:28:52,227 : INFO : EPOCH 3 - PROGRESS: at 40.04% examples, 171775 words/s, in_qsize 7, out_qsize 0\n",
      "2020-01-27 15:28:53,228 : INFO : EPOCH 3 - PROGRESS: at 41.32% examples, 171560 words/s, in_qsize 8, out_qsize 0\n",
      "2020-01-27 15:28:54,231 : INFO : EPOCH 3 - PROGRESS: at 42.69% examples, 171796 words/s, in_qsize 7, out_qsize 0\n",
      "2020-01-27 15:28:55,289 : INFO : EPOCH 3 - PROGRESS: at 44.19% examples, 172153 words/s, in_qsize 7, out_qsize 0\n",
      "2020-01-27 15:28:56,292 : INFO : EPOCH 3 - PROGRESS: at 45.64% examples, 172553 words/s, in_qsize 7, out_qsize 0\n",
      "2020-01-27 15:28:57,293 : INFO : EPOCH 3 - PROGRESS: at 47.06% examples, 172945 words/s, in_qsize 8, out_qsize 0\n",
      "2020-01-27 15:28:58,324 : INFO : EPOCH 3 - PROGRESS: at 48.50% examples, 173172 words/s, in_qsize 7, out_qsize 0\n",
      "2020-01-27 15:28:59,360 : INFO : EPOCH 3 - PROGRESS: at 49.89% examples, 173177 words/s, in_qsize 7, out_qsize 0\n",
      "2020-01-27 15:29:00,440 : INFO : EPOCH 3 - PROGRESS: at 51.47% examples, 173551 words/s, in_qsize 8, out_qsize 0\n",
      "2020-01-27 15:29:01,496 : INFO : EPOCH 3 - PROGRESS: at 53.04% examples, 173986 words/s, in_qsize 8, out_qsize 0\n",
      "2020-01-27 15:29:02,523 : INFO : EPOCH 3 - PROGRESS: at 54.47% examples, 174180 words/s, in_qsize 8, out_qsize 0\n",
      "2020-01-27 15:29:03,531 : INFO : EPOCH 3 - PROGRESS: at 55.91% examples, 174443 words/s, in_qsize 7, out_qsize 0\n",
      "2020-01-27 15:29:04,565 : INFO : EPOCH 3 - PROGRESS: at 57.38% examples, 174748 words/s, in_qsize 7, out_qsize 0\n",
      "2020-01-27 15:29:05,603 : INFO : EPOCH 3 - PROGRESS: at 58.85% examples, 175031 words/s, in_qsize 8, out_qsize 0\n",
      "2020-01-27 15:29:06,628 : INFO : EPOCH 3 - PROGRESS: at 60.36% examples, 175347 words/s, in_qsize 7, out_qsize 0\n",
      "2020-01-27 15:29:07,664 : INFO : EPOCH 3 - PROGRESS: at 61.68% examples, 175135 words/s, in_qsize 7, out_qsize 0\n",
      "2020-01-27 15:29:08,714 : INFO : EPOCH 3 - PROGRESS: at 63.20% examples, 175346 words/s, in_qsize 7, out_qsize 0\n",
      "2020-01-27 15:29:09,786 : INFO : EPOCH 3 - PROGRESS: at 64.76% examples, 175613 words/s, in_qsize 7, out_qsize 0\n",
      "2020-01-27 15:29:10,852 : INFO : EPOCH 3 - PROGRESS: at 66.30% examples, 175906 words/s, in_qsize 7, out_qsize 0\n",
      "2020-01-27 15:29:11,919 : INFO : EPOCH 3 - PROGRESS: at 67.87% examples, 176172 words/s, in_qsize 7, out_qsize 0\n",
      "2020-01-27 15:29:12,938 : INFO : EPOCH 3 - PROGRESS: at 69.19% examples, 176030 words/s, in_qsize 7, out_qsize 0\n",
      "2020-01-27 15:29:14,002 : INFO : EPOCH 3 - PROGRESS: at 70.64% examples, 176018 words/s, in_qsize 7, out_qsize 0\n",
      "2020-01-27 15:29:15,016 : INFO : EPOCH 3 - PROGRESS: at 72.12% examples, 176305 words/s, in_qsize 7, out_qsize 0\n",
      "2020-01-27 15:29:16,026 : INFO : EPOCH 3 - PROGRESS: at 73.52% examples, 176336 words/s, in_qsize 8, out_qsize 0\n",
      "2020-01-27 15:29:17,030 : INFO : EPOCH 3 - PROGRESS: at 75.03% examples, 176644 words/s, in_qsize 8, out_qsize 0\n",
      "2020-01-27 15:29:18,075 : INFO : EPOCH 3 - PROGRESS: at 76.44% examples, 176553 words/s, in_qsize 7, out_qsize 0\n",
      "2020-01-27 15:29:19,117 : INFO : EPOCH 3 - PROGRESS: at 77.95% examples, 176718 words/s, in_qsize 8, out_qsize 0\n",
      "2020-01-27 15:29:20,179 : INFO : EPOCH 3 - PROGRESS: at 79.51% examples, 176946 words/s, in_qsize 7, out_qsize 0\n",
      "2020-01-27 15:29:21,251 : INFO : EPOCH 3 - PROGRESS: at 81.08% examples, 177133 words/s, in_qsize 8, out_qsize 0\n",
      "2020-01-27 15:29:22,273 : INFO : EPOCH 3 - PROGRESS: at 82.58% examples, 177346 words/s, in_qsize 8, out_qsize 0\n"
     ]
    },
    {
     "name": "stderr",
     "output_type": "stream",
     "text": [
      "2020-01-27 15:29:23,313 : INFO : EPOCH 3 - PROGRESS: at 83.96% examples, 177258 words/s, in_qsize 7, out_qsize 0\n",
      "2020-01-27 15:29:24,314 : INFO : EPOCH 3 - PROGRESS: at 85.40% examples, 177405 words/s, in_qsize 8, out_qsize 0\n",
      "2020-01-27 15:29:25,337 : INFO : EPOCH 3 - PROGRESS: at 86.85% examples, 177479 words/s, in_qsize 8, out_qsize 0\n",
      "2020-01-27 15:29:26,352 : INFO : EPOCH 3 - PROGRESS: at 88.32% examples, 177689 words/s, in_qsize 7, out_qsize 0\n",
      "2020-01-27 15:29:27,420 : INFO : EPOCH 3 - PROGRESS: at 89.71% examples, 177529 words/s, in_qsize 7, out_qsize 0\n",
      "2020-01-27 15:29:28,441 : INFO : EPOCH 3 - PROGRESS: at 91.17% examples, 177605 words/s, in_qsize 7, out_qsize 0\n",
      "2020-01-27 15:29:29,453 : INFO : EPOCH 3 - PROGRESS: at 92.63% examples, 177700 words/s, in_qsize 7, out_qsize 0\n",
      "2020-01-27 15:29:30,465 : INFO : EPOCH 3 - PROGRESS: at 94.10% examples, 177801 words/s, in_qsize 7, out_qsize 0\n",
      "2020-01-27 15:29:31,490 : INFO : EPOCH 3 - PROGRESS: at 95.58% examples, 177866 words/s, in_qsize 7, out_qsize 0\n",
      "2020-01-27 15:29:32,543 : INFO : EPOCH 3 - PROGRESS: at 96.94% examples, 177750 words/s, in_qsize 7, out_qsize 0\n",
      "2020-01-27 15:29:33,546 : INFO : EPOCH 3 - PROGRESS: at 98.37% examples, 177865 words/s, in_qsize 7, out_qsize 0\n",
      "2020-01-27 15:29:34,569 : INFO : EPOCH 3 - PROGRESS: at 99.80% examples, 177926 words/s, in_qsize 4, out_qsize 0\n",
      "2020-01-27 15:29:34,594 : INFO : worker thread finished; awaiting finish of 3 more threads\n",
      "2020-01-27 15:29:34,635 : INFO : worker thread finished; awaiting finish of 2 more threads\n",
      "2020-01-27 15:29:34,641 : INFO : worker thread finished; awaiting finish of 1 more threads\n",
      "2020-01-27 15:29:34,670 : INFO : worker thread finished; awaiting finish of 0 more threads\n",
      "2020-01-27 15:29:34,670 : INFO : EPOCH - 3 : training on 17910999 raw words (12870061 effective words) took 72.3s, 178014 effective words/s\n",
      "2020-01-27 15:29:35,756 : INFO : EPOCH 4 - PROGRESS: at 1.38% examples, 166619 words/s, in_qsize 7, out_qsize 0\n",
      "2020-01-27 15:29:36,767 : INFO : EPOCH 4 - PROGRESS: at 2.88% examples, 178796 words/s, in_qsize 7, out_qsize 0\n",
      "2020-01-27 15:29:37,841 : INFO : EPOCH 4 - PROGRESS: at 4.29% examples, 174827 words/s, in_qsize 7, out_qsize 0\n",
      "2020-01-27 15:29:38,854 : INFO : EPOCH 4 - PROGRESS: at 5.77% examples, 178688 words/s, in_qsize 8, out_qsize 0\n",
      "2020-01-27 15:29:39,878 : INFO : EPOCH 4 - PROGRESS: at 7.31% examples, 180715 words/s, in_qsize 7, out_qsize 0\n",
      "2020-01-27 15:29:40,937 : INFO : EPOCH 4 - PROGRESS: at 8.82% examples, 181104 words/s, in_qsize 8, out_qsize 0\n",
      "2020-01-27 15:29:41,973 : INFO : EPOCH 4 - PROGRESS: at 10.35% examples, 181944 words/s, in_qsize 7, out_qsize 0\n",
      "2020-01-27 15:29:43,001 : INFO : EPOCH 4 - PROGRESS: at 11.70% examples, 180110 words/s, in_qsize 7, out_qsize 0\n",
      "2020-01-27 15:29:44,070 : INFO : EPOCH 4 - PROGRESS: at 13.26% examples, 181085 words/s, in_qsize 8, out_qsize 0\n",
      "2020-01-27 15:29:45,158 : INFO : EPOCH 4 - PROGRESS: at 14.84% examples, 181428 words/s, in_qsize 7, out_qsize 0\n",
      "2020-01-27 15:29:46,220 : INFO : EPOCH 4 - PROGRESS: at 16.44% examples, 182165 words/s, in_qsize 7, out_qsize 0\n",
      "2020-01-27 15:29:47,332 : INFO : EPOCH 4 - PROGRESS: at 18.01% examples, 181977 words/s, in_qsize 7, out_qsize 0\n",
      "2020-01-27 15:29:48,459 : INFO : EPOCH 4 - PROGRESS: at 19.58% examples, 181634 words/s, in_qsize 7, out_qsize 0\n",
      "2020-01-27 15:29:49,525 : INFO : EPOCH 4 - PROGRESS: at 21.14% examples, 182136 words/s, in_qsize 7, out_qsize 0\n",
      "2020-01-27 15:29:50,601 : INFO : EPOCH 4 - PROGRESS: at 22.72% examples, 182465 words/s, in_qsize 7, out_qsize 0\n",
      "2020-01-27 15:29:51,667 : INFO : EPOCH 4 - PROGRESS: at 24.28% examples, 182847 words/s, in_qsize 7, out_qsize 0\n",
      "2020-01-27 15:29:52,690 : INFO : EPOCH 4 - PROGRESS: at 25.62% examples, 181911 words/s, in_qsize 7, out_qsize 0\n",
      "2020-01-27 15:29:53,705 : INFO : EPOCH 4 - PROGRESS: at 27.08% examples, 182067 words/s, in_qsize 7, out_qsize 0\n",
      "2020-01-27 15:29:54,706 : INFO : EPOCH 4 - PROGRESS: at 28.46% examples, 181914 words/s, in_qsize 8, out_qsize 0\n",
      "2020-01-27 15:29:55,758 : INFO : EPOCH 4 - PROGRESS: at 29.95% examples, 182019 words/s, in_qsize 7, out_qsize 0\n",
      "2020-01-27 15:29:56,768 : INFO : EPOCH 4 - PROGRESS: at 31.52% examples, 182453 words/s, in_qsize 7, out_qsize 0\n",
      "2020-01-27 15:29:57,782 : INFO : EPOCH 4 - PROGRESS: at 32.87% examples, 181873 words/s, in_qsize 7, out_qsize 0\n",
      "2020-01-27 15:29:58,801 : INFO : EPOCH 4 - PROGRESS: at 34.32% examples, 181919 words/s, in_qsize 7, out_qsize 0\n",
      "2020-01-27 15:29:59,802 : INFO : EPOCH 4 - PROGRESS: at 35.77% examples, 182097 words/s, in_qsize 7, out_qsize 0\n",
      "2020-01-27 15:30:00,845 : INFO : EPOCH 4 - PROGRESS: at 37.26% examples, 182246 words/s, in_qsize 7, out_qsize 0\n",
      "2020-01-27 15:30:01,933 : INFO : EPOCH 4 - PROGRESS: at 38.76% examples, 182091 words/s, in_qsize 8, out_qsize 0\n",
      "2020-01-27 15:30:02,935 : INFO : EPOCH 4 - PROGRESS: at 40.14% examples, 181980 words/s, in_qsize 7, out_qsize 0\n",
      "2020-01-27 15:30:03,962 : INFO : EPOCH 4 - PROGRESS: at 41.66% examples, 182201 words/s, in_qsize 7, out_qsize 0\n",
      "2020-01-27 15:30:04,980 : INFO : EPOCH 4 - PROGRESS: at 43.08% examples, 182232 words/s, in_qsize 7, out_qsize 0\n",
      "2020-01-27 15:30:05,987 : INFO : EPOCH 4 - PROGRESS: at 44.54% examples, 182343 words/s, in_qsize 8, out_qsize 0\n",
      "2020-01-27 15:30:06,990 : INFO : EPOCH 4 - PROGRESS: at 46.03% examples, 182656 words/s, in_qsize 7, out_qsize 0\n",
      "2020-01-27 15:30:07,992 : INFO : EPOCH 4 - PROGRESS: at 47.35% examples, 182329 words/s, in_qsize 8, out_qsize 0\n",
      "2020-01-27 15:30:09,012 : INFO : EPOCH 4 - PROGRESS: at 48.73% examples, 182138 words/s, in_qsize 7, out_qsize 0\n",
      "2020-01-27 15:30:10,034 : INFO : EPOCH 4 - PROGRESS: at 50.23% examples, 182351 words/s, in_qsize 7, out_qsize 0\n",
      "2020-01-27 15:30:11,051 : INFO : EPOCH 4 - PROGRESS: at 51.65% examples, 182180 words/s, in_qsize 7, out_qsize 0\n",
      "2020-01-27 15:30:12,070 : INFO : EPOCH 4 - PROGRESS: at 53.09% examples, 182196 words/s, in_qsize 7, out_qsize 0\n",
      "2020-01-27 15:30:13,090 : INFO : EPOCH 4 - PROGRESS: at 54.47% examples, 182019 words/s, in_qsize 7, out_qsize 0\n",
      "2020-01-27 15:30:14,138 : INFO : EPOCH 4 - PROGRESS: at 55.91% examples, 181915 words/s, in_qsize 7, out_qsize 0\n",
      "2020-01-27 15:30:15,141 : INFO : EPOCH 4 - PROGRESS: at 57.27% examples, 181825 words/s, in_qsize 7, out_qsize 0\n",
      "2020-01-27 15:30:16,144 : INFO : EPOCH 4 - PROGRESS: at 58.64% examples, 181748 words/s, in_qsize 7, out_qsize 0\n",
      "2020-01-27 15:30:17,198 : INFO : EPOCH 4 - PROGRESS: at 60.12% examples, 181808 words/s, in_qsize 8, out_qsize 0\n",
      "2020-01-27 15:30:18,250 : INFO : EPOCH 4 - PROGRESS: at 61.52% examples, 181536 words/s, in_qsize 7, out_qsize 0\n",
      "2020-01-27 15:30:19,252 : INFO : EPOCH 4 - PROGRESS: at 62.98% examples, 181639 words/s, in_qsize 7, out_qsize 0\n",
      "2020-01-27 15:30:20,327 : INFO : EPOCH 4 - PROGRESS: at 64.42% examples, 181450 words/s, in_qsize 7, out_qsize 0\n",
      "2020-01-27 15:30:21,352 : INFO : EPOCH 4 - PROGRESS: at 65.92% examples, 181612 words/s, in_qsize 7, out_qsize 0\n",
      "2020-01-27 15:30:22,379 : INFO : EPOCH 4 - PROGRESS: at 67.30% examples, 181462 words/s, in_qsize 7, out_qsize 0\n",
      "2020-01-27 15:30:23,395 : INFO : EPOCH 4 - PROGRESS: at 68.83% examples, 181658 words/s, in_qsize 8, out_qsize 0\n",
      "2020-01-27 15:30:24,400 : INFO : EPOCH 4 - PROGRESS: at 70.21% examples, 181589 words/s, in_qsize 7, out_qsize 0\n",
      "2020-01-27 15:30:25,407 : INFO : EPOCH 4 - PROGRESS: at 71.68% examples, 181805 words/s, in_qsize 8, out_qsize 0\n",
      "2020-01-27 15:30:26,446 : INFO : EPOCH 4 - PROGRESS: at 73.14% examples, 181761 words/s, in_qsize 7, out_qsize 0\n",
      "2020-01-27 15:30:27,473 : INFO : EPOCH 4 - PROGRESS: at 74.53% examples, 181616 words/s, in_qsize 8, out_qsize 0\n",
      "2020-01-27 15:30:28,522 : INFO : EPOCH 4 - PROGRESS: at 76.06% examples, 181681 words/s, in_qsize 8, out_qsize 0\n",
      "2020-01-27 15:30:29,523 : INFO : EPOCH 4 - PROGRESS: at 77.44% examples, 181641 words/s, in_qsize 8, out_qsize 0\n",
      "2020-01-27 15:30:30,551 : INFO : EPOCH 4 - PROGRESS: at 78.95% examples, 181772 words/s, in_qsize 7, out_qsize 0\n",
      "2020-01-27 15:30:31,567 : INFO : EPOCH 4 - PROGRESS: at 80.41% examples, 181797 words/s, in_qsize 7, out_qsize 0\n",
      "2020-01-27 15:30:32,595 : INFO : EPOCH 4 - PROGRESS: at 81.78% examples, 181668 words/s, in_qsize 7, out_qsize 0\n",
      "2020-01-27 15:30:33,600 : INFO : EPOCH 4 - PROGRESS: at 83.24% examples, 181740 words/s, in_qsize 8, out_qsize 0\n"
     ]
    },
    {
     "name": "stderr",
     "output_type": "stream",
     "text": [
      "2020-01-27 15:30:34,666 : INFO : EPOCH 4 - PROGRESS: at 84.73% examples, 181733 words/s, in_qsize 8, out_qsize 0\n",
      "2020-01-27 15:30:35,672 : INFO : EPOCH 4 - PROGRESS: at 86.24% examples, 181910 words/s, in_qsize 8, out_qsize 0\n",
      "2020-01-27 15:30:36,674 : INFO : EPOCH 4 - PROGRESS: at 87.63% examples, 181855 words/s, in_qsize 7, out_qsize 0\n",
      "2020-01-27 15:30:37,697 : INFO : EPOCH 4 - PROGRESS: at 88.95% examples, 181639 words/s, in_qsize 8, out_qsize 0\n",
      "2020-01-27 15:30:38,776 : INFO : EPOCH 4 - PROGRESS: at 90.51% examples, 181714 words/s, in_qsize 7, out_qsize 0\n",
      "2020-01-27 15:30:39,787 : INFO : EPOCH 4 - PROGRESS: at 91.94% examples, 181758 words/s, in_qsize 7, out_qsize 1\n",
      "2020-01-27 15:30:40,801 : INFO : EPOCH 4 - PROGRESS: at 93.40% examples, 181782 words/s, in_qsize 7, out_qsize 0\n",
      "2020-01-27 15:30:41,819 : INFO : EPOCH 4 - PROGRESS: at 94.83% examples, 181704 words/s, in_qsize 7, out_qsize 0\n",
      "2020-01-27 15:30:42,824 : INFO : EPOCH 4 - PROGRESS: at 96.24% examples, 181655 words/s, in_qsize 7, out_qsize 0\n",
      "2020-01-27 15:30:43,871 : INFO : EPOCH 4 - PROGRESS: at 97.65% examples, 181597 words/s, in_qsize 8, out_qsize 0\n",
      "2020-01-27 15:30:44,888 : INFO : EPOCH 4 - PROGRESS: at 99.14% examples, 181729 words/s, in_qsize 7, out_qsize 0\n",
      "2020-01-27 15:30:45,437 : INFO : worker thread finished; awaiting finish of 3 more threads\n",
      "2020-01-27 15:30:45,459 : INFO : worker thread finished; awaiting finish of 2 more threads\n",
      "2020-01-27 15:30:45,465 : INFO : worker thread finished; awaiting finish of 1 more threads\n",
      "2020-01-27 15:30:45,491 : INFO : worker thread finished; awaiting finish of 0 more threads\n",
      "2020-01-27 15:30:45,492 : INFO : EPOCH - 4 : training on 17910999 raw words (12869856 effective words) took 70.8s, 181743 effective words/s\n",
      "2020-01-27 15:30:46,579 : INFO : EPOCH 5 - PROGRESS: at 1.38% examples, 166013 words/s, in_qsize 7, out_qsize 0\n",
      "2020-01-27 15:30:47,587 : INFO : EPOCH 5 - PROGRESS: at 2.88% examples, 178652 words/s, in_qsize 7, out_qsize 0\n",
      "2020-01-27 15:30:48,607 : INFO : EPOCH 5 - PROGRESS: at 4.29% examples, 177690 words/s, in_qsize 7, out_qsize 0\n",
      "2020-01-27 15:30:49,691 : INFO : EPOCH 5 - PROGRESS: at 5.83% examples, 179660 words/s, in_qsize 7, out_qsize 0\n",
      "2020-01-27 15:30:50,763 : INFO : EPOCH 5 - PROGRESS: at 7.42% examples, 181182 words/s, in_qsize 8, out_qsize 0\n",
      "2020-01-27 15:30:51,792 : INFO : EPOCH 5 - PROGRESS: at 8.99% examples, 183445 words/s, in_qsize 8, out_qsize 0\n",
      "2020-01-27 15:30:52,798 : INFO : EPOCH 5 - PROGRESS: at 10.40% examples, 182767 words/s, in_qsize 8, out_qsize 0\n",
      "2020-01-27 15:30:53,800 : INFO : EPOCH 5 - PROGRESS: at 11.76% examples, 181241 words/s, in_qsize 7, out_qsize 0\n",
      "2020-01-27 15:30:54,814 : INFO : EPOCH 5 - PROGRESS: at 13.16% examples, 181028 words/s, in_qsize 7, out_qsize 0\n",
      "2020-01-27 15:30:55,825 : INFO : EPOCH 5 - PROGRESS: at 14.67% examples, 182040 words/s, in_qsize 8, out_qsize 0\n",
      "2020-01-27 15:30:56,841 : INFO : EPOCH 5 - PROGRESS: at 16.11% examples, 182204 words/s, in_qsize 7, out_qsize 0\n",
      "2020-01-27 15:30:57,851 : INFO : EPOCH 5 - PROGRESS: at 17.57% examples, 181792 words/s, in_qsize 7, out_qsize 0\n",
      "2020-01-27 15:30:58,856 : INFO : EPOCH 5 - PROGRESS: at 19.01% examples, 182057 words/s, in_qsize 7, out_qsize 0\n",
      "2020-01-27 15:30:59,910 : INFO : EPOCH 5 - PROGRESS: at 20.48% examples, 181676 words/s, in_qsize 7, out_qsize 0\n",
      "2020-01-27 15:31:00,983 : INFO : EPOCH 5 - PROGRESS: at 22.04% examples, 182083 words/s, in_qsize 8, out_qsize 0\n",
      "2020-01-27 15:31:02,025 : INFO : EPOCH 5 - PROGRESS: at 23.54% examples, 182341 words/s, in_qsize 7, out_qsize 0\n",
      "2020-01-27 15:31:03,046 : INFO : EPOCH 5 - PROGRESS: at 24.88% examples, 181535 words/s, in_qsize 7, out_qsize 0\n",
      "2020-01-27 15:31:04,052 : INFO : EPOCH 5 - PROGRESS: at 26.29% examples, 181350 words/s, in_qsize 7, out_qsize 0\n",
      "2020-01-27 15:31:05,066 : INFO : EPOCH 5 - PROGRESS: at 27.78% examples, 181818 words/s, in_qsize 8, out_qsize 0\n",
      "2020-01-27 15:31:06,074 : INFO : EPOCH 5 - PROGRESS: at 29.18% examples, 181632 words/s, in_qsize 7, out_qsize 0\n",
      "2020-01-27 15:31:07,084 : INFO : EPOCH 5 - PROGRESS: at 30.70% examples, 182092 words/s, in_qsize 7, out_qsize 0\n",
      "2020-01-27 15:31:08,127 : INFO : EPOCH 5 - PROGRESS: at 32.14% examples, 181613 words/s, in_qsize 7, out_qsize 0\n",
      "2020-01-27 15:31:09,166 : INFO : EPOCH 5 - PROGRESS: at 33.60% examples, 181504 words/s, in_qsize 7, out_qsize 0\n",
      "2020-01-27 15:31:10,214 : INFO : EPOCH 5 - PROGRESS: at 35.09% examples, 181643 words/s, in_qsize 7, out_qsize 0\n",
      "2020-01-27 15:31:11,216 : INFO : EPOCH 5 - PROGRESS: at 36.54% examples, 181820 words/s, in_qsize 7, out_qsize 0\n",
      "2020-01-27 15:31:12,275 : INFO : EPOCH 5 - PROGRESS: at 37.93% examples, 181338 words/s, in_qsize 7, out_qsize 0\n",
      "2020-01-27 15:31:13,309 : INFO : EPOCH 5 - PROGRESS: at 39.28% examples, 180787 words/s, in_qsize 7, out_qsize 0\n",
      "2020-01-27 15:31:14,396 : INFO : EPOCH 5 - PROGRESS: at 40.82% examples, 180932 words/s, in_qsize 8, out_qsize 1\n",
      "2020-01-27 15:31:15,434 : INFO : EPOCH 5 - PROGRESS: at 42.36% examples, 181362 words/s, in_qsize 7, out_qsize 0\n",
      "2020-01-27 15:31:16,446 : INFO : EPOCH 5 - PROGRESS: at 43.85% examples, 181697 words/s, in_qsize 7, out_qsize 0\n",
      "2020-01-27 15:31:17,462 : INFO : EPOCH 5 - PROGRESS: at 45.21% examples, 181304 words/s, in_qsize 8, out_qsize 0\n",
      "2020-01-27 15:31:18,488 : INFO : EPOCH 5 - PROGRESS: at 46.63% examples, 181306 words/s, in_qsize 7, out_qsize 0\n",
      "2020-01-27 15:31:19,522 : INFO : EPOCH 5 - PROGRESS: at 48.12% examples, 181484 words/s, in_qsize 7, out_qsize 0\n",
      "2020-01-27 15:31:20,615 : INFO : EPOCH 5 - PROGRESS: at 49.67% examples, 181555 words/s, in_qsize 8, out_qsize 0\n",
      "2020-01-27 15:31:21,666 : INFO : EPOCH 5 - PROGRESS: at 51.25% examples, 181844 words/s, in_qsize 7, out_qsize 0\n",
      "2020-01-27 15:31:22,684 : INFO : EPOCH 5 - PROGRESS: at 52.66% examples, 181674 words/s, in_qsize 7, out_qsize 0\n",
      "2020-01-27 15:31:23,720 : INFO : EPOCH 5 - PROGRESS: at 54.08% examples, 181624 words/s, in_qsize 8, out_qsize 0\n",
      "2020-01-27 15:31:24,740 : INFO : EPOCH 5 - PROGRESS: at 55.58% examples, 181839 words/s, in_qsize 8, out_qsize 0\n",
      "2020-01-27 15:31:25,782 : INFO : EPOCH 5 - PROGRESS: at 57.00% examples, 181749 words/s, in_qsize 7, out_qsize 0\n",
      "2020-01-27 15:31:26,783 : INFO : EPOCH 5 - PROGRESS: at 58.41% examples, 181850 words/s, in_qsize 7, out_qsize 0\n",
      "2020-01-27 15:31:27,830 : INFO : EPOCH 5 - PROGRESS: at 59.78% examples, 181586 words/s, in_qsize 8, out_qsize 0\n",
      "2020-01-27 15:31:28,843 : INFO : EPOCH 5 - PROGRESS: at 61.24% examples, 181649 words/s, in_qsize 6, out_qsize 1\n",
      "2020-01-27 15:31:29,887 : INFO : EPOCH 5 - PROGRESS: at 62.75% examples, 181738 words/s, in_qsize 7, out_qsize 0\n",
      "2020-01-27 15:31:30,898 : INFO : EPOCH 5 - PROGRESS: at 64.20% examples, 181805 words/s, in_qsize 7, out_qsize 0\n",
      "2020-01-27 15:31:31,928 : INFO : EPOCH 5 - PROGRESS: at 65.70% examples, 181938 words/s, in_qsize 7, out_qsize 0\n",
      "2020-01-27 15:31:32,977 : INFO : EPOCH 5 - PROGRESS: at 67.08% examples, 181696 words/s, in_qsize 8, out_qsize 0\n",
      "2020-01-27 15:31:33,984 : INFO : EPOCH 5 - PROGRESS: at 68.61% examples, 181926 words/s, in_qsize 7, out_qsize 0\n",
      "2020-01-27 15:31:35,036 : INFO : EPOCH 5 - PROGRESS: at 70.04% examples, 181824 words/s, in_qsize 7, out_qsize 0\n",
      "2020-01-27 15:31:36,071 : INFO : EPOCH 5 - PROGRESS: at 71.52% examples, 181934 words/s, in_qsize 7, out_qsize 0\n",
      "2020-01-27 15:31:37,104 : INFO : EPOCH 5 - PROGRESS: at 72.92% examples, 181769 words/s, in_qsize 7, out_qsize 0\n",
      "2020-01-27 15:31:38,115 : INFO : EPOCH 5 - PROGRESS: at 74.30% examples, 181683 words/s, in_qsize 7, out_qsize 0\n",
      "2020-01-27 15:31:39,201 : INFO : EPOCH 5 - PROGRESS: at 75.83% examples, 181620 words/s, in_qsize 7, out_qsize 0\n",
      "2020-01-27 15:31:40,305 : INFO : EPOCH 5 - PROGRESS: at 77.39% examples, 181625 words/s, in_qsize 7, out_qsize 0\n",
      "2020-01-27 15:31:41,396 : INFO : EPOCH 5 - PROGRESS: at 78.95% examples, 181674 words/s, in_qsize 7, out_qsize 0\n",
      "2020-01-27 15:31:42,425 : INFO : EPOCH 5 - PROGRESS: at 80.40% examples, 181665 words/s, in_qsize 7, out_qsize 0\n",
      "2020-01-27 15:31:43,426 : INFO : EPOCH 5 - PROGRESS: at 81.78% examples, 181619 words/s, in_qsize 7, out_qsize 0\n",
      "2020-01-27 15:31:44,432 : INFO : EPOCH 5 - PROGRESS: at 83.19% examples, 181556 words/s, in_qsize 7, out_qsize 0\n",
      "2020-01-27 15:31:45,477 : INFO : EPOCH 5 - PROGRESS: at 84.67% examples, 181615 words/s, in_qsize 7, out_qsize 0\n"
     ]
    },
    {
     "name": "stderr",
     "output_type": "stream",
     "text": [
      "2020-01-27 15:31:46,489 : INFO : EPOCH 5 - PROGRESS: at 86.13% examples, 181668 words/s, in_qsize 7, out_qsize 0\n",
      "2020-01-27 15:31:47,568 : INFO : EPOCH 5 - PROGRESS: at 87.57% examples, 181513 words/s, in_qsize 8, out_qsize 0\n",
      "2020-01-27 15:31:48,572 : INFO : EPOCH 5 - PROGRESS: at 89.07% examples, 181691 words/s, in_qsize 7, out_qsize 0\n",
      "2020-01-27 15:31:49,592 : INFO : EPOCH 5 - PROGRESS: at 90.45% examples, 181599 words/s, in_qsize 7, out_qsize 0\n",
      "2020-01-27 15:31:50,611 : INFO : EPOCH 5 - PROGRESS: at 91.89% examples, 181621 words/s, in_qsize 6, out_qsize 1\n",
      "2020-01-27 15:31:51,621 : INFO : EPOCH 5 - PROGRESS: at 93.35% examples, 181665 words/s, in_qsize 8, out_qsize 0\n",
      "2020-01-27 15:31:52,645 : INFO : EPOCH 5 - PROGRESS: at 94.76% examples, 181565 words/s, in_qsize 8, out_qsize 0\n",
      "2020-01-27 15:31:53,676 : INFO : EPOCH 5 - PROGRESS: at 96.24% examples, 181557 words/s, in_qsize 8, out_qsize 0\n",
      "2020-01-27 15:31:54,727 : INFO : EPOCH 5 - PROGRESS: at 97.70% examples, 181603 words/s, in_qsize 7, out_qsize 0\n",
      "2020-01-27 15:31:55,757 : INFO : EPOCH 5 - PROGRESS: at 99.14% examples, 181598 words/s, in_qsize 7, out_qsize 0\n",
      "2020-01-27 15:31:56,223 : INFO : worker thread finished; awaiting finish of 3 more threads\n",
      "2020-01-27 15:31:56,267 : INFO : worker thread finished; awaiting finish of 2 more threads\n",
      "2020-01-27 15:31:56,280 : INFO : worker thread finished; awaiting finish of 1 more threads\n",
      "2020-01-27 15:31:56,287 : INFO : worker thread finished; awaiting finish of 0 more threads\n",
      "2020-01-27 15:31:56,288 : INFO : EPOCH - 5 : training on 17910999 raw words (12869218 effective words) took 70.8s, 181794 effective words/s\n",
      "2020-01-27 15:31:56,288 : INFO : training on a 89554995 raw words (64349778 effective words) took 353.4s, 182086 effective words/s\n",
      "2020-01-27 15:31:56,985 : INFO : precomputing L2-norms of word weight vectors\n",
      "2020-01-27 15:31:57,002 : INFO : precomputing L2-norms of ngram weight vectors\n",
      "2020-01-27 15:31:58,914 : INFO : saving FastText object under ft_model_300features, separately None\n",
      "2020-01-27 15:31:58,924 : INFO : storing np array 'vectors_ngrams' to ft_model_300features.wv.vectors_ngrams.npy\n",
      "2020-01-27 15:32:05,467 : INFO : not storing attribute vectors_ngrams_norm\n",
      "2020-01-27 15:32:05,468 : INFO : not storing attribute vectors_norm\n",
      "2020-01-27 15:32:05,469 : INFO : not storing attribute vectors_vocab_norm\n",
      "2020-01-27 15:32:05,469 : INFO : not storing attribute buckets_word\n",
      "2020-01-27 15:32:05,471 : INFO : storing np array 'vectors_ngrams_lockf' to ft_model_300features.trainables.vectors_ngrams_lockf.npy\n",
      "2020-01-27 15:32:12,890 : INFO : saved ft_model_300features\n"
     ]
    }
   ],
   "source": [
    "from gensim.models import fasttext\n",
    "import logging \n",
    "\n",
    "# Configure logging so that Word2Vec creates nice output messages\n",
    "logging.basicConfig(format='%(asctime)s : %(levelname)s : %(message)s',\\\n",
    "    level=logging.INFO)\n",
    "\n",
    "# Set parameter values\n",
    "embed_size = 300 # Word vector dimensionality\n",
    "window_context = 10 # Context window size\n",
    "num_workers = 4 # Number of threads to run in parallel\n",
    "min_word_count = 40 # Minimum word count\n",
    "downsampling = 1e-3 # Downsample setting for frequent words\n",
    "\n",
    "print(\"Training model...\")\n",
    "ft_model = fasttext.FastText(sentences, workers=num_workers, \\\n",
    "                              size=embed_size, window=window_context, \n",
    "                              min_count = min_word_count, sample=downsampling)\n",
    "\n",
    "# Calling init_sims makes the model much more memory efficient if the model \n",
    "# is not expected to be trained any further\n",
    "ft_model.init_sims(replace=True)\n",
    "\n",
    "# save the model for future use\n",
    "model_name = \"ft_model_300features\"\n",
    "ft_model.save(model_name)"
   ]
  },
  {
   "cell_type": "code",
   "execution_count": 50,
   "metadata": {},
   "outputs": [
    {
     "data": {
      "text/plain": [
       "{'movie': ['film', 'moviegoer', 'moviegoers', 'movies', 'flick'],\n",
       " 'sex': ['sexual', 'sexism', 'sexes', 'sexually', 'sexuality'],\n",
       " 'genre': ['subgenre', 'genres', 'thrillers', 'category', 'horror'],\n",
       " 'scary': ['scarce', 'scar', 'creepy', 'gory', 'scaring'],\n",
       " 'romance': ['romanticism', 'romantic', 'romances', 'romano', 'roman'],\n",
       " 'action': ['actioner', 'fraction', 'actions', 'satisfaction', 'extinction'],\n",
       " 'indie': ['independent', 'indigo', 'indian', 'indies', 'indy'],\n",
       " 'director': ['directorial', 'directors', 'direct', 'filmmaker', 'directs'],\n",
       " 'country': ['countryside', 'countries', 'county', 'countess', 'communion'],\n",
       " 'france': ['trance', 'francis', 'francisco', 'entrance', 'francois'],\n",
       " 'england': ['ireland', 'poland', 'inland', 'scotland', 'finland'],\n",
       " 'germany': ['germans', 'german', 'europe', 'europa', 'european'],\n",
       " 'man': ['boman', 'manu', 'gunman', 'madman', 'caveman'],\n",
       " 'woman': ['womanizer', 'boman', 'womanizing', 'man', 'lady'],\n",
       " 'kitchen': ['chen', 'pitcher', 'bedroom', 'bathroom', 'gretchen'],\n",
       " 'city': ['audacity', 'capacity', 'cities', 'atrocity', 'town'],\n",
       " 'berlin': ['merlin', 'berkeley', 'joplin', 'brolin', 'carlin'],\n",
       " 'paris': ['parisian', 'paradox', 'parlor', 'solaris', 'kalifornia']}"
      ]
     },
     "execution_count": 50,
     "metadata": {},
     "output_type": "execute_result"
    }
   ],
   "source": [
    "# view similar words based on gensim's model (just for curiosity's sake)\n",
    "similar_words = {search_term: [item[0] for item in ft_model.wv.most_similar([search_term], topn=5)]\n",
    "                     for search_term in ['movie', 'sex', 'genre', 'scary', 'romance', 'action', \n",
    "                                         'indie', 'director', 'country', 'france', 'england', \n",
    "                                         'germany', 'man', 'woman', 'kitchen', 'city', 'berlin', 'paris']}\n",
    "similar_words"
   ]
  },
  {
   "cell_type": "markdown",
   "metadata": {},
   "source": [
    "On first look, it seems that FastText performs better than the vanilla Word2Vec. "
   ]
  },
  {
   "cell_type": "markdown",
   "metadata": {},
   "source": [
    "#### Predictions using Vector Averaging"
   ]
  },
  {
   "cell_type": "markdown",
   "metadata": {},
   "source": [
    "##### Get Averages"
   ]
  },
  {
   "cell_type": "code",
   "execution_count": 51,
   "metadata": {},
   "outputs": [
    {
     "name": "stdout",
     "output_type": "stream",
     "text": [
      "Review 0 of 15000\n"
     ]
    },
    {
     "name": "stderr",
     "output_type": "stream",
     "text": [
      "C:\\Users\\aksin\\Anaconda3\\lib\\site-packages\\ipykernel_launcher.py:21: DeprecationWarning: Call to deprecated `__getitem__` (Method will be removed in 4.0.0, use self.wv.__getitem__() instead).\n"
     ]
    },
    {
     "name": "stdout",
     "output_type": "stream",
     "text": [
      "Review 1000 of 15000\n",
      "Review 2000 of 15000\n",
      "Review 3000 of 15000\n",
      "Review 4000 of 15000\n",
      "Review 5000 of 15000\n",
      "Review 6000 of 15000\n",
      "Review 7000 of 15000\n",
      "Review 8000 of 15000\n",
      "Review 9000 of 15000\n",
      "Review 10000 of 15000\n",
      "Review 11000 of 15000\n",
      "Review 12000 of 15000\n",
      "Review 13000 of 15000\n",
      "Review 14000 of 15000\n",
      "Review 0 of 10000\n",
      "Review 1000 of 10000\n",
      "Review 2000 of 10000\n",
      "Review 3000 of 10000\n",
      "Review 4000 of 10000\n",
      "Review 5000 of 10000\n",
      "Review 6000 of 10000\n",
      "Review 7000 of 10000\n",
      "Review 8000 of 10000\n",
      "Review 9000 of 10000\n"
     ]
    }
   ],
   "source": [
    "# get review-level embeddings for the training set\n",
    "clean_train_reviews = [review_to_wordlist(review, remove_stopwords=True) for review in X_train]\n",
    "training_data_vectors = averaged_review_vectorizer(reviews=clean_train_reviews,\n",
    "                                                   model = ft_model, \n",
    "                                                   num_features = embed_size)\n",
    "\n",
    "# get review-level embeddings for the test set\n",
    "clean_test_reviews = [review_to_wordlist(review, remove_stopwords=True) for review in X_test]\n",
    "test_data_vectors = averaged_review_vectorizer(reviews=clean_test_reviews, \n",
    "                                               model = ft_model, \n",
    "                                               num_features = embed_size)"
   ]
  },
  {
   "cell_type": "markdown",
   "metadata": {},
   "source": [
    "##### Random Forest Classifier"
   ]
  },
  {
   "cell_type": "code",
   "execution_count": 52,
   "metadata": {},
   "outputs": [],
   "source": [
    "from sklearn.ensemble import RandomForestClassifier\n",
    "\n",
    "forest = RandomForestClassifier(n_estimators=100)\n",
    "forest = forest.fit(training_data_vectors, y_train)\n",
    "\n",
    "# Predict sentiment on train and test sets\n",
    "y_train_pred = forest.predict(training_data_vectors)\n",
    "y_test_pred = forest.predict(test_data_vectors)"
   ]
  },
  {
   "cell_type": "markdown",
   "metadata": {},
   "source": [
    "##### Evaluate the Model"
   ]
  },
  {
   "cell_type": "code",
   "execution_count": 53,
   "metadata": {
    "scrolled": false
   },
   "outputs": [
    {
     "data": {
      "image/png": "[encoded data removed]",
      "text/plain": [
       "<Figure size 1008x432 with 2 Axes>"
      ]
     },
     "metadata": {
      "needs_background": "light"
     },
     "output_type": "display_data"
    }
   ],
   "source": [
    "fig, (axis1, axis2) = plt.subplots(nrows=1, ncols=2, figsize=(14, 6))\n",
    "plot_confusion_matrix(y_train, y_train_pred, ax=axis1, \n",
    "                      title='Confusion matrix (train data)')\n",
    "plot_confusion_matrix(y_test, y_test_pred, ax=axis2, \n",
    "                      title='Confusion matrix (test data)')"
   ]
  },
  {
   "cell_type": "code",
   "execution_count": 54,
   "metadata": {},
   "outputs": [
    {
     "name": "stdout",
     "output_type": "stream",
     "text": [
      "\n",
      "Classification Report: \n",
      "               precision    recall  f1-score   support\n",
      "\n",
      "           0       0.84      0.81      0.82      5055\n",
      "           1       0.81      0.84      0.83      4945\n",
      "\n",
      "    accuracy                           0.82     10000\n",
      "   macro avg       0.83      0.83      0.82     10000\n",
      "weighted avg       0.83      0.82      0.82     10000\n",
      "\n"
     ]
    }
   ],
   "source": [
    "print('\\nClassification Report: \\n', classification_report(y_test, y_test_pred))"
   ]
  },
  {
   "cell_type": "markdown",
   "metadata": {},
   "source": [
    "Simple BOW still undefeated. I do not expect the Vector Quantization to perform that much better given these results and am going to forego that since it's resource expensive and takes way too long"
   ]
  },
  {
   "cell_type": "markdown",
   "metadata": {},
   "source": [
    "### GloVe (Global Vectors) Model\n",
    "\n",
    "This is an unsupervised learning model, which can be used to obtain dense word vectors similar to Word2Vec. However, in this model, training is performed on aggregated global word-word co-occurrence matrix. \n",
    "\n",
    "Frequency-based methods like Latent Semantic Analysis (LSA) efficiently leverage statistical information but do relatively poorly on word analogy tasks like skip-gram, whereas skip-gram models poorly use the statistics of corpus on a global level. \n",
    "\n",
    "GloVe models aims to remedy these issues, by fkrst creating a word-context co-occurence matrix consisting on (word, context) pairs such that each elmeent in this matrix represents how often a word occurs with the context, e.g., a sequence of words. It then applies matrix factorization (as in SVD) to approximate this matrix. "
   ]
  },
  {
   "cell_type": "code",
   "execution_count": 55,
   "metadata": {},
   "outputs": [
    {
     "name": "stdout",
     "output_type": "stream",
     "text": [
      "Total word vectors:  684831\n"
     ]
    }
   ],
   "source": [
    "import spacy\n",
    "import en_core_web_lg\n",
    "\n",
    "nlp = en_core_web_lg.load()\n",
    "total_vectors = len(nlp.vocab.vectors)\n",
    "print('Total word vectors: ', total_vectors)"
   ]
  },
  {
   "cell_type": "code",
   "execution_count": 60,
   "metadata": {},
   "outputs": [],
   "source": [
    "from bs4 import BeautifulSoup\n",
    "import nltk\n",
    "import re\n",
    "import numpy as np\n",
    "\n",
    "wpt = nltk.WordPunctTokenizer()\n",
    "\n",
    "# convert from list to set b/c in Python searching a set is much faster than searching a list\n",
    "# Not shown here, but the difference in speed for this data set is nearly 4-fold, i.e., \n",
    "# searching the list takes abou 4x longer than searching a set. \n",
    "stop_words = set(nltk.corpus.stopwords.words('english'))\n",
    "\n",
    "def clean_text(text):\n",
    "    # strip html tags\n",
    "    text = BeautifulSoup(text, \"html.parser\").get_text()\n",
    "    \n",
    "    # lower case, remove special characters, and strip leading and trailing whitespaces\n",
    "    text = re.sub(r'[^a-zA-Z\\s]', ' ', text, re.I|re.A)\n",
    "    text = text.lower()\n",
    "    text = text.strip()\n",
    "    \n",
    "    # tokenize\n",
    "    tokens = wpt.tokenize(text)\n",
    "    \n",
    "    # filter out stopwords\n",
    "    filtered_tokens = [word for word in tokens if word not in stop_words]\n",
    "    \n",
    "    # Join text back\n",
    "    text = ' '.join(filtered_tokens)\n",
    "    return text\n",
    "\n",
    "clean_corpus = np.vectorize(clean_text)"
   ]
  },
  {
   "cell_type": "code",
   "execution_count": 61,
   "metadata": {},
   "outputs": [],
   "source": [
    "# Use both the labeled and unlabeled training data\n",
    "clean_train_reviews = clean_corpus(X_train)\n",
    "clean_unlabeled_reviews = clean_corpus(unlabeled_train['review'])\n",
    "clean_reviews = np.concatenate([clean_train_reviews, clean_unlabeled_reviews])\n",
    "\n",
    "unique_words = set([word for sublist in [review.split() for review in clean_reviews] for word in sublist])"
   ]
  },
  {
   "cell_type": "code",
   "execution_count": 62,
   "metadata": {},
   "outputs": [],
   "source": [
    "# get glove word embeddings\n",
    "word_glove_vectors = np.array([nlp(word).vector for word in unique_words])"
   ]
  },
  {
   "cell_type": "code",
   "execution_count": 63,
   "metadata": {},
   "outputs": [],
   "source": [
    "# get review-level word embeddings\n",
    "# Nice thing about spacy GloVe implementation is that we don't have to \n",
    "# write a function to average embeddings. Can be done using spacy\n",
    "training_glove_vectors = np.array([nlp(str(review)).vector for review in clean_train_reviews])"
   ]
  },
  {
   "cell_type": "code",
   "execution_count": 64,
   "metadata": {},
   "outputs": [],
   "source": [
    "# Clean test reviews and get review-level word embeddings\n",
    "clean_test_reviews = clean_corpus(X_test)\n",
    "test_glove_vectors = np.array([nlp(str(review)).vector for review in clean_test_reviews])"
   ]
  },
  {
   "cell_type": "markdown",
   "metadata": {},
   "source": [
    "##### Random Forest Classifier"
   ]
  },
  {
   "cell_type": "code",
   "execution_count": 65,
   "metadata": {},
   "outputs": [],
   "source": [
    "from sklearn.ensemble import RandomForestClassifier\n",
    "\n",
    "forest = RandomForestClassifier(n_estimators=100)\n",
    "forest = forest.fit(training_glove_vectors, y_train)"
   ]
  },
  {
   "cell_type": "markdown",
   "metadata": {},
   "source": [
    "##### Evaluate the Model"
   ]
  },
  {
   "cell_type": "code",
   "execution_count": 66,
   "metadata": {
    "scrolled": true
   },
   "outputs": [],
   "source": [
    "# Predict sentiment on train and test sets\n",
    "y_train_pred = forest.predict(training_glove_vectors)\n",
    "y_test_pred = forest.predict(test_glove_vectors)"
   ]
  },
  {
   "cell_type": "code",
   "execution_count": 67,
   "metadata": {},
   "outputs": [
    {
     "data": {
      "image/png": "[encoded data removed]",
      "text/plain": [
       "<Figure size 1008x432 with 2 Axes>"
      ]
     },
     "metadata": {
      "needs_background": "light"
     },
     "output_type": "display_data"
    }
   ],
   "source": [
    "fig, (axis1, axis2) = plt.subplots(nrows=1, ncols=2, figsize=(14, 6))\n",
    "plot_confusion_matrix(y_train, y_train_pred, ax=axis1, \n",
    "                      title='Confusion matrix (train data)')\n",
    "plot_confusion_matrix(y_test, y_test_pred, ax=axis2, \n",
    "                      title='Confusion matrix (test data)')"
   ]
  },
  {
   "cell_type": "code",
   "execution_count": 68,
   "metadata": {},
   "outputs": [
    {
     "name": "stdout",
     "output_type": "stream",
     "text": [
      "\n",
      "Classification Report: \n",
      "               precision    recall  f1-score   support\n",
      "\n",
      "           0       0.83      0.80      0.82      5055\n",
      "           1       0.80      0.83      0.82      4945\n",
      "\n",
      "    accuracy                           0.82     10000\n",
      "   macro avg       0.82      0.82      0.82     10000\n",
      "weighted avg       0.82      0.82      0.82     10000\n",
      "\n"
     ]
    }
   ],
   "source": [
    "print('\\nClassification Report: \\n', classification_report(y_test, y_test_pred))"
   ]
  },
  {
   "cell_type": "markdown",
   "metadata": {},
   "source": [
    "Amazingly, BOW is still the best model"
   ]
  },
  {
   "cell_type": "code",
   "execution_count": null,
   "metadata": {},
   "outputs": [],
   "source": []
  }
 ],
 "metadata": {
  "kernelspec": {
   "display_name": "TensorFlow-GPU-2.0.0",
   "language": "python",
   "name": "tf-gpu"
  },
  "language_info": {
   "codemirror_mode": {
    "name": "ipython",
    "version": 3
   },
   "file_extension": ".py",
   "mimetype": "text/x-python",
   "name": "python",
   "nbconvert_exporter": "python",
   "pygments_lexer": "ipython3",
   "version": "3.7.6"
  }
 },
 "nbformat": 4,
 "nbformat_minor": 2
}
